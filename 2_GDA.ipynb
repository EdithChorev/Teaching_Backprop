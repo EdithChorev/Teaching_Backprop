{
 "cells": [
  {
   "cell_type": "markdown",
   "metadata": {},
   "source": [
    "# DSR 20 - Backprop course\n",
    "\n",
    "## 2. perceptron backprop\n",
    "\n"
   ]
  },
  {
   "cell_type": "code",
   "execution_count": null,
   "metadata": {},
   "outputs": [],
   "source": [
    "from sklearn.model_selection import train_test_split\n",
    "from sklearn.metrics import classification_report\n",
    "from sklearn.datasets import make_blobs\n",
    "import matplotlib.pyplot as plt\n",
    "import numpy as np"
   ]
  },
  {
   "cell_type": "code",
   "execution_count": null,
   "metadata": {},
   "outputs": [],
   "source": [
    "class Perceptron:\n",
    "    def __init__(self, N,alpha=0.1):\n",
    "        # initialize the weight matrix and store the learning rate\n",
    "        self.W = np.random.randn(N, 1)\n",
    "        self.alpha = alpha\n",
    "        \n",
    "\n",
    "    def sigmoid_activation(self, x):\n",
    "        # compute the sigmoid activation value for a given input\n",
    "        ### ENTER YOUR CODE HERE\n",
    "        pass\n",
    "\n",
    "    def sigmoid_deriv(self, x):\n",
    "        # compute the derivative of the sigmoid function ASSUMING\n",
    "        # that the input `x` has already been passed through the sigmoid\n",
    "        # activation function\n",
    "         ### ENTER YOUR CODE HERE\n",
    "        pass\n",
    "    \n",
    "    def predict(self,X):\n",
    "        # take the dot product between our features and weight matrix\n",
    "         ### ENTER YOUR CODE HERE\n",
    "         \n",
    "        \n",
    "        # return the predictions\n",
    "        return preds\n",
    "            \n",
    "    def fit(self, X, y,epochs):\n",
    "        # initialize our weight matrix and list of losses\n",
    "        print(\"training...\")\n",
    "       \n",
    "        # loop over the desired number of epochs\n",
    "        for e in np.arange(0, epochs):\n",
    "            \n",
    "            preds = self.predict(X)\n",
    "            # now that we have our predictions, we need to determine the\n",
    "            # `error`, which is the difference between our predictions and\n",
    "            # the true values\n",
    "            error = preds - y\n",
    "            loss = 0.5*np.sum(error ** 2)\n",
    "            \n",
    "            # the gradient descent update is the dot product between our\n",
    "            # (1) features and (2) the error of the sigmoid derivative of\n",
    "            # our predictions\n",
    "            d = error * self.sigmoid_deriv(preds)\n",
    "            gradient = np.dot(X.T,d)#X.T.dot(d)\n",
    "            # in the update stage, all we need to do is \"nudge\" the weight\n",
    "            # matrix in the negative direction of the gradient (hence the\n",
    "            # term \"gradient descent\" by taking a small step towards a set\n",
    "            # of \"more optimal\" parameters\n",
    "            self.W += -self.alpha * gradient\n",
    "            # check to see if an update should be displayed\n",
    "            if e == 0 or (e + 1) % 1 == 0:\n",
    "                print(\"epoch= \",int(e+1),\", loss= \",loss)\n",
    "        "
   ]
  },
  {
   "cell_type": "code",
   "execution_count": null,
   "metadata": {},
   "outputs": [],
   "source": [
    "# generate a 2-class classification problem with 1,000 data points,\n",
    "# where each data point is a 2D feature vector\n",
    "(X, y) = make_blobs(n_samples=1600, n_features=2, centers=2,\n",
    "cluster_std=1.5, random_state=42)\n",
    "y = y.reshape((y.shape[0], 1))\n",
    "\n",
    "# insert a column of 1's as the last entry in the feature\n",
    "# matrix -- so we can train the bias as part of the weights\n",
    "X = np.c_[X, np.ones((X.shape[0]))]\n",
    "          \n",
    "# partition the data into training and testing splits using 50% of\n",
    "# the data for training and the remaining 50% for testing\n",
    "(trainX, testX, trainY, testY) = train_test_split(X, y, test_size=0.5, random_state=42)"
   ]
  },
  {
   "cell_type": "markdown",
   "metadata": {},
   "source": [
    "### Modify Perceptron Class such that you save the training losses and return them "
   ]
  },
  {
   "cell_type": "code",
   "execution_count": null,
   "metadata": {},
   "outputs": [],
   "source": [
    "epochs = 100\n",
    "alpha = 0.01\n",
    "# create Perceptron object and train\n",
    "p = Perceptron(3, alpha=alpha)\n",
    "losses = p.fit(trainX, trainY, epochs=epochs)"
   ]
  },
  {
   "cell_type": "code",
   "execution_count": null,
   "metadata": {},
   "outputs": [],
   "source": [
    "# evaluate our model\n",
    "print(\"evaluating...\")\n",
    "preds = p.predict(testX)\n",
    "# apply a step function to threshold the outputs to binary\n",
    "# class labels\n",
    "preds[preds <= 0.5] = 0\n",
    "preds[preds > 0] = 1\n",
    "print(classification_report(testY, preds))"
   ]
  },
  {
   "cell_type": "code",
   "execution_count": null,
   "metadata": {},
   "outputs": [],
   "source": [
    "plt.scatter(testX[:, 0], testX[:, 1], marker=\"o\", c=testY[:, 0], s=30)"
   ]
  },
  {
   "cell_type": "code",
   "execution_count": null,
   "metadata": {},
   "outputs": [],
   "source": [
    "plt.plot(np.arange(0, epochs), losses)\n",
    "plt.title(\"Training Loss\")\n",
    "plt.xlabel(\"Epoch #\")\n",
    "plt.ylabel(\"Loss\")\n",
    "plt.show()"
   ]
  },
  {
   "cell_type": "markdown",
   "metadata": {},
   "source": [
    "### Gradient Descent can be very slow and wasteful.\n",
    "#### Especially if you are dealing with big data sets the computation becomes very coastly, yielding huge matrix calculations \n",
    "$$ W \\cdot{X}   $$\n",
    "#### the following is a more efficient way to perform GD with faster convergence.\n",
    "\n",
    "## Stochastic Gradient descent\n",
    "### instead of updating the weights on an entire epoch we do more updates on mini-batches of data.\n",
    "### This way we have multiply updates per epoch.\n",
    "\n",
    "#### implement sgd in our perceptron class (batches of 16)"
   ]
  },
  {
   "cell_type": "code",
   "execution_count": null,
   "metadata": {},
   "outputs": [],
   "source": [
    "## enter modified Perceptron Class here"
   ]
  },
  {
   "cell_type": "code",
   "execution_count": null,
   "metadata": {},
   "outputs": [],
   "source": [
    "# create a perceptron object and train it save the losses as losses2 and compare the \n",
    "# losses of the current and former percptrons\n",
    "epochs = 100\n",
    "alpha = 0.01\n"
   ]
  },
  {
   "cell_type": "code",
   "execution_count": null,
   "metadata": {},
   "outputs": [],
   "source": [
    "#plot the losses of both perceptrons"
   ]
  },
  {
   "cell_type": "code",
   "execution_count": null,
   "metadata": {},
   "outputs": [],
   "source": []
  }
 ],
 "metadata": {
  "kernelspec": {
   "display_name": "Python 3",
   "language": "python",
   "name": "python3"
  },
  "language_info": {
   "codemirror_mode": {
    "name": "ipython",
    "version": 3
   },
   "file_extension": ".py",
   "mimetype": "text/x-python",
   "name": "python",
   "nbconvert_exporter": "python",
   "pygments_lexer": "ipython3",
   "version": "3.6.8"
  }
 },
 "nbformat": 4,
 "nbformat_minor": 2
}
