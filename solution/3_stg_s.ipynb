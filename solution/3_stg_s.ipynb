{
 "cells": [
  {
   "cell_type": "markdown",
   "metadata": {},
   "source": [
    "### DSR 21 - Backprop course\n",
    "\n",
    "## 3. NN and backprop\n",
    "### Here we are going to implement a Multy Layered Neural Netwrok.\n",
    "### We will use and extreme case of SGD where the batch size is 1 (i.e updating weights after every sample)"
   ]
  },
  {
   "cell_type": "code",
   "execution_count": 2,
   "metadata": {},
   "outputs": [],
   "source": [
    "import numpy as np\n",
    "import matplotlib.pyplot as plt"
   ]
  },
  {
   "cell_type": "markdown",
   "metadata": {},
   "source": [
    "### multi layer perceptron class:\n",
    "\n",
    "loss function:\n",
    "$$ loss = 0.5(pred-true)^{2}$$\n"
   ]
  },
  {
   "cell_type": "code",
   "execution_count": 52,
   "metadata": {},
   "outputs": [],
   "source": [
    "class NeuralNetwork:\n",
    "    def __init__(self, layers, alpha=0.1):\n",
    "    # initialize the list of weights matrices, then store the\n",
    "    # network architecture and learning rate\n",
    "        self.W = []\n",
    "        self.layers = layers\n",
    "        self.alpha = alpha\n",
    "        # start looping from the index of the first layer but\n",
    "        # stop before we reach the last two layers\n",
    "        for i in np.arange(0, len(layers) - 2):\n",
    "            # randomly initialize a weight matrix connecting the\n",
    "            # number of nodes in each respective layer together,\n",
    "            # adding an extra node for the bias\n",
    "            w = np.random.randn(layers[i] + 1, layers[i + 1] + 1)\n",
    "            self.W.append(w / np.sqrt(layers[i]))\n",
    "        # in this example we let the last two layers   \n",
    "        # connections have no bias\n",
    "        w = np.random.randn(layers[-2] + 1, layers[-1])\n",
    "        self.W.append(w / np.sqrt(layers[-2]))\n",
    "    \n",
    "    def __repr__(self):\n",
    "        # construct and return a string that represents the network\n",
    "        # architecture\n",
    "        return \"NN architecture: {}\".format(\n",
    "        \"-\".join(str(l) for l in self.layers))\n",
    "    \n",
    "    def sigmoid(self, x):\n",
    "        # compute and return the sigmoid activation value for a\n",
    "        # given input value\n",
    "        return 1 / (1 + np.exp(-x))\n",
    "    \n",
    "    def sigmoid_deriv(self, s):\n",
    "        # compute the derivative of the sigmoid function ASSUMING\n",
    "        # that `s` has already been passed through the `sigmoid`\n",
    "        # function\n",
    "        return s * (1 - s)\n",
    "    \n",
    "    def fit(self, X, y, epochs=1000, displayUpdate=100):\n",
    "        # insert a column of 1's as the last entry in the feature\n",
    "        # matrix -- this little trick allows us to treat the bias\n",
    "        # as a trainable parameter within the weight matrix\n",
    "        \n",
    "        X = np.c_[X, np.ones((X.shape[0]))]\n",
    "        losses = []\n",
    "        # loop over the desired number of epochs\n",
    "        for epoch in np.arange(0, epochs):\n",
    "            # loop over each individual data point and train\n",
    "            # our network on it\n",
    "            for (x, target) in zip(X, y):\n",
    "                self.fit_partial(x, target)\n",
    "                # check to see if we should display a training update\n",
    "            if epoch == 0 or (epoch + 1) % displayUpdate == 0:\n",
    "                loss = self.calculate_loss(X, y)\n",
    "                print(\"[Training: ] epoch=\", epoch+1, \", loss=\",loss)\n",
    "                losses.append(loss)  \n",
    "        return losses\n",
    "                    \n",
    "    def fit_partial(self, x, y):\n",
    "        # construct our list of output activations for each layer\n",
    "        # as our data point flows through the network; the first\n",
    "        # activation is a special case -- it's just the input\n",
    "        # feature vector itself\n",
    "        A = [np.atleast_2d(x)]\n",
    "        # FEEDFORWARD:\n",
    "        # loop over the layers in the network\n",
    "        for layer in np.arange(0, len(self.W)):\n",
    "            # feedforward the activation at the current layer by\n",
    "            # taking the dot product between the activation and\n",
    "            # the weight matrix -- this is called the \"net input\"\n",
    "            # to the current layer\n",
    "            net = A[layer].dot(self.W[layer])\n",
    "            # computing the \"net output\" is simply applying our\n",
    "            # nonlinear activation function to the net input\n",
    "            out = self.sigmoid(net)\n",
    "            # once we have the net output, add it to our list of\n",
    "            # activations\n",
    "            A.append(out)\n",
    "\n",
    "        # BACKPROPAGATION\n",
    "        # the first phase of backpropagation is to compute the\n",
    "        # difference between our *prediction* (the final output\n",
    "        # activation in the activations list) and the true target\n",
    "        # value\n",
    "        derror = A[-1] - y\n",
    "\n",
    "        # from here, we need to apply the chain rule and build our\n",
    "        # list of deltas `D`; the first entry in the deltas is\n",
    "        # simply the error of the output layer times the derivative\n",
    "        # of our activation function for the output value\n",
    "        D = [derror * self.sigmoid_deriv(A[-1])]\n",
    "        # once you understand the chain rule it becomes super easy\n",
    "        # to implement with a `for` loop -- simply loop over the\n",
    "        # layers in reverse order (ignoring the last two since we\n",
    "        # already have taken them into account)\n",
    "        for layer in np.arange(len(A) - 2, 0, -1):\n",
    "            # the delta for the current layer is equal to the delta\n",
    "            # of the *previous layer* dotted with the weight matrix\n",
    "            # of the current layer, followed by multiplying the delta\n",
    "            # by the derivative of the nonlinear activation function\n",
    "            # for the activations of the current layer\n",
    "            delta = D[-1].dot(self.W[layer].T)\n",
    "            delta = delta * self.sigmoid_deriv(A[layer])\n",
    "            D.append(delta)\n",
    "        # since we looped over our layers in reverse order we need to\n",
    "        # reverse the deltas\n",
    "        D = D[::-1]\n",
    "        # WEIGHT UPDATE PHASE\n",
    "        # loop over the layers\n",
    "        for layer in np.arange(0, len(self.W)):\n",
    "        # update our weights by taking the dot product of the layer\n",
    "        # activations with their respective deltas, then multiplying\n",
    "        # this value by some small learning rate and adding to our\n",
    "        # weight matrix -- this is where the actual \"learning\" takes\n",
    "        # place\n",
    "            self.W[layer] += -self.alpha * A[layer].T.dot(D[layer])\n",
    "            \n",
    "    def predict(self, X,addBias=False):\n",
    "        # initialize the output prediction as the input features -- this\n",
    "        # value will be (forward) propagated through the network to\n",
    "        # obtain the final prediction\n",
    "        p = np.atleast_2d(X)\n",
    "        # insert a column of 1's as the last entry in the feature\n",
    "        # matrix (bias)\n",
    "        if addBias:\n",
    "            p = np.c_[p, np.ones((p.shape[0]))]\n",
    "        # loop over our layers in the network\n",
    "        for layer in np.arange(0, len(self.W)):\n",
    "            # computing the output prediction is simply\n",
    "            # the forward pass\n",
    "            \n",
    "            p = self.sigmoid(np.dot(p, self.W[layer]))\n",
    "        return p\n",
    "    \n",
    "    def calculate_loss(self, X, targets):\n",
    "        # make predictions for the input data points then compute\n",
    "        # the loss\n",
    "        targets = np.atleast_2d(targets)\n",
    "        predictions = self.predict(X)\n",
    "        loss = 0.5 * np.sum((predictions - targets) ** 2)\n",
    "        return loss"
   ]
  },
  {
   "cell_type": "code",
   "execution_count": 53,
   "metadata": {},
   "outputs": [
    {
     "name": "stdout",
     "output_type": "stream",
     "text": [
      "<bound method NeuralNetwork.__repr__ of NN architecture: 2-2-1>\n",
      "[Training: ] epoch= 1 , loss= 0.529396625682957\n",
      "[Training: ] epoch= 100 , loss= 0.4971954279895702\n",
      "[Training: ] epoch= 200 , loss= 0.4956892815626381\n",
      "[Training: ] epoch= 300 , loss= 0.49288729220822186\n",
      "[Training: ] epoch= 400 , loss= 0.48711634896743444\n",
      "[Training: ] epoch= 500 , loss= 0.473804961056367\n",
      "[Training: ] epoch= 600 , loss= 0.4395101423479516\n",
      "[Training: ] epoch= 700 , loss= 0.3585880093912488\n",
      "[Training: ] epoch= 800 , loss= 0.2354848691329142\n",
      "[Training: ] epoch= 900 , loss= 0.1368884817161263\n",
      "[Training: ] epoch= 1000 , loss= 0.08355422960301173\n"
     ]
    }
   ],
   "source": [
    "# construct the XOR dataset\n",
    "X = np.array([[0, 0], [0, 1], [1, 0], [1, 1]])\n",
    "y = np.array([[0], [1], [1], [0]])\n",
    "\n",
    "# define our 2-2-1 neural network and train it\n",
    "nn = NeuralNetwork([2, 2,1], alpha=0.3)\n",
    "print(nn.__repr__)\n",
    "# fit the Neural Network\n",
    "losses=nn.fit(X,y,1000)"
   ]
  },
  {
   "cell_type": "code",
   "execution_count": 56,
   "metadata": {},
   "outputs": [
    {
     "name": "stdout",
     "output_type": "stream",
     "text": [
      "data= [0 0] , ground-truth= [0] , pred=, [[0.22666939]]  step= 0\n",
      "data= [0 1] , ground-truth= [1] , pred=, [[0.80533478]]  step= 1\n",
      "data= [1 0] , ground-truth= [1] , pred=, [[0.77156758]]  step= 1\n",
      "data= [1 1] , ground-truth= [0] , pred=, [[0.16016718]]  step= 0\n"
     ]
    }
   ],
   "source": [
    "# now that our network is trained, loop over the XOR data points\n",
    "for (x, target) in zip(X, y):\n",
    "    # make a prediction on the data point and display the result\n",
    "    # to our console\n",
    "    pred = nn.predict(x,addBias=True)\n",
    "    step = 1 if pred > 0.5 else 0\n",
    "    print(\"data=\",x,\", ground-truth=\",target,\", pred=,\",pred,\" step=\",step)"
   ]
  },
  {
   "cell_type": "code",
   "execution_count": 5,
   "metadata": {},
   "outputs": [
    {
     "data": {
      "text/plain": [
       "[<matplotlib.lines.Line2D at 0x7fb6177519b0>]"
      ]
     },
     "execution_count": 5,
     "metadata": {},
     "output_type": "execute_result"
    },
    {
     "data": {
      "image/png": "[encoded data removed]",
      "text/plain": [
       "<Figure size 432x288 with 1 Axes>"
      ]
     },
     "metadata": {
      "needs_background": "light"
     },
     "output_type": "display_data"
    }
   ],
   "source": [
    "# plot the losses as function of training\n",
    "plt.plot(losses)"
   ]
  },
  {
   "cell_type": "markdown",
   "metadata": {},
   "source": [
    " ### Repeat the training with a NN with [2,1] architechture"
   ]
  },
  {
   "cell_type": "code",
   "execution_count": 11,
   "metadata": {},
   "outputs": [
    {
     "name": "stdout",
     "output_type": "stream",
     "text": [
      "<bound method NeuralNetwork.__repr__ of NN architecture: 2-1>\n",
      "[Training: ] epoch= 1 , loss= 0.554523656043521\n",
      "[Training: ] epoch= 100 , loss= 0.5005020716969505\n",
      "[Training: ] epoch= 200 , loss= 0.50025877243672\n",
      "[Training: ] epoch= 300 , loss= 0.5002726993556683\n",
      "[Training: ] epoch= 400 , loss= 0.5002762345043541\n",
      "[Training: ] epoch= 500 , loss= 0.5002768187581679\n",
      "[Training: ] epoch= 600 , loss= 0.5002769081255861\n",
      "[Training: ] epoch= 700 , loss= 0.500276920876707\n",
      "[Training: ] epoch= 800 , loss= 0.5002769224216594\n",
      "[Training: ] epoch= 900 , loss= 0.5002769225119009\n",
      "[Training: ] epoch= 1000 , loss= 0.5002769224765786\n"
     ]
    }
   ],
   "source": [
    "### ENTER YOUR CODE HERE\n",
    "nn = NeuralNetwork([2, 1], alpha=0.3)\n",
    "print(nn.__repr__)\n",
    "# fit the Neural Network\n",
    "losses=nn.fit(X,y,1000)"
   ]
  },
  {
   "cell_type": "code",
   "execution_count": 12,
   "metadata": {},
   "outputs": [
    {
     "name": "stdout",
     "output_type": "stream",
     "text": [
      "data= [0 0] , ground-truth= [0] , pred=, [[0.50954941]]  step= 1\n",
      "data= [0 1] , ground-truth= [1] , pred=, [[0.5]]  step= 0\n",
      "data= [1 0] , ground-truth= [1] , pred=, [[0.4904506]]  step= 0\n",
      "data= [1 1] , ground-truth= [0] , pred=, [[0.48090815]]  step= 0\n"
     ]
    }
   ],
   "source": [
    "# now that our network is trained, loop over the XOR data points\n",
    "for (x, target) in zip(X, y):\n",
    "    # make a prediction on the data point and display the result\n",
    "    # to our console\n",
    "    pred = nn.predict(x,addBias=True)\n",
    "    step = 1 if pred > 0.5 else 0\n",
    "    print(\"data=\",x,\", ground-truth=\",target,\", pred=,\",pred,\" step=\",step)"
   ]
  },
  {
   "cell_type": "markdown",
   "metadata": {},
   "source": [
    "### Classification Problem"
   ]
  },
  {
   "cell_type": "code",
   "execution_count": 13,
   "metadata": {},
   "outputs": [],
   "source": [
    "from sklearn.preprocessing import LabelBinarizer\n",
    "from sklearn.model_selection import train_test_split\n",
    "from sklearn.metrics import classification_report\n",
    "from sklearn import datasets"
   ]
  },
  {
   "cell_type": "code",
   "execution_count": 14,
   "metadata": {},
   "outputs": [
    {
     "name": "stdout",
     "output_type": "stream",
     "text": [
      "loading MNIST (sample) dataset...\n",
      "samples: 1797, dim: 64\n"
     ]
    }
   ],
   "source": [
    "# load the MNIST dataset and apply min/max scaling to scale the\n",
    "# pixel intensity values to the range [0, 1] (each image is\n",
    "# represented by an 8 x 8 = 64-dim feature vector)\n",
    "print(\"loading MNIST (sample) dataset...\")\n",
    "digits = datasets.load_digits()\n",
    "data = digits.data.astype(\"float\")\n",
    "data = (data - data.min()) / (data.max() - data.min())\n",
    "print(\"samples: {}, dim: {}\".format(data.shape[0],\n",
    "data.shape[1]))\n",
    "# construct the training and testing splits\n",
    "(trainX, testX, trainY, testY) = train_test_split(data,\n",
    "digits.target, test_size=0.25)\n",
    "# convert the labels from integers to vectors:1 = [0,1,0,0,0,0,0,0,0,0]\n",
    "lb=LabelBinarizer()\n",
    "trainY = LabelBinarizer().fit_transform(trainY)\n",
    "testY = lb.fit_transform(testY)"
   ]
  },
  {
   "cell_type": "code",
   "execution_count": 15,
   "metadata": {},
   "outputs": [
    {
     "data": {
      "image/png": "[encoded data removed]",
      "text/plain": [
       "<Figure size 432x288 with 4 Axes>"
      ]
     },
     "metadata": {
      "needs_background": "light"
     },
     "output_type": "display_data"
    }
   ],
   "source": [
    "for i in range(1,5):\n",
    "    plt.subplot(1,4,i)\n",
    "    plt.imshow(np.array(data[i]).reshape(8,8),cmap='gray')"
   ]
  },
  {
   "cell_type": "code",
   "execution_count": 16,
   "metadata": {},
   "outputs": [
    {
     "name": "stdout",
     "output_type": "stream",
     "text": [
      "training network...\n",
      "NN architecture: 64-32-16-10\n",
      "[Training: ] epoch= 1 , loss= 578.8353389499296\n",
      "[Training: ] epoch= 100 , loss= 0.8683920082422371\n",
      "[Training: ] epoch= 200 , loss= 0.12100881806882266\n",
      "[Training: ] epoch= 300 , loss= 0.07132949671956343\n",
      "[Training: ] epoch= 400 , loss= 0.05068447161676132\n",
      "[Training: ] epoch= 500 , loss= 0.0392368275398836\n",
      "[Training: ] epoch= 600 , loss= 0.03195128406176287\n",
      "[Training: ] epoch= 700 , loss= 0.026909524283825172\n",
      "[Training: ] epoch= 800 , loss= 0.02321612055776093\n",
      "[Training: ] epoch= 900 , loss= 0.020396070344462752\n",
      "[Training: ] epoch= 1000 , loss= 0.018173827612632414\n",
      "[Training: ] epoch= 1100 , loss= 0.01637855433183738\n",
      "[Training: ] epoch= 1200 , loss= 0.014898717911010204\n",
      "[Training: ] epoch= 1300 , loss= 0.013658429949155709\n",
      "[Training: ] epoch= 1400 , loss= 0.012604274285095935\n",
      "[Training: ] epoch= 1500 , loss= 0.011697572021439347\n",
      "evaluating network...\n",
      "              precision    recall  f1-score   support\n",
      "\n",
      "           0       1.00      1.00      1.00        46\n",
      "           1       0.96      1.00      0.98        47\n",
      "           2       0.98      1.00      0.99        50\n",
      "           3       0.93      1.00      0.96        51\n",
      "           4       1.00      1.00      1.00        46\n",
      "           5       1.00      0.96      0.98        46\n",
      "           6       1.00      1.00      1.00        36\n",
      "           7       1.00      1.00      1.00        34\n",
      "           8       1.00      0.95      0.97        41\n",
      "           9       1.00      0.94      0.97        53\n",
      "\n",
      "    accuracy                           0.98       450\n",
      "   macro avg       0.99      0.99      0.99       450\n",
      "weighted avg       0.99      0.98      0.98       450\n",
      "\n"
     ]
    }
   ],
   "source": [
    "# train the network\n",
    "print(\"training network...\")\n",
    "#create a network object with two hidden layer h1 = 32 units and h2 = 16 units\n",
    "# ENTER YOUR CODE HERE\n",
    "nn = NeuralNetwork([64,32,16, 10], alpha=0.5) \n",
    "print(\"{}\".format(nn))\n",
    "losses2 = nn.fit(trainX, trainY, epochs=1500)\n",
    "# evaluate the network\n",
    "print(\"evaluating network...\")\n",
    "predictions = nn.predict(testX,addBias=True)\n",
    "predictions = predictions.argmax(axis=1)\n",
    "print(classification_report(testY.argmax(axis=1), predictions))"
   ]
  },
  {
   "cell_type": "code",
   "execution_count": 19,
   "metadata": {},
   "outputs": [
    {
     "ename": "AxisError",
     "evalue": "axis 1 is out of bounds for array of dimension 1",
     "output_type": "error",
     "traceback": [
      "\u001b[0;31m---------------------------------------------------------------------------\u001b[0m",
      "\u001b[0;31mAxisError\u001b[0m                                 Traceback (most recent call last)",
      "\u001b[0;32m<ipython-input-19-953f71cbcebc>\u001b[0m in \u001b[0;36m<module>\u001b[0;34m\u001b[0m\n\u001b[0;32m----> 1\u001b[0;31m \u001b[0mtestY\u001b[0m\u001b[0;34m=\u001b[0m\u001b[0mlb\u001b[0m\u001b[0;34m.\u001b[0m\u001b[0minverse_transform\u001b[0m\u001b[0;34m(\u001b[0m\u001b[0mtestY\u001b[0m\u001b[0;34m)\u001b[0m\u001b[0;34m\u001b[0m\u001b[0;34m\u001b[0m\u001b[0m\n\u001b[0m",
      "\u001b[0;32m~/.local/lib/python3.6/site-packages/sklearn/preprocessing/label.py\u001b[0m in \u001b[0;36minverse_transform\u001b[0;34m(self, Y, threshold)\u001b[0m\n\u001b[1;32m    507\u001b[0m \u001b[0;34m\u001b[0m\u001b[0m\n\u001b[1;32m    508\u001b[0m         \u001b[0;32mif\u001b[0m \u001b[0mself\u001b[0m\u001b[0;34m.\u001b[0m\u001b[0my_type_\u001b[0m \u001b[0;34m==\u001b[0m \u001b[0;34m\"multiclass\"\u001b[0m\u001b[0;34m:\u001b[0m\u001b[0;34m\u001b[0m\u001b[0;34m\u001b[0m\u001b[0m\n\u001b[0;32m--> 509\u001b[0;31m             \u001b[0my_inv\u001b[0m \u001b[0;34m=\u001b[0m \u001b[0m_inverse_binarize_multiclass\u001b[0m\u001b[0;34m(\u001b[0m\u001b[0mY\u001b[0m\u001b[0;34m,\u001b[0m \u001b[0mself\u001b[0m\u001b[0;34m.\u001b[0m\u001b[0mclasses_\u001b[0m\u001b[0;34m)\u001b[0m\u001b[0;34m\u001b[0m\u001b[0;34m\u001b[0m\u001b[0m\n\u001b[0m\u001b[1;32m    510\u001b[0m         \u001b[0;32melse\u001b[0m\u001b[0;34m:\u001b[0m\u001b[0;34m\u001b[0m\u001b[0;34m\u001b[0m\u001b[0m\n\u001b[1;32m    511\u001b[0m             y_inv = _inverse_binarize_thresholding(Y, self.y_type_,\n",
      "\u001b[0;32m~/.local/lib/python3.6/site-packages/sklearn/preprocessing/label.py\u001b[0m in \u001b[0;36m_inverse_binarize_multiclass\u001b[0;34m(y, classes)\u001b[0m\n\u001b[1;32m    721\u001b[0m         \u001b[0;32mreturn\u001b[0m \u001b[0mclasses\u001b[0m\u001b[0;34m[\u001b[0m\u001b[0my_i_argmax\u001b[0m\u001b[0;34m]\u001b[0m\u001b[0;34m\u001b[0m\u001b[0;34m\u001b[0m\u001b[0m\n\u001b[1;32m    722\u001b[0m     \u001b[0;32melse\u001b[0m\u001b[0;34m:\u001b[0m\u001b[0;34m\u001b[0m\u001b[0;34m\u001b[0m\u001b[0m\n\u001b[0;32m--> 723\u001b[0;31m         \u001b[0;32mreturn\u001b[0m \u001b[0mclasses\u001b[0m\u001b[0;34m.\u001b[0m\u001b[0mtake\u001b[0m\u001b[0;34m(\u001b[0m\u001b[0my\u001b[0m\u001b[0;34m.\u001b[0m\u001b[0margmax\u001b[0m\u001b[0;34m(\u001b[0m\u001b[0maxis\u001b[0m\u001b[0;34m=\u001b[0m\u001b[0;36m1\u001b[0m\u001b[0;34m)\u001b[0m\u001b[0;34m,\u001b[0m \u001b[0mmode\u001b[0m\u001b[0;34m=\u001b[0m\u001b[0;34m\"clip\"\u001b[0m\u001b[0;34m)\u001b[0m\u001b[0;34m\u001b[0m\u001b[0;34m\u001b[0m\u001b[0m\n\u001b[0m\u001b[1;32m    724\u001b[0m \u001b[0;34m\u001b[0m\u001b[0m\n\u001b[1;32m    725\u001b[0m \u001b[0;34m\u001b[0m\u001b[0m\n",
      "\u001b[0;31mAxisError\u001b[0m: axis 1 is out of bounds for array of dimension 1"
     ]
    }
   ],
   "source": [
    "testY=lb.inverse_transform(testY)"
   ]
  },
  {
   "cell_type": "code",
   "execution_count": 20,
   "metadata": {},
   "outputs": [
    {
     "data": {
      "text/plain": [
       "<matplotlib.collections.PathCollection at 0x7f6851607d30>"
      ]
     },
     "execution_count": 20,
     "metadata": {},
     "output_type": "execute_result"
    },
    {
     "data": {
      "image/png": "[encoded data removed]",
      "text/plain": [
       "<Figure size 432x288 with 1 Axes>"
      ]
     },
     "metadata": {
      "needs_background": "light"
     },
     "output_type": "display_data"
    }
   ],
   "source": [
    "\n",
    "plt.scatter(np.arange(len(predictions)),testY-predictions)"
   ]
  },
  {
   "cell_type": "code",
   "execution_count": 21,
   "metadata": {},
   "outputs": [
    {
     "data": {
      "text/plain": [
       "[<matplotlib.lines.Line2D at 0x7f684d89b518>]"
      ]
     },
     "execution_count": 21,
     "metadata": {},
     "output_type": "execute_result"
    },
    {
     "data": {
      "image/png": "[encoded data removed]",
      "text/plain": [
       "<Figure size 432x288 with 1 Axes>"
      ]
     },
     "metadata": {
      "needs_background": "light"
     },
     "output_type": "display_data"
    }
   ],
   "source": [
    "plt.plot(np.concatenate(([0], np.arange(1,1500,100))),losses2)"
   ]
  },
  {
   "cell_type": "code",
   "execution_count": 22,
   "metadata": {},
   "outputs": [
    {
     "data": {
      "image/png": "[encoded data removed]",
      "text/plain": [
       "<Figure size 432x288 with 1 Axes>"
      ]
     },
     "metadata": {
      "needs_background": "light"
     },
     "output_type": "display_data"
    }
   ],
   "source": [
    "import sklearn.datasets\n",
    "#  load a classification dataset from sklearn\n",
    "X, Y = sklearn.datasets.make_moons(200, noise=0.150)\n",
    "plt.scatter(X[:,0], X[:,1], s=42, c=Y, cmap=plt.cm.Set1)\n",
    "y=Y.reshape(-1,1)"
   ]
  },
  {
   "cell_type": "code",
   "execution_count": 23,
   "metadata": {},
   "outputs": [
    {
     "data": {
      "text/plain": [
       "(200, 2)"
      ]
     },
     "execution_count": 23,
     "metadata": {},
     "output_type": "execute_result"
    }
   ],
   "source": [
    "y=np.concatenate((y,np.logical_not(y).astype('int')),axis=1)\n",
    "y.shape"
   ]
  },
  {
   "cell_type": "code",
   "execution_count": 24,
   "metadata": {},
   "outputs": [
    {
     "name": "stdout",
     "output_type": "stream",
     "text": [
      "[Training: ] epoch= 1 , loss= 46.79782641290361\n",
      "[Training: ] epoch= 100 , loss= 20.825317271341937\n",
      "[Training: ] epoch= 200 , loss= 17.894956394587002\n",
      "[Training: ] epoch= 300 , loss= 17.38181061264587\n",
      "[Training: ] epoch= 400 , loss= 17.226089287354743\n",
      "[Training: ] epoch= 500 , loss= 17.155294668623593\n",
      "[Training: ] epoch= 600 , loss= 17.11238357637548\n",
      "[Training: ] epoch= 700 , loss= 17.08162472635737\n",
      "[Training: ] epoch= 800 , loss= 17.05754572791253\n",
      "[Training: ] epoch= 900 , loss= 17.03770974765208\n",
      "[Training: ] epoch= 1000 , loss= 17.020788990129063\n",
      "[Training: ] epoch= 1100 , loss= 17.005967253968485\n",
      "[Training: ] epoch= 1200 , loss= 16.992703478201207\n",
      "[Training: ] epoch= 1300 , loss= 16.9806148502859\n",
      "[Training: ] epoch= 1400 , loss= 16.96941178701017\n",
      "[Training: ] epoch= 1500 , loss= 16.958858734759193\n",
      "[Training: ] epoch= 1600 , loss= 16.94874741715296\n",
      "[Training: ] epoch= 1700 , loss= 16.938874463343573\n",
      "[Training: ] epoch= 1800 , loss= 16.92901751612559\n",
      "[Training: ] epoch= 1900 , loss= 16.918904037451433\n",
      "[Training: ] epoch= 2000 , loss= 16.908165471562988\n",
      "[Training: ] epoch= 2100 , loss= 16.896266455117683\n",
      "[Training: ] epoch= 2200 , loss= 16.88239547725163\n",
      "[Training: ] epoch= 2300 , loss= 16.865304014462833\n",
      "[Training: ] epoch= 2400 , loss= 16.843097245877807\n",
      "[Training: ] epoch= 2500 , loss= 16.813032041241005\n",
      "[Training: ] epoch= 2600 , loss= 16.771479812347806\n",
      "[Training: ] epoch= 2700 , loss= 16.714307215443384\n",
      "[Training: ] epoch= 2800 , loss= 16.637849873270987\n",
      "[Training: ] epoch= 2900 , loss= 16.54028717380345\n",
      "[Training: ] epoch= 3000 , loss= 16.42277435412028\n",
      "[Training: ] epoch= 3100 , loss= 16.289568341113522\n",
      "[Training: ] epoch= 3200 , loss= 16.146861972526906\n",
      "[Training: ] epoch= 3300 , loss= 16.000866418335384\n",
      "[Training: ] epoch= 3400 , loss= 15.856020081748198\n",
      "[Training: ] epoch= 3500 , loss= 15.713687939893962\n",
      "[Training: ] epoch= 3600 , loss= 15.570905883392257\n",
      "[Training: ] epoch= 3700 , loss= 15.418102958039782\n",
      "[Training: ] epoch= 3800 , loss= 15.234898376805209\n",
      "[Training: ] epoch= 3900 , loss= 14.987807997480004\n",
      "[Training: ] epoch= 4000 , loss= 14.640365485914959\n",
      "[Training: ] epoch= 4100 , loss= 14.142675052239095\n",
      "[Training: ] epoch= 4200 , loss= 13.350644790529648\n",
      "[Training: ] epoch= 4300 , loss= 12.086824822587385\n",
      "[Training: ] epoch= 4400 , loss= 10.973577955994644\n",
      "[Training: ] epoch= 4500 , loss= 10.161946463206863\n",
      "[Training: ] epoch= 4600 , loss= 9.51257005686535\n",
      "[Training: ] epoch= 4700 , loss= 8.97329944520137\n",
      "[Training: ] epoch= 4800 , loss= 8.514668600797934\n",
      "[Training: ] epoch= 4900 , loss= 8.117624087946666\n",
      "[Training: ] epoch= 5000 , loss= 7.769217068702247\n",
      "[Training: ] epoch= 5100 , loss= 7.460315039589679\n",
      "[Training: ] epoch= 5200 , loss= 7.184220503235439\n",
      "[Training: ] epoch= 5300 , loss= 6.9358152635163925\n",
      "[Training: ] epoch= 5400 , loss= 6.711043498909079\n",
      "[Training: ] epoch= 5500 , loss= 6.5066071749728\n",
      "[Training: ] epoch= 5600 , loss= 6.319782743851189\n",
      "[Training: ] epoch= 5700 , loss= 6.14830138752717\n",
      "[Training: ] epoch= 5800 , loss= 5.990262219917265\n",
      "[Training: ] epoch= 5900 , loss= 5.84406463437709\n",
      "[Training: ] epoch= 6000 , loss= 5.708353924876705\n",
      "[Training: ] epoch= 6100 , loss= 5.5819772827502\n",
      "[Training: ] epoch= 6200 , loss= 5.46394822664317\n",
      "[Training: ] epoch= 6300 , loss= 5.353417885416457\n",
      "[Training: ] epoch= 6400 , loss= 5.249651799772783\n",
      "[Training: ] epoch= 6500 , loss= 5.152011137126392\n",
      "[Training: ] epoch= 6600 , loss= 5.059937424669634\n",
      "[Training: ] epoch= 6700 , loss= 4.972940087031969\n",
      "[Training: ] epoch= 6800 , loss= 4.890586224100757\n",
      "[Training: ] epoch= 6900 , loss= 4.812492183875924\n",
      "[Training: ] epoch= 7000 , loss= 4.73831657928701\n",
      "[Training: ] epoch= 7100 , loss= 4.667754471579595\n",
      "[Training: ] epoch= 7200 , loss= 4.600532500473701\n",
      "[Training: ] epoch= 7300 , loss= 4.536404786338149\n",
      "[Training: ] epoch= 7400 , loss= 4.475149464908085\n",
      "[Training: ] epoch= 7500 , loss= 4.41656574278298\n",
      "[Training: ] epoch= 7600 , loss= 4.360471383767763\n",
      "[Training: ] epoch= 7700 , loss= 4.306700553370112\n",
      "[Training: ] epoch= 7800 , loss= 4.255101962447821\n",
      "[Training: ] epoch= 7900 , loss= 4.205537261892271\n",
      "[Training: ] epoch= 8000 , loss= 4.157879648939819\n",
      "[Training: ] epoch= 8100 , loss= 4.1120126526900895\n",
      "[Training: ] epoch= 8200 , loss= 4.067829072039986\n",
      "[Training: ] epoch= 8300 , loss= 4.025230043799283\n",
      "[Training: ] epoch= 8400 , loss= 3.9841242224575564\n",
      "[Training: ] epoch= 8500 , loss= 3.9444270560947476\n",
      "[Training: ] epoch= 8600 , loss= 3.906060145406093\n",
      "[Training: ] epoch= 8700 , loss= 3.8689506748519906\n",
      "[Training: ] epoch= 8800 , loss= 3.833030906628584\n",
      "[Training: ] epoch= 8900 , loss= 3.798237729553544\n",
      "[Training: ] epoch= 9000 , loss= 3.764512256125016\n",
      "[Training: ] epoch= 9100 , loss= 3.731799461983954\n",
      "[Training: ] epoch= 9200 , loss= 3.7000478628238884\n",
      "[Training: ] epoch= 9300 , loss= 3.669209224474418\n",
      "[Training: ] epoch= 9400 , loss= 3.639238302459628\n",
      "[Training: ] epoch= 9500 , loss= 3.6100926078153357\n",
      "[Training: ] epoch= 9600 , loss= 3.581732196355931\n",
      "[Training: ] epoch= 9700 , loss= 3.5541194789259416\n",
      "[Training: ] epoch= 9800 , loss= 3.5272190504596503\n",
      "[Training: ] epoch= 9900 , loss= 3.5009975359190557\n",
      "[Training: ] epoch= 10000 , loss= 3.4754234513869426\n"
     ]
    }
   ],
   "source": [
    "nn = NeuralNetwork([2, 3,2], alpha=0.01)\n",
    "losses3 = nn.fit(X, y, epochs=10000)"
   ]
  },
  {
   "cell_type": "code",
   "execution_count": 18,
   "metadata": {},
   "outputs": [
    {
     "data": {
      "text/plain": [
       "<matplotlib.collections.PathCollection at 0x7fb5d2db9f60>"
      ]
     },
     "execution_count": 18,
     "metadata": {},
     "output_type": "execute_result"
    },
    {
     "data": {
      "image/png": "[encoded data removed]",
      "text/plain": [
       "<Figure size 432x288 with 1 Axes>"
      ]
     },
     "metadata": {
      "needs_background": "light"
     },
     "output_type": "display_data"
    }
   ],
   "source": [
    "# Set min and max values and give it some padding\n",
    "x_min, x_max = X[:, 0].min() - .5, X[:, 0].max() + .5\n",
    "y_min, y_max = X[:, 1].min() - .5, X[:, 1].max() + .5\n",
    "h = 0.01\n",
    "# Generate a grid of points with distance h between them\n",
    "xx, yy = np.meshgrid(np.arange(x_min, x_max, h), np.arange(y_min, y_max, h))\n",
    "# Predict the function value for the whole gid\n",
    "Z = nn.predict(np.c_[xx.ravel(), yy.ravel()],addBias=True)\n",
    "\n",
    "# Plot the contour and training examples\n",
    "plt.contourf(xx, yy, Z[:,1].reshape(xx.shape), cmap=plt.cm.Set1, alpha=0.2)\n",
    "plt.scatter(X[:, 0], X[:, 1], c=Y, cmap=plt.cm.Set1)"
   ]
  },
  {
   "cell_type": "markdown",
   "metadata": {},
   "source": [
    "### try different NN architecutres and see how performance chages"
   ]
  },
  {
   "cell_type": "markdown",
   "metadata": {},
   "source": [
    "### Regression Problem"
   ]
  },
  {
   "cell_type": "code",
   "execution_count": 67,
   "metadata": {},
   "outputs": [],
   "source": [
    "X = np.random.uniform(-1, 1, size=1000)\n",
    "\n",
    "y= np.power(X,2)+ np.random.normal(0, 1, size=X.shape[0]) * 0.2\n",
    "X = X.reshape(-1,1)\n",
    "y = y.reshape(-1,1)"
   ]
  },
  {
   "cell_type": "code",
   "execution_count": 68,
   "metadata": {},
   "outputs": [
    {
     "data": {
      "text/plain": [
       "<matplotlib.collections.PathCollection at 0x7f684c0be7b8>"
      ]
     },
     "execution_count": 68,
     "metadata": {},
     "output_type": "execute_result"
    },
    {
     "data": {
      "image/png": "[encoded data removed]",
      "text/plain": [
       "<Figure size 432x288 with 1 Axes>"
      ]
     },
     "metadata": {
      "needs_background": "light"
     },
     "output_type": "display_data"
    }
   ],
   "source": [
    "plt.scatter(X,y)"
   ]
  },
  {
   "cell_type": "code",
   "execution_count": 29,
   "metadata": {},
   "outputs": [
    {
     "name": "stdout",
     "output_type": "stream",
     "text": [
      "[Training: ] epoch= 1 , loss= 71.70628477170062\n",
      "[Training: ] epoch= 100 , loss= 42.8752629563194\n",
      "[Training: ] epoch= 200 , loss= 23.77715848820646\n",
      "[Training: ] epoch= 300 , loss= 22.061133604788097\n",
      "[Training: ] epoch= 400 , loss= 21.769221405468784\n",
      "[Training: ] epoch= 500 , loss= 21.664247191801138\n",
      "[Training: ] epoch= 600 , loss= 21.601951384933805\n",
      "[Training: ] epoch= 700 , loss= 21.55723315069004\n",
      "[Training: ] epoch= 800 , loss= 21.523316545750237\n",
      "[Training: ] epoch= 900 , loss= 21.497000932848067\n",
      "[Training: ] epoch= 1000 , loss= 21.476223359206756\n",
      "[Training: ] epoch= 1100 , loss= 21.459536957889362\n",
      "[Training: ] epoch= 1200 , loss= 21.445904083047207\n",
      "[Training: ] epoch= 1300 , loss= 21.43457173628619\n",
      "[Training: ] epoch= 1400 , loss= 21.424988588112484\n",
      "[Training: ] epoch= 1500 , loss= 21.416748204727458\n",
      "[Training: ] epoch= 1600 , loss= 21.409549374713606\n",
      "[Training: ] epoch= 1700 , loss= 21.4031678651364\n",
      "[Training: ] epoch= 1800 , loss= 21.397436030567476\n",
      "[Training: ] epoch= 1900 , loss= 21.392227950516528\n",
      "[Training: ] epoch= 2000 , loss= 21.38744853045494\n",
      "[Training: ] epoch= 2100 , loss= 21.383025480355236\n",
      "[Training: ] epoch= 2200 , loss= 21.378903399293797\n",
      "[Training: ] epoch= 2300 , loss= 21.375039409163755\n",
      "[Training: ] epoch= 2400 , loss= 21.371399931023547\n",
      "[Training: ] epoch= 2500 , loss= 21.36795830537968\n",
      "[Training: ] epoch= 2600 , loss= 21.36469303599507\n",
      "[Training: ] epoch= 2700 , loss= 21.36158649422148\n",
      "[Training: ] epoch= 2800 , loss= 21.358623963192382\n",
      "[Training: ] epoch= 2900 , loss= 21.35579293254315\n",
      "[Training: ] epoch= 3000 , loss= 21.353082577552563\n",
      "[Training: ] epoch= 3100 , loss= 21.350483373833967\n",
      "[Training: ] epoch= 3200 , loss= 21.347986811495055\n",
      "[Training: ] epoch= 3300 , loss= 21.345585182177643\n",
      "[Training: ] epoch= 3400 , loss= 21.343271419430906\n",
      "[Training: ] epoch= 3500 , loss= 21.341038978094502\n",
      "[Training: ] epoch= 3600 , loss= 21.33888174224014\n",
      "[Training: ] epoch= 3700 , loss= 21.336793954089586\n",
      "[Training: ] epoch= 3800 , loss= 21.3347701584533\n",
      "[Training: ] epoch= 3900 , loss= 21.33280515880852\n",
      "[Training: ] epoch= 4000 , loss= 21.3308939823011\n",
      "[Training: ] epoch= 4100 , loss= 21.329031851816463\n",
      "[Training: ] epoch= 4200 , loss= 21.32721416389851\n",
      "[Training: ] epoch= 4300 , loss= 21.325436471755356\n",
      "[Training: ] epoch= 4400 , loss= 21.323694472917342\n",
      "[Training: ] epoch= 4500 , loss= 21.321984001330904\n",
      "[Training: ] epoch= 4600 , loss= 21.320301023800393\n",
      "[Training: ] epoch= 4700 , loss= 21.318641640739024\n",
      "[Training: ] epoch= 4800 , loss= 21.317002091168664\n",
      "[Training: ] epoch= 4900 , loss= 21.315378761822245\n",
      "[Training: ] epoch= 5000 , loss= 21.31376820006114\n",
      "[Training: ] epoch= 5100 , loss= 21.31216713013502\n",
      "[Training: ] epoch= 5200 , loss= 21.31057247209908\n",
      "[Training: ] epoch= 5300 , loss= 21.30898136248708\n",
      "[Training: ] epoch= 5400 , loss= 21.30739117564256\n",
      "[Training: ] epoch= 5500 , loss= 21.305799544464637\n",
      "[Training: ] epoch= 5600 , loss= 21.304204379254273\n",
      "[Training: ] epoch= 5700 , loss= 21.30260388337137\n",
      "[Training: ] epoch= 5800 , loss= 21.30099656454189\n",
      "[Training: ] epoch= 5900 , loss= 21.2993812408819\n",
      "[Training: ] epoch= 6000 , loss= 21.297757041014005\n",
      "[Training: ] epoch= 6100 , loss= 21.29612339800983\n",
      "[Training: ] epoch= 6200 , loss= 21.294480037262925\n",
      "[Training: ] epoch= 6300 , loss= 21.292826958741855\n",
      "[Training: ] epoch= 6400 , loss= 21.29116441436009\n",
      "[Training: ] epoch= 6500 , loss= 21.289492881405877\n",
      "[Training: ] epoch= 6600 , loss= 21.287813033091947\n",
      "[Training: ] epoch= 6700 , loss= 21.28612570731258\n",
      "[Training: ] epoch= 6800 , loss= 21.28443187464884\n",
      "[Training: ] epoch= 6900 , loss= 21.282732606557193\n",
      "[Training: ] epoch= 7000 , loss= 21.28102904453477\n",
      "[Training: ] epoch= 7100 , loss= 21.27932237089496\n",
      "[Training: ] epoch= 7200 , loss= 21.277613781626275\n",
      "[Training: ] epoch= 7300 , loss= 21.27590446165845\n",
      "[Training: ] epoch= 7400 , loss= 21.27419556272918\n",
      "[Training: ] epoch= 7500 , loss= 21.27248818393783\n",
      "[Training: ] epoch= 7600 , loss= 21.270783354988286\n",
      "[Training: ] epoch= 7700 , loss= 21.26908202206062\n",
      "[Training: ] epoch= 7800 , loss= 21.267385036207664\n",
      "[Training: ] epoch= 7900 , loss= 21.26569314414335\n",
      "[Training: ] epoch= 8000 , loss= 21.264006981271947\n",
      "[Training: ] epoch= 8100 , loss= 21.262327066797816\n",
      "[Training: ] epoch= 8200 , loss= 21.260653800750035\n",
      "[Training: ] epoch= 8300 , loss= 21.258987462755726\n",
      "[Training: ] epoch= 8400 , loss= 21.257328212395834\n",
      "[Training: ] epoch= 8500 , loss= 21.255676090979275\n",
      "[Training: ] epoch= 8600 , loss= 21.25403102457348\n",
      "[Training: ] epoch= 8700 , loss= 21.252392828133004\n",
      "[Training: ] epoch= 8800 , loss= 21.25076121057167\n",
      "[Training: ] epoch= 8900 , loss= 21.24913578062877\n",
      "[Training: ] epoch= 9000 , loss= 21.247516053386477\n",
      "[Training: ] epoch= 9100 , loss= 21.245901457302864\n",
      "[Training: ] epoch= 9200 , loss= 21.244291341633954\n",
      "[Training: ] epoch= 9300 , loss= 21.242684984128438\n",
      "[Training: ] epoch= 9400 , loss= 21.24108159888952\n",
      "[Training: ] epoch= 9500 , loss= 21.239480344310543\n",
      "[Training: ] epoch= 9600 , loss= 21.237880331002874\n",
      "[Training: ] epoch= 9700 , loss= 21.236280629647258\n",
      "[Training: ] epoch= 9800 , loss= 21.234680278711533\n",
      "[Training: ] epoch= 9900 , loss= 21.233078291989152\n",
      "[Training: ] epoch= 10000 , loss= 21.231473665923396\n"
     ]
    }
   ],
   "source": [
    "nn = NeuralNetwork([1, 6,1], alpha=0.01)\n",
    "losses4 = nn.fit(X, y, epochs=10000)"
   ]
  },
  {
   "cell_type": "code",
   "execution_count": 30,
   "metadata": {},
   "outputs": [
    {
     "data": {
      "text/plain": [
       "[<matplotlib.lines.Line2D at 0x7f684d7555f8>]"
      ]
     },
     "execution_count": 30,
     "metadata": {},
     "output_type": "execute_result"
    },
    {
     "data": {
      "image/png": "[encoded data removed]",
      "text/plain": [
       "<Figure size 432x288 with 1 Axes>"
      ]
     },
     "metadata": {
      "needs_background": "light"
     },
     "output_type": "display_data"
    }
   ],
   "source": [
    "plt.plot(losses4)"
   ]
  },
  {
   "cell_type": "code",
   "execution_count": 38,
   "metadata": {},
   "outputs": [
    {
     "data": {
      "text/plain": [
       "[<matplotlib.lines.Line2D at 0x7f684d62b630>]"
      ]
     },
     "execution_count": 38,
     "metadata": {},
     "output_type": "execute_result"
    },
    {
     "data": {
      "image/png": "[encoded data removed]",
      "text/plain": [
       "<Figure size 432x288 with 1 Axes>"
      ]
     },
     "metadata": {
      "needs_background": "light"
     },
     "output_type": "display_data"
    }
   ],
   "source": [
    "plt.scatter(X,y)\n",
    "y_hat =  nn.predict(np.sort(X,axis=0),addBias=True)\n",
    "plt.plot(np.sort(X,axis=0),y_hat,c='red')"
   ]
  },
  {
   "cell_type": "code",
   "execution_count": 34,
   "metadata": {},
   "outputs": [
    {
     "data": {
      "text/plain": [
       "(1000, 1)"
      ]
     },
     "execution_count": 34,
     "metadata": {},
     "output_type": "execute_result"
    }
   ],
   "source": [
    "X.shape"
   ]
  },
  {
   "cell_type": "markdown",
   "metadata": {},
   "source": [
    "### try different NN architecutres and see how performance chages \n",
    "### try different learning rates and see if you can improve the results"
   ]
  },
  {
   "cell_type": "markdown",
   "metadata": {},
   "source": [
    "### Change the Neuralnetwrok class such that you use the momentum rule for weights update. retrain the MNIST dataset.  How did the training go? are the losses smaller is the accuracy the same? what does it mean?"
   ]
  },
  {
   "cell_type": "code",
   "execution_count": 64,
   "metadata": {},
   "outputs": [],
   "source": [
    "class NeuralNetwork:\n",
    "    def __init__(self, layers, alpha=0.1, gamma=0.9):\n",
    "    # initialize the list of weights matrices, then store the\n",
    "    # network architecture and learning rate\n",
    "        self.W = []\n",
    "        self.V = []\n",
    "        self.layers = layers\n",
    "        self.alpha = alpha\n",
    "        self.gamma = gamma\n",
    "        # start looping from the index of the first layer but\n",
    "        # stop before we reach the last two layers\n",
    "        for i in np.arange(0, len(layers) - 2):\n",
    "            # randomly initialize a weight matrix connecting the\n",
    "            # number of nodes in each respective layer together,\n",
    "            # adding an extra node for the bias\n",
    "            w = np.random.randn(layers[i] + 1, layers[i + 1] + 1)\n",
    "            v = np.zeros((layers[i]+1,layers[i + 1] + 1))\n",
    "            self.W.append(w / np.sqrt(layers[i]))\n",
    "            self.V.append(v)\n",
    "        # the last two layers are a special case where the input\n",
    "        # connections need a bias term but the output does not\n",
    "        w = np.random.randn(layers[-2] + 1, layers[-1])\n",
    "        v = np.zeros((layers[-2] + 1, layers[-1]))\n",
    "        self.W.append(w / np.sqrt(layers[-2]))\n",
    "        self.V.append(v)\n",
    "    \n",
    "    def __repr__(self):\n",
    "        # construct and return a string that represents the network\n",
    "        # architecture\n",
    "        return \"NN architecture: {}\".format(\n",
    "        \"-\".join(str(l) for l in self.layers))\n",
    "    \n",
    "    def sigmoid(self, x):\n",
    "        # compute and return the sigmoid activation value for a\n",
    "        # given input value\n",
    "        return 1.0 / (1 + np.exp(-x))\n",
    "    \n",
    "    def sigmoid_deriv(self, x):\n",
    "        # compute the derivative of the sigmoid function ASSUMING\n",
    "        # that `x` has already been passed through the `sigmoid`\n",
    "        # function\n",
    "        return x * (1 - x)\n",
    "    \n",
    "    def fit(self, X, y,Xt,yt, epochs=1000, displayUpdate=100):\n",
    "        # insert a column of 1's as the last entry in the feature\n",
    "        # matrix -- this little trick allows us to treat the bias\n",
    "        # as a trainable parameter within the weight matrix\n",
    "        X = np.c_[X, np.ones((X.shape[0]))]\n",
    "        Xt = np.c_[Xt, np.ones((Xt.shape[0]))]\n",
    "        losses = []\n",
    "        # loop over the desired number of epochs\n",
    "        for epoch in np.arange(0, epochs):\n",
    "            # loop over each individual data point and train\n",
    "            # our network on it\n",
    "            for (x, target) in zip(X, y):\n",
    "                self.fit_partial(x, target)\n",
    "                # check to see if we should display a training update\n",
    "            if epoch == 0 or (epoch + 1) % displayUpdate == 0:\n",
    "                loss = self.calculate_loss(X, y)\n",
    "                print(\"[Training: ] epoch=\", epoch+1, \", loss=\",loss)\n",
    "                losses.append(loss) \n",
    "                tp = self.predict (Xt,addBias=False)\n",
    "                tloss = self.calculate_loss(Xt, yt)\n",
    "                print(\"[testing:] test loss\", tloss)\n",
    "        return losses\n",
    "                    \n",
    "    def fit_partial(self, x, y):\n",
    "        # construct our list of output activations for each layer\n",
    "        # as our data point flows through the network; the first\n",
    "        # activation is a special case -- it's just the input\n",
    "        # feature vector itself\n",
    "        A = [np.atleast_2d(x)]\n",
    "        # FEEDFORWARD:\n",
    "        # loop over the layers in the network\n",
    "        for layer in np.arange(0, len(self.W)):\n",
    "            # feedforward the activation at the current layer by\n",
    "            # taking the dot product between the activation and\n",
    "            # the weight matrix -- this is called the \"net input\"\n",
    "            # to the current layer\n",
    "            net = A[layer].dot(self.W[layer])\n",
    "            # computing the \"net output\" is simply applying our\n",
    "            # nonlinear activation function to the net input\n",
    "            out = self.sigmoid(net)\n",
    "            # once we have the net output, add it to our list of\n",
    "            # activations\n",
    "            A.append(out)\n",
    "\n",
    "        # BACKPROPAGATION\n",
    "        # the first phase of backpropagation is to compute the\n",
    "        # difference between our *prediction* (the final output\n",
    "        # activation in the activations list) and the true target\n",
    "        # value\n",
    "        derror = A[-1] - y\n",
    "\n",
    "        # from here, we need to apply the chain rule and build our\n",
    "        # list of deltas `D`; the first entry in the deltas is\n",
    "        # simply the error of the output layer times the derivative\n",
    "        # of our activation function for the output value\n",
    "        D = [derror * self.sigmoid_deriv(A[-1])]\n",
    "        # once you understand the chain rule it becomes super easy\n",
    "        # to implement with a `for` loop -- simply loop over the\n",
    "        # layers in reverse order (ignoring the last two since we\n",
    "        # already have taken them into account)\n",
    "        for layer in np.arange(len(A) - 2, 0, -1):\n",
    "            # the delta for the current layer is equal to the delta\n",
    "            # of the *previous layer* dotted with the weight matrix\n",
    "            # of the current layer, followed by multiplying the delta\n",
    "            # by the derivative of the nonlinear activation function\n",
    "            # for the activations of the current layer\n",
    "            delta = D[-1].dot(self.W[layer].T)\n",
    "            delta = delta * self.sigmoid_deriv(A[layer])\n",
    "            D.append(delta)\n",
    "        # since we looped over our layers in reverse order we need to\n",
    "        # reverse the deltas\n",
    "        D = D[::-1]\n",
    "        # WEIGHT UPDATE PHASE\n",
    "        # loop over the layers\n",
    "        for layer in np.arange(0, len(self.W)):\n",
    "        # update our weights by taking the dot product of the layer\n",
    "        # activations with their respective deltas, then multiplying\n",
    "        # this value by some small learning rate and adding to our\n",
    "        # weight matrix -- this is where the actual \"learning\" takes\n",
    "        # place\n",
    "#         V t = γV t−1 + α∇ W f (W )\n",
    "#         W = W −V t\n",
    "            vt = self.gamma*self.V[layer] + self.alpha * A[layer].T.dot(D[layer])\n",
    "            self.V[layer] = vt\n",
    "            self.W[layer] += -vt\n",
    "            \n",
    "    def predict(self, X,addBias=False):\n",
    "        # initialize the output prediction as the input features -- this\n",
    "        # value will be (forward) propagated through the network to\n",
    "        # obtain the final prediction\n",
    "        p = np.atleast_2d(X)\n",
    "        # insert a column of 1's as the last entry in the feature\n",
    "        # matrix (bias)\n",
    "        if addBias:\n",
    "            p = np.c_[p, np.ones((p.shape[0]))]\n",
    "        # loop over our layers in the network\n",
    "        for layer in np.arange(0, len(self.W)):\n",
    "            # computing the output prediction is simply\n",
    "            # the forward pass\n",
    "            \n",
    "            p = self.sigmoid(np.dot(p, self.W[layer]))\n",
    "        return p\n",
    "    \n",
    "    def calculate_loss(self, X, targets):\n",
    "        # make predictions for the input data points then compute\n",
    "        # the loss\n",
    "        targets = np.atleast_2d(targets)\n",
    "        predictions = self.predict(X)\n",
    "        loss = 0.5 * np.sum((predictions - targets) ** 2)\n",
    "        return loss"
   ]
  },
  {
   "cell_type": "code",
   "execution_count": 65,
   "metadata": {},
   "outputs": [
    {
     "name": "stdout",
     "output_type": "stream",
     "text": [
      "loading MNIST (sample) dataset...\n",
      "samples: 1797, dim: 64\n"
     ]
    }
   ],
   "source": [
    "# load the MNIST dataset and apply min/max scaling to scale the\n",
    "# pixel intensity values to the range [0, 1] (each image is\n",
    "# represented by an 8 x 8 = 64-dim feature vector)\n",
    "print(\"loading MNIST (sample) dataset...\")\n",
    "digits = datasets.load_digits()\n",
    "data = digits.data.astype(\"float\")\n",
    "data = (data - data.min()) / (data.max() - data.min())\n",
    "print(\"samples: {}, dim: {}\".format(data.shape[0],\n",
    "data.shape[1]))\n",
    "# construct the training and testing splits\n",
    "(trainX, testX, trainY, testY) = train_test_split(data,\n",
    "digits.target, test_size=0.25)\n",
    "# convert the labels from integers to vectors:1 = [0,1,0,0,0,0,0,0,0,0]\n",
    "lb=LabelBinarizer()\n",
    "trainY =lb.fit_transform(trainY)\n",
    "testY = lb.transform(testY)"
   ]
  },
  {
   "cell_type": "code",
   "execution_count": 66,
   "metadata": {},
   "outputs": [
    {
     "name": "stdout",
     "output_type": "stream",
     "text": [
      "training network...\n",
      "NN architecture: 64-32-16-10\n",
      "[Training: ] epoch= 1 , loss= 389.63989873507836\n",
      "[testing:] test loss 128.87723340634886\n",
      "[Training: ] epoch= 100 , loss= 2.0880362294469013\n",
      "[testing:] test loss 9.146272882292902\n"
     ]
    },
    {
     "ename": "KeyboardInterrupt",
     "evalue": "",
     "output_type": "error",
     "traceback": [
      "\u001b[0;31m---------------------------------------------------------------------------\u001b[0m",
      "\u001b[0;31mKeyboardInterrupt\u001b[0m                         Traceback (most recent call last)",
      "\u001b[0;32m<ipython-input-66-22432bb93490>\u001b[0m in \u001b[0;36m<module>\u001b[0;34m\u001b[0m\n\u001b[1;32m      5\u001b[0m \u001b[0mnn\u001b[0m \u001b[0;34m=\u001b[0m \u001b[0mNeuralNetwork\u001b[0m\u001b[0;34m(\u001b[0m\u001b[0;34m[\u001b[0m\u001b[0;36m64\u001b[0m\u001b[0;34m,\u001b[0m\u001b[0;36m32\u001b[0m\u001b[0;34m,\u001b[0m\u001b[0;36m16\u001b[0m\u001b[0;34m,\u001b[0m \u001b[0;36m10\u001b[0m\u001b[0;34m]\u001b[0m\u001b[0;34m,\u001b[0m \u001b[0malpha\u001b[0m\u001b[0;34m=\u001b[0m\u001b[0;36m0.5\u001b[0m\u001b[0;34m,\u001b[0m\u001b[0mgamma\u001b[0m\u001b[0;34m=\u001b[0m\u001b[0;36m0.5\u001b[0m\u001b[0;34m)\u001b[0m\u001b[0;34m\u001b[0m\u001b[0;34m\u001b[0m\u001b[0m\n\u001b[1;32m      6\u001b[0m \u001b[0mprint\u001b[0m\u001b[0;34m(\u001b[0m\u001b[0;34m\"{}\"\u001b[0m\u001b[0;34m.\u001b[0m\u001b[0mformat\u001b[0m\u001b[0;34m(\u001b[0m\u001b[0mnn\u001b[0m\u001b[0;34m)\u001b[0m\u001b[0;34m)\u001b[0m\u001b[0;34m\u001b[0m\u001b[0;34m\u001b[0m\u001b[0m\n\u001b[0;32m----> 7\u001b[0;31m \u001b[0mlosses5\u001b[0m \u001b[0;34m=\u001b[0m \u001b[0mnn\u001b[0m\u001b[0;34m.\u001b[0m\u001b[0mfit\u001b[0m\u001b[0;34m(\u001b[0m\u001b[0mtrainX\u001b[0m\u001b[0;34m,\u001b[0m \u001b[0mtrainY\u001b[0m\u001b[0;34m,\u001b[0m\u001b[0mtestX\u001b[0m\u001b[0;34m,\u001b[0m \u001b[0mtestY\u001b[0m\u001b[0;34m,\u001b[0m \u001b[0mepochs\u001b[0m\u001b[0;34m=\u001b[0m\u001b[0;36m1500\u001b[0m\u001b[0;34m)\u001b[0m\u001b[0;34m\u001b[0m\u001b[0;34m\u001b[0m\u001b[0m\n\u001b[0m\u001b[1;32m      8\u001b[0m \u001b[0;31m# evaluate the network\u001b[0m\u001b[0;34m\u001b[0m\u001b[0;34m\u001b[0m\u001b[0;34m\u001b[0m\u001b[0m\n\u001b[1;32m      9\u001b[0m \u001b[0mprint\u001b[0m\u001b[0;34m(\u001b[0m\u001b[0;34m\"evaluating network...\"\u001b[0m\u001b[0;34m)\u001b[0m\u001b[0;34m\u001b[0m\u001b[0;34m\u001b[0m\u001b[0m\n",
      "\u001b[0;32m<ipython-input-64-a520b8640f5e>\u001b[0m in \u001b[0;36mfit\u001b[0;34m(self, X, y, Xt, yt, epochs, displayUpdate)\u001b[0m\n\u001b[1;32m     54\u001b[0m             \u001b[0;31m# our network on it\u001b[0m\u001b[0;34m\u001b[0m\u001b[0;34m\u001b[0m\u001b[0;34m\u001b[0m\u001b[0m\n\u001b[1;32m     55\u001b[0m             \u001b[0;32mfor\u001b[0m \u001b[0;34m(\u001b[0m\u001b[0mx\u001b[0m\u001b[0;34m,\u001b[0m \u001b[0mtarget\u001b[0m\u001b[0;34m)\u001b[0m \u001b[0;32min\u001b[0m \u001b[0mzip\u001b[0m\u001b[0;34m(\u001b[0m\u001b[0mX\u001b[0m\u001b[0;34m,\u001b[0m \u001b[0my\u001b[0m\u001b[0;34m)\u001b[0m\u001b[0;34m:\u001b[0m\u001b[0;34m\u001b[0m\u001b[0;34m\u001b[0m\u001b[0m\n\u001b[0;32m---> 56\u001b[0;31m                 \u001b[0mself\u001b[0m\u001b[0;34m.\u001b[0m\u001b[0mfit_partial\u001b[0m\u001b[0;34m(\u001b[0m\u001b[0mx\u001b[0m\u001b[0;34m,\u001b[0m \u001b[0mtarget\u001b[0m\u001b[0;34m)\u001b[0m\u001b[0;34m\u001b[0m\u001b[0;34m\u001b[0m\u001b[0m\n\u001b[0m\u001b[1;32m     57\u001b[0m                 \u001b[0;31m# check to see if we should display a training update\u001b[0m\u001b[0;34m\u001b[0m\u001b[0;34m\u001b[0m\u001b[0;34m\u001b[0m\u001b[0m\n\u001b[1;32m     58\u001b[0m             \u001b[0;32mif\u001b[0m \u001b[0mepoch\u001b[0m \u001b[0;34m==\u001b[0m \u001b[0;36m0\u001b[0m \u001b[0;32mor\u001b[0m \u001b[0;34m(\u001b[0m\u001b[0mepoch\u001b[0m \u001b[0;34m+\u001b[0m \u001b[0;36m1\u001b[0m\u001b[0;34m)\u001b[0m \u001b[0;34m%\u001b[0m \u001b[0mdisplayUpdate\u001b[0m \u001b[0;34m==\u001b[0m \u001b[0;36m0\u001b[0m\u001b[0;34m:\u001b[0m\u001b[0;34m\u001b[0m\u001b[0;34m\u001b[0m\u001b[0m\n",
      "\u001b[0;32m<ipython-input-64-a520b8640f5e>\u001b[0m in \u001b[0;36mfit_partial\u001b[0;34m(self, x, y)\u001b[0m\n\u001b[1;32m     81\u001b[0m             \u001b[0;31m# computing the \"net output\" is simply applying our\u001b[0m\u001b[0;34m\u001b[0m\u001b[0;34m\u001b[0m\u001b[0;34m\u001b[0m\u001b[0m\n\u001b[1;32m     82\u001b[0m             \u001b[0;31m# nonlinear activation function to the net input\u001b[0m\u001b[0;34m\u001b[0m\u001b[0;34m\u001b[0m\u001b[0;34m\u001b[0m\u001b[0m\n\u001b[0;32m---> 83\u001b[0;31m             \u001b[0mout\u001b[0m \u001b[0;34m=\u001b[0m \u001b[0mself\u001b[0m\u001b[0;34m.\u001b[0m\u001b[0msigmoid\u001b[0m\u001b[0;34m(\u001b[0m\u001b[0mnet\u001b[0m\u001b[0;34m)\u001b[0m\u001b[0;34m\u001b[0m\u001b[0;34m\u001b[0m\u001b[0m\n\u001b[0m\u001b[1;32m     84\u001b[0m             \u001b[0;31m# once we have the net output, add it to our list of\u001b[0m\u001b[0;34m\u001b[0m\u001b[0;34m\u001b[0m\u001b[0;34m\u001b[0m\u001b[0m\n\u001b[1;32m     85\u001b[0m             \u001b[0;31m# activations\u001b[0m\u001b[0;34m\u001b[0m\u001b[0;34m\u001b[0m\u001b[0;34m\u001b[0m\u001b[0m\n",
      "\u001b[0;32m<ipython-input-64-a520b8640f5e>\u001b[0m in \u001b[0;36msigmoid\u001b[0;34m(self, x)\u001b[0m\n\u001b[1;32m     34\u001b[0m         \u001b[0;31m# compute and return the sigmoid activation value for a\u001b[0m\u001b[0;34m\u001b[0m\u001b[0;34m\u001b[0m\u001b[0;34m\u001b[0m\u001b[0m\n\u001b[1;32m     35\u001b[0m         \u001b[0;31m# given input value\u001b[0m\u001b[0;34m\u001b[0m\u001b[0;34m\u001b[0m\u001b[0;34m\u001b[0m\u001b[0m\n\u001b[0;32m---> 36\u001b[0;31m         \u001b[0;32mreturn\u001b[0m \u001b[0;36m1.0\u001b[0m \u001b[0;34m/\u001b[0m \u001b[0;34m(\u001b[0m\u001b[0;36m1\u001b[0m \u001b[0;34m+\u001b[0m \u001b[0mnp\u001b[0m\u001b[0;34m.\u001b[0m\u001b[0mexp\u001b[0m\u001b[0;34m(\u001b[0m\u001b[0;34m-\u001b[0m\u001b[0mx\u001b[0m\u001b[0;34m)\u001b[0m\u001b[0;34m)\u001b[0m\u001b[0;34m\u001b[0m\u001b[0;34m\u001b[0m\u001b[0m\n\u001b[0m\u001b[1;32m     37\u001b[0m \u001b[0;34m\u001b[0m\u001b[0m\n\u001b[1;32m     38\u001b[0m     \u001b[0;32mdef\u001b[0m \u001b[0msigmoid_deriv\u001b[0m\u001b[0;34m(\u001b[0m\u001b[0mself\u001b[0m\u001b[0;34m,\u001b[0m \u001b[0mx\u001b[0m\u001b[0;34m)\u001b[0m\u001b[0;34m:\u001b[0m\u001b[0;34m\u001b[0m\u001b[0;34m\u001b[0m\u001b[0m\n",
      "\u001b[0;31mKeyboardInterrupt\u001b[0m: "
     ]
    }
   ],
   "source": [
    "# train the network\n",
    "print(\"training network...\")\n",
    "#create a network object with two hidden layer h1 = 32 units and h2 = 16 units\n",
    "# ENTER YOUR CODE HERE\n",
    "nn = NeuralNetwork([64,32,16, 10], alpha=0.5,gamma=0.5) \n",
    "print(\"{}\".format(nn))\n",
    "losses5 = nn.fit(trainX, trainY,testX, testY, epochs=1500)\n",
    "# evaluate the network\n",
    "print(\"evaluating network...\")\n",
    "predictions2 = nn.predict(testX,addBias=True)\n",
    "predictions2 = predictions2.argmax(axis=1)\n",
    "print(classification_report(testY.argmax(axis=1), predictions2))"
   ]
  },
  {
   "cell_type": "code",
   "execution_count": 42,
   "metadata": {},
   "outputs": [
    {
     "data": {
      "text/plain": [
       "[<matplotlib.lines.Line2D at 0x7f684c447630>]"
      ]
     },
     "execution_count": 42,
     "metadata": {},
     "output_type": "execute_result"
    },
    {
     "data": {
      "image/png": "[encoded data removed]",
      "text/plain": [
       "<Figure size 432x288 with 1 Axes>"
      ]
     },
     "metadata": {
      "needs_background": "light"
     },
     "output_type": "display_data"
    }
   ],
   "source": [
    "plt.plot(losses2[3:6])\n",
    "plt.plot(losses5[3:6])"
   ]
  },
  {
   "cell_type": "code",
   "execution_count": 72,
   "metadata": {},
   "outputs": [
    {
     "name": "stdout",
     "output_type": "stream",
     "text": [
      "[Training: ] epoch= 1 , loss= 66.80292358823424\n",
      "[testing:] test loss 66.80292358823424\n",
      "[Training: ] epoch= 100 , loss= 20.98083728884948\n",
      "[testing:] test loss 20.98083728884948\n",
      "[Training: ] epoch= 200 , loss= 20.79420235588166\n",
      "[testing:] test loss 20.79420235588166\n",
      "[Training: ] epoch= 300 , loss= 20.77576340351387\n",
      "[testing:] test loss 20.77576340351387\n",
      "[Training: ] epoch= 400 , loss= 20.770503498696456\n",
      "[testing:] test loss 20.770503498696456\n",
      "[Training: ] epoch= 500 , loss= 20.763656216500546\n",
      "[testing:] test loss 20.763656216500546\n",
      "[Training: ] epoch= 600 , loss= 20.75214753789822\n",
      "[testing:] test loss 20.75214753789822\n",
      "[Training: ] epoch= 700 , loss= 20.73474486955459\n",
      "[testing:] test loss 20.73474486955459\n",
      "[Training: ] epoch= 800 , loss= 20.71113799524344\n",
      "[testing:] test loss 20.71113799524344\n",
      "[Training: ] epoch= 900 , loss= 20.68044943805002\n",
      "[testing:] test loss 20.68044943805002\n",
      "[Training: ] epoch= 1000 , loss= 20.641614676948535\n",
      "[testing:] test loss 20.641614676948535\n",
      "[Training: ] epoch= 1100 , loss= 20.59417479358601\n",
      "[testing:] test loss 20.59417479358601\n",
      "[Training: ] epoch= 1200 , loss= 20.53816098087745\n",
      "[testing:] test loss 20.53816098087745\n",
      "[Training: ] epoch= 1300 , loss= 20.474150884536723\n",
      "[testing:] test loss 20.474150884536723\n",
      "[Training: ] epoch= 1400 , loss= 20.40387006596382\n",
      "[testing:] test loss 20.40387006596382\n",
      "[Training: ] epoch= 1500 , loss= 20.331147860170837\n",
      "[testing:] test loss 20.331147860170837\n",
      "[Training: ] epoch= 1600 , loss= 20.261739700781426\n",
      "[testing:] test loss 20.261739700781426\n",
      "[Training: ] epoch= 1700 , loss= 20.200621680007462\n",
      "[testing:] test loss 20.200621680007462\n",
      "[Training: ] epoch= 1800 , loss= 20.14957062420472\n",
      "[testing:] test loss 20.14957062420472\n",
      "[Training: ] epoch= 1900 , loss= 20.107822753125124\n",
      "[testing:] test loss 20.107822753125124\n",
      "[Training: ] epoch= 2000 , loss= 20.073766930372965\n",
      "[testing:] test loss 20.073766930372965\n",
      "[Training: ] epoch= 2100 , loss= 20.04583442752444\n",
      "[testing:] test loss 20.04583442752444\n",
      "[Training: ] epoch= 2200 , loss= 20.02274661017432\n",
      "[testing:] test loss 20.02274661017432\n",
      "[Training: ] epoch= 2300 , loss= 20.003520349594375\n",
      "[testing:] test loss 20.003520349594375\n",
      "[Training: ] epoch= 2400 , loss= 19.98740741538264\n",
      "[testing:] test loss 19.98740741538264\n",
      "[Training: ] epoch= 2500 , loss= 19.973831227398367\n",
      "[testing:] test loss 19.973831227398367\n",
      "[Training: ] epoch= 2600 , loss= 19.962338592132006\n",
      "[testing:] test loss 19.962338592132006\n",
      "[Training: ] epoch= 2700 , loss= 19.95256667656318\n",
      "[testing:] test loss 19.95256667656318\n",
      "[Training: ] epoch= 2800 , loss= 19.944220987906327\n",
      "[testing:] test loss 19.944220987906327\n",
      "[Training: ] epoch= 2900 , loss= 19.937060372265286\n",
      "[testing:] test loss 19.937060372265286\n",
      "[Training: ] epoch= 3000 , loss= 19.930886324723765\n",
      "[testing:] test loss 19.930886324723765\n",
      "[Training: ] epoch= 3100 , loss= 19.925534992496218\n",
      "[testing:] test loss 19.925534992496218\n",
      "[Training: ] epoch= 3200 , loss= 19.92087094764681\n",
      "[testing:] test loss 19.92087094764681\n",
      "[Training: ] epoch= 3300 , loss= 19.916782199135316\n",
      "[testing:] test loss 19.916782199135316\n",
      "[Training: ] epoch= 3400 , loss= 19.913176125961304\n",
      "[testing:] test loss 19.913176125961304\n",
      "[Training: ] epoch= 3500 , loss= 19.90997612711437\n",
      "[testing:] test loss 19.90997612711437\n",
      "[Training: ] epoch= 3600 , loss= 19.90711884713732\n",
      "[testing:] test loss 19.90711884713732\n",
      "[Training: ] epoch= 3700 , loss= 19.90455187304913\n",
      "[testing:] test loss 19.90455187304913\n",
      "[Training: ] epoch= 3800 , loss= 19.902231821626295\n",
      "[testing:] test loss 19.902231821626295\n",
      "[Training: ] epoch= 3900 , loss= 19.900122751896173\n",
      "[testing:] test loss 19.900122751896173\n",
      "[Training: ] epoch= 4000 , loss= 19.89819484932263\n",
      "[testing:] test loss 19.89819484932263\n",
      "[Training: ] epoch= 4100 , loss= 19.896423337175833\n",
      "[testing:] test loss 19.896423337175833\n",
      "[Training: ] epoch= 4200 , loss= 19.89478757781974\n",
      "[testing:] test loss 19.89478757781974\n",
      "[Training: ] epoch= 4300 , loss= 19.893270332581864\n",
      "[testing:] test loss 19.893270332581864\n",
      "[Training: ] epoch= 4400 , loss= 19.891857153782208\n",
      "[testing:] test loss 19.891857153782208\n",
      "[Training: ] epoch= 4500 , loss= 19.890535886596055\n",
      "[testing:] test loss 19.890535886596055\n",
      "[Training: ] epoch= 4600 , loss= 19.889296261874204\n",
      "[testing:] test loss 19.889296261874204\n",
      "[Training: ] epoch= 4700 , loss= 19.88812956397205\n",
      "[testing:] test loss 19.88812956397205\n",
      "[Training: ] epoch= 4800 , loss= 19.887028360146886\n",
      "[testing:] test loss 19.887028360146886\n",
      "[Training: ] epoch= 4900 , loss= 19.88598628025219\n",
      "[testing:] test loss 19.88598628025219\n",
      "[Training: ] epoch= 5000 , loss= 19.884997837332588\n",
      "[testing:] test loss 19.884997837332588\n",
      "[Training: ] epoch= 5100 , loss= 19.88405828134792\n",
      "[testing:] test loss 19.88405828134792\n",
      "[Training: ] epoch= 5200 , loss= 19.883163479649486\n",
      "[testing:] test loss 19.883163479649486\n",
      "[Training: ] epoch= 5300 , loss= 19.882309819020357\n",
      "[testing:] test loss 19.882309819020357\n",
      "[Training: ] epoch= 5400 , loss= 19.88149412508951\n",
      "[testing:] test loss 19.88149412508951\n",
      "[Training: ] epoch= 5500 , loss= 19.880713595759595\n",
      "[testing:] test loss 19.880713595759595\n",
      "[Training: ] epoch= 5600 , loss= 19.879965745965215\n",
      "[testing:] test loss 19.879965745965215\n",
      "[Training: ] epoch= 5700 , loss= 19.879248361627635\n",
      "[testing:] test loss 19.879248361627635\n",
      "[Training: ] epoch= 5800 , loss= 19.878559461108917\n",
      "[testing:] test loss 19.878559461108917\n",
      "[Training: ] epoch= 5900 , loss= 19.877897262816603\n",
      "[testing:] test loss 19.877897262816603\n",
      "[Training: ] epoch= 6000 , loss= 19.877260157879384\n",
      "[testing:] test loss 19.877260157879384\n",
      "[Training: ] epoch= 6100 , loss= 19.87664668703122\n",
      "[testing:] test loss 19.87664668703122\n",
      "[Training: ] epoch= 6200 , loss= 19.876055521003515\n",
      "[testing:] test loss 19.876055521003515\n",
      "[Training: ] epoch= 6300 , loss= 19.87548544385814\n",
      "[testing:] test loss 19.87548544385814\n",
      "[Training: ] epoch= 6400 , loss= 19.87493533879438\n",
      "[testing:] test loss 19.87493533879438\n",
      "[Training: ] epoch= 6500 , loss= 19.874404176044916\n",
      "[testing:] test loss 19.874404176044916\n",
      "[Training: ] epoch= 6600 , loss= 19.8738910025392\n",
      "[testing:] test loss 19.8738910025392\n",
      "[Training: ] epoch= 6700 , loss= 19.87339493306522\n",
      "[testing:] test loss 19.87339493306522\n",
      "[Training: ] epoch= 6800 , loss= 19.872915142703548\n",
      "[testing:] test loss 19.872915142703548\n",
      "[Training: ] epoch= 6900 , loss= 19.87245086034093\n",
      "[testing:] test loss 19.87245086034093\n",
      "[Training: ] epoch= 7000 , loss= 19.87200136310092\n",
      "[testing:] test loss 19.87200136310092\n",
      "[Training: ] epoch= 7100 , loss= 19.871565971553597\n",
      "[testing:] test loss 19.871565971553597\n",
      "[Training: ] epoch= 7200 , loss= 19.871144045585552\n",
      "[testing:] test loss 19.871144045585552\n",
      "[Training: ] epoch= 7300 , loss= 19.870734980830793\n",
      "[testing:] test loss 19.870734980830793\n",
      "[Training: ] epoch= 7400 , loss= 19.870338205576296\n",
      "[testing:] test loss 19.870338205576296\n",
      "[Training: ] epoch= 7500 , loss= 19.869953178070723\n",
      "[testing:] test loss 19.869953178070723\n",
      "[Training: ] epoch= 7600 , loss= 19.869579384173246\n",
      "[testing:] test loss 19.869579384173246\n",
      "[Training: ] epoch= 7700 , loss= 19.869216335291767\n",
      "[testing:] test loss 19.869216335291767\n",
      "[Training: ] epoch= 7800 , loss= 19.868863566565143\n",
      "[testing:] test loss 19.868863566565143\n",
      "[Training: ] epoch= 7900 , loss= 19.868520635252548\n",
      "[testing:] test loss 19.868520635252548\n",
      "[Training: ] epoch= 8000 , loss= 19.86818711929878\n",
      "[testing:] test loss 19.86818711929878\n",
      "[Training: ] epoch= 8100 , loss= 19.867862616048463\n",
      "[testing:] test loss 19.867862616048463\n",
      "[Training: ] epoch= 8200 , loss= 19.867546741087075\n",
      "[testing:] test loss 19.867546741087075\n",
      "[Training: ] epoch= 8300 , loss= 19.867239127190707\n",
      "[testing:] test loss 19.867239127190707\n",
      "[Training: ] epoch= 8400 , loss= 19.86693942336799\n",
      "[testing:] test loss 19.86693942336799\n",
      "[Training: ] epoch= 8500 , loss= 19.86664729398189\n",
      "[testing:] test loss 19.86664729398189\n",
      "[Training: ] epoch= 8600 , loss= 19.866362417940252\n",
      "[testing:] test loss 19.866362417940252\n",
      "[Training: ] epoch= 8700 , loss= 19.86608448794569\n",
      "[testing:] test loss 19.86608448794569\n",
      "[Training: ] epoch= 8800 , loss= 19.865813209797608\n",
      "[testing:] test loss 19.865813209797608\n",
      "[Training: ] epoch= 8900 , loss= 19.86554830174005\n",
      "[testing:] test loss 19.86554830174005\n",
      "[Training: ] epoch= 9000 , loss= 19.865289493849346\n",
      "[testing:] test loss 19.865289493849346\n"
     ]
    },
    {
     "name": "stdout",
     "output_type": "stream",
     "text": [
      "[Training: ] epoch= 9100 , loss= 19.865036527458024\n",
      "[testing:] test loss 19.865036527458024\n",
      "[Training: ] epoch= 9200 , loss= 19.864789154610722\n",
      "[testing:] test loss 19.864789154610722\n",
      "[Training: ] epoch= 9300 , loss= 19.86454713754869\n",
      "[testing:] test loss 19.86454713754869\n",
      "[Training: ] epoch= 9400 , loss= 19.864310248220917\n",
      "[testing:] test loss 19.864310248220917\n",
      "[Training: ] epoch= 9500 , loss= 19.864078267818698\n",
      "[testing:] test loss 19.864078267818698\n",
      "[Training: ] epoch= 9600 , loss= 19.863850986332604\n",
      "[testing:] test loss 19.863850986332604\n",
      "[Training: ] epoch= 9700 , loss= 19.863628202128986\n",
      "[testing:] test loss 19.863628202128986\n",
      "[Training: ] epoch= 9800 , loss= 19.863409721545572\n",
      "[testing:] test loss 19.863409721545572\n",
      "[Training: ] epoch= 9900 , loss= 19.863195358504207\n",
      "[testing:] test loss 19.863195358504207\n",
      "[Training: ] epoch= 10000 , loss= 19.862984934139547\n",
      "[testing:] test loss 19.862984934139547\n"
     ]
    }
   ],
   "source": [
    "nn = NeuralNetwork([1, 6,1], alpha=0.01)\n",
    "losses6 = nn.fit(X, y, X, y, epochs=10000)"
   ]
  },
  {
   "cell_type": "code",
   "execution_count": 73,
   "metadata": {},
   "outputs": [
    {
     "data": {
      "text/plain": [
       "[<matplotlib.lines.Line2D at 0x7f684c3b5be0>]"
      ]
     },
     "execution_count": 73,
     "metadata": {},
     "output_type": "execute_result"
    },
    {
     "data": {
      "image/png": "[encoded data removed]",
      "text/plain": [
       "<Figure size 432x288 with 1 Axes>"
      ]
     },
     "metadata": {
      "needs_background": "light"
     },
     "output_type": "display_data"
    }
   ],
   "source": [
    "plt.scatter(X,y)\n",
    "y_hat =  nn.predict(np.sort(X,axis=0),addBias=True)\n",
    "plt.plot(np.sort(X,axis=0),y_hat,c='red')"
   ]
  },
  {
   "cell_type": "code",
   "execution_count": null,
   "metadata": {},
   "outputs": [],
   "source": []
  }
 ],
 "metadata": {
  "kernelspec": {
   "display_name": "Python 3",
   "language": "python",
   "name": "python3"
  },
  "language_info": {
   "codemirror_mode": {
    "name": "ipython",
    "version": 3
   },
   "file_extension": ".py",
   "mimetype": "text/x-python",
   "name": "python",
   "nbconvert_exporter": "python",
   "pygments_lexer": "ipython3",
   "version": "3.6.9"
  }
 },
 "nbformat": 4,
 "nbformat_minor": 2
}
