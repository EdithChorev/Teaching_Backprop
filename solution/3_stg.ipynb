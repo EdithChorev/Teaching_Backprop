{
 "cells": [
  {
   "cell_type": "markdown",
   "metadata": {},
   "source": [
    "### DSR 20 - Backprop course\n",
    "\n",
    "## 3. NN and backprop\n",
    "### Here we are going to implement a Multy Layered Neural Netwrok.\n",
    "### We will use and extreme case of SGD where the batch size is 1 (i.e updating weights after every sample)"
   ]
  },
  {
   "cell_type": "code",
   "execution_count": 4,
   "metadata": {},
   "outputs": [],
   "source": [
    "import numpy as np\n",
    "import matplotlib.pyplot as plt"
   ]
  },
  {
   "cell_type": "markdown",
   "metadata": {},
   "source": [
    "### multi layer perceptron class:\n",
    "\n",
    "loss function:\n",
    "$$ loss = 0.5(pred-true)^{2}$$\n"
   ]
  },
  {
   "cell_type": "code",
   "execution_count": 5,
   "metadata": {},
   "outputs": [],
   "source": [
    "class NeuralNetwork:\n",
    "    def __init__(self, layers, alpha=0.1):\n",
    "    # initialize the list of weights matrices, then store the\n",
    "    # network architecture and learning rate\n",
    "        self.W = []\n",
    "        self.layers = layers\n",
    "        self.alpha = alpha\n",
    "        # start looping from the index of the first layer but\n",
    "        # stop before we reach the last two layers\n",
    "        for i in np.arange(0, len(layers) - 2):\n",
    "            # randomly initialize a weight matrix connecting the\n",
    "            # number of nodes in each respective layer together,\n",
    "            # adding an extra node for the bias\n",
    "            w = np.random.randn(layers[i] + 1, layers[i + 1] + 1)\n",
    "            self.W.append(w / np.sqrt(layers[i]))\n",
    "        # the last two layers are a special case where the input\n",
    "        # connections need a bias term but the output does not\n",
    "        w = np.random.randn(layers[-2] + 1, layers[-1])\n",
    "        self.W.append(w / np.sqrt(layers[-2]))\n",
    "    \n",
    "    def __repr__(self):\n",
    "        # construct and return a string that represents the network\n",
    "        # architecture\n",
    "        return \"NN architecture: {}\".format(\n",
    "        \"-\".join(str(l) for l in self.layers))\n",
    "    \n",
    "    def sigmoid(self, x):\n",
    "        # compute and return the sigmoid activation value for a\n",
    "        # given input value\n",
    "        return 1.0 / (1 + np.exp(-x))\n",
    "    \n",
    "    def sigmoid_deriv(self, x):\n",
    "        # compute the derivative of the sigmoid function ASSUMING\n",
    "        # that `x` has already been passed through the `sigmoid`\n",
    "        # function\n",
    "        return x * (1 - x)\n",
    "    \n",
    "    def fit(self, X, y, epochs=1000, displayUpdate=100):\n",
    "        # insert a column of 1's as the last entry in the feature\n",
    "        # matrix -- this little trick allows us to treat the bias\n",
    "        # as a trainable parameter within the weight matrix\n",
    "        X = np.c_[X, np.ones((X.shape[0]))]\n",
    "        losses = []\n",
    "        # loop over the desired number of epochs\n",
    "        for epoch in np.arange(0, epochs):\n",
    "            # loop over each individual data point and train\n",
    "            # our network on it\n",
    "            for (x, target) in zip(X, y):\n",
    "                self.fit_partial(x, target)\n",
    "                # check to see if we should display a training update\n",
    "            if epoch == 0 or (epoch + 1) % displayUpdate == 0:\n",
    "                loss = self.calculate_loss(X, y)\n",
    "                print(\"[Training: ] epoch=\", epoch+1, \", loss=\",loss)\n",
    "                losses.append(loss)  \n",
    "        return losses\n",
    "                    \n",
    "    def fit_partial(self, x, y):\n",
    "        # construct our list of output activations for each layer\n",
    "        # as our data point flows through the network; the first\n",
    "        # activation is a special case -- it's just the input\n",
    "        # feature vector itself\n",
    "        A = [np.atleast_2d(x)]\n",
    "        # FEEDFORWARD:\n",
    "        # loop over the layers in the network\n",
    "        for layer in np.arange(0, len(self.W)):\n",
    "            # feedforward the activation at the current layer by\n",
    "            # taking the dot product between the activation and\n",
    "            # the weight matrix -- this is called the \"net input\"\n",
    "            # to the current layer\n",
    "            net = A[layer].dot(self.W[layer])\n",
    "            # computing the \"net output\" is simply applying our\n",
    "            # nonlinear activation function to the net input\n",
    "            out = self.sigmoid(net)\n",
    "            # once we have the net output, add it to our list of\n",
    "            # activations\n",
    "            A.append(out)\n",
    "\n",
    "        # BACKPROPAGATION\n",
    "        # the first phase of backpropagation is to compute the\n",
    "        # difference between our *prediction* (the final output\n",
    "        # activation in the activations list) and the true target\n",
    "        # value\n",
    "        derror = A[-1] - y\n",
    "\n",
    "        # from here, we need to apply the chain rule and build our\n",
    "        # list of deltas `D`; the first entry in the deltas is\n",
    "        # simply the error of the output layer times the derivative\n",
    "        # of our activation function for the output value\n",
    "        D = [derror * self.sigmoid_deriv(A[-1])]\n",
    "        # once you understand the chain rule it becomes super easy\n",
    "        # to implement with a `for` loop -- simply loop over the\n",
    "        # layers in reverse order (ignoring the last two since we\n",
    "        # already have taken them into account)\n",
    "        for layer in np.arange(len(A) - 2, 0, -1):\n",
    "            # the delta for the current layer is equal to the delta\n",
    "            # of the *previous layer* dotted with the weight matrix\n",
    "            # of the current layer, followed by multiplying the delta\n",
    "            # by the derivative of the nonlinear activation function\n",
    "            # for the activations of the current layer\n",
    "            delta = D[-1].dot(self.W[layer].T)\n",
    "            delta = delta * self.sigmoid_deriv(A[layer])\n",
    "            D.append(delta)\n",
    "        # since we looped over our layers in reverse order we need to\n",
    "        # reverse the deltas\n",
    "        D = D[::-1]\n",
    "        # WEIGHT UPDATE PHASE\n",
    "        # loop over the layers\n",
    "        for layer in np.arange(0, len(self.W)):\n",
    "        # update our weights by taking the dot product of the layer\n",
    "        # activations with their respective deltas, then multiplying\n",
    "        # this value by some small learning rate and adding to our\n",
    "        # weight matrix -- this is where the actual \"learning\" takes\n",
    "        # place\n",
    "            self.W[layer] += -self.alpha * A[layer].T.dot(D[layer])\n",
    "            \n",
    "    def predict(self, X,addBias=False):\n",
    "        # initialize the output prediction as the input features -- this\n",
    "        # value will be (forward) propagated through the network to\n",
    "        # obtain the final prediction\n",
    "        p = np.atleast_2d(X)\n",
    "        # insert a column of 1's as the last entry in the feature\n",
    "        # matrix (bias)\n",
    "        if addBias:\n",
    "            p = np.c_[p, np.ones((p.shape[0]))]\n",
    "        # loop over our layers in the network\n",
    "        for layer in np.arange(0, len(self.W)):\n",
    "            # computing the output prediction is simply\n",
    "            # the forward pass\n",
    "            \n",
    "            p = self.sigmoid(np.dot(p, self.W[layer]))\n",
    "        return p\n",
    "    \n",
    "    def calculate_loss(self, X, targets):\n",
    "        # make predictions for the input data points then compute\n",
    "        # the loss\n",
    "        targets = np.atleast_2d(targets)\n",
    "        predictions = self.predict(X)\n",
    "        loss = 0.5 * np.sum((predictions - targets) ** 2)\n",
    "        return loss"
   ]
  },
  {
   "cell_type": "code",
   "execution_count": 3,
   "metadata": {},
   "outputs": [
    {
     "name": "stdout",
     "output_type": "stream",
     "text": [
      "[Training: ] epoch= 1 , loss= 0.5109911323478593\n",
      "[Training: ] epoch= 100 , loss= 0.4995021792411183\n",
      "[Training: ] epoch= 200 , loss= 0.4980378301024002\n",
      "[Training: ] epoch= 300 , loss= 0.49228876344203376\n",
      "[Training: ] epoch= 400 , loss= 0.4701820215417774\n",
      "[Training: ] epoch= 500 , loss= 0.41547715633638593\n",
      "[Training: ] epoch= 600 , loss= 0.34602576494150183\n",
      "[Training: ] epoch= 700 , loss= 0.289225797268297\n",
      "[Training: ] epoch= 800 , loss= 0.2452638788054029\n",
      "[Training: ] epoch= 900 , loss= 0.21265951935735009\n",
      "[Training: ] epoch= 1000 , loss= 0.18982978017930235\n",
      "[Training: ] epoch= 1100 , loss= 0.17414580671566185\n",
      "[Training: ] epoch= 1200 , loss= 0.16301891357658896\n",
      "[Training: ] epoch= 1300 , loss= 0.15420230421806455\n",
      "[Training: ] epoch= 1400 , loss= 0.14309955095505225\n",
      "[Training: ] epoch= 1500 , loss= 0.06120396157614674\n",
      "[Training: ] epoch= 1600 , loss= 0.025258734503625285\n",
      "[Training: ] epoch= 1700 , loss= 0.017312088887094172\n",
      "[Training: ] epoch= 1800 , loss= 0.0134244237972925\n",
      "[Training: ] epoch= 1900 , loss= 0.011015090910005968\n",
      "[Training: ] epoch= 2000 , loss= 0.009347582041598138\n",
      "[Training: ] epoch= 2100 , loss= 0.008116767564744058\n",
      "[Training: ] epoch= 2200 , loss= 0.007168351456634303\n",
      "[Training: ] epoch= 2300 , loss= 0.006414300092916188\n",
      "[Training: ] epoch= 2400 , loss= 0.005800179071918907\n",
      "[Training: ] epoch= 2500 , loss= 0.005290323788662121\n",
      "[Training: ] epoch= 2600 , loss= 0.004860314045407466\n",
      "[Training: ] epoch= 2700 , loss= 0.0044928336233638665\n",
      "[Training: ] epoch= 2800 , loss= 0.004175247499556935\n",
      "[Training: ] epoch= 2900 , loss= 0.003898113274231403\n",
      "[Training: ] epoch= 3000 , loss= 0.003654229436889993\n",
      "[Training: ] epoch= 3100 , loss= 0.0034380062873805824\n",
      "[Training: ] epoch= 3200 , loss= 0.0032450381910655406\n",
      "[Training: ] epoch= 3300 , loss= 0.0030718055374501425\n",
      "[Training: ] epoch= 3400 , loss= 0.0029154625906180403\n",
      "[Training: ] epoch= 3500 , loss= 0.002773683605330322\n",
      "[Training: ] epoch= 3600 , loss= 0.002644549318040172\n",
      "[Training: ] epoch= 3700 , loss= 0.002526461950624683\n",
      "[Training: ] epoch= 3800 , loss= 0.002418080694962089\n",
      "[Training: ] epoch= 3900 , loss= 0.0023182721365500587\n",
      "[Training: ] epoch= 4000 , loss= 0.002226071727800101\n",
      "[Training: ] epoch= 4100 , loss= 0.0021406535388159256\n",
      "[Training: ] epoch= 4200 , loss= 0.002061306281642741\n",
      "[Training: ] epoch= 4300 , loss= 0.0019874141404039305\n",
      "[Training: ] epoch= 4400 , loss= 0.0019184413196925141\n",
      "[Training: ] epoch= 4500 , loss= 0.0018539194962357733\n",
      "[Training: ] epoch= 4600 , loss= 0.001793437556886234\n",
      "[Training: ] epoch= 4700 , loss= 0.0017366331514495647\n",
      "[Training: ] epoch= 4800 , loss= 0.0016831856968181095\n",
      "[Training: ] epoch= 4900 , loss= 0.001632810549789226\n",
      "[Training: ] epoch= 5000 , loss= 0.0015852541271393853\n",
      "[Training: ] epoch= 5100 , loss= 0.001540289798200603\n",
      "[Training: ] epoch= 5200 , loss= 0.001497714411075002\n",
      "[Training: ] epoch= 5300 , loss= 0.001457345341426715\n",
      "[Training: ] epoch= 5400 , loss= 0.0014190179744843754\n",
      "[Training: ] epoch= 5500 , loss= 0.0013825835479279627\n",
      "[Training: ] epoch= 5600 , loss= 0.0013479072968041522\n",
      "[Training: ] epoch= 5700 , loss= 0.0013148668523272347\n",
      "[Training: ] epoch= 5800 , loss= 0.001283350854991055\n",
      "[Training: ] epoch= 5900 , loss= 0.001253257749308625\n",
      "[Training: ] epoch= 6000 , loss= 0.0012244947330654146\n",
      "[Training: ] epoch= 6100 , loss= 0.0011969768384981433\n",
      "[Training: ] epoch= 6200 , loss= 0.001170626126503459\n",
      "[Training: ] epoch= 6300 , loss= 0.0011453709780088648\n",
      "[Training: ] epoch= 6400 , loss= 0.001121145469131415\n",
      "[Training: ] epoch= 6500 , loss= 0.0010978888188106378\n",
      "[Training: ] epoch= 6600 , loss= 0.0010755448993129716\n",
      "[Training: ] epoch= 6700 , loss= 0.001054061801430417\n",
      "[Training: ] epoch= 6800 , loss= 0.0010333914473879464\n",
      "[Training: ] epoch= 6900 , loss= 0.0010134892454741061\n",
      "[Training: ] epoch= 7000 , loss= 0.0009943137812514942\n",
      "[Training: ] epoch= 7100 , loss= 0.0009758265409146016\n",
      "[Training: ] epoch= 7200 , loss= 0.0009579916629654647\n",
      "[Training: ] epoch= 7300 , loss= 0.0009407757148888375\n",
      "[Training: ] epoch= 7400 , loss= 0.0009241474919458655\n",
      "[Training: ] epoch= 7500 , loss= 0.0009080778355771301\n",
      "[Training: ] epoch= 7600 , loss= 0.0008925394692263339\n",
      "[Training: ] epoch= 7700 , loss= 0.0008775068496695761\n",
      "[Training: ] epoch= 7800 , loss= 0.0008629560321723447\n",
      "[Training: ] epoch= 7900 , loss= 0.0008488645479999338\n",
      "[Training: ] epoch= 8000 , loss= 0.000835211292983651\n",
      "[Training: ] epoch= 8100 , loss= 0.0008219764259988743\n",
      "[Training: ] epoch= 8200 , loss= 0.0008091412763433245\n",
      "[Training: ] epoch= 8300 , loss= 0.0007966882591209702\n",
      "[Training: ] epoch= 8400 , loss= 0.0007846007978372072\n",
      "[Training: ] epoch= 8500 , loss= 0.0007728632535002255\n",
      "[Training: ] epoch= 8600 , loss= 0.0007614608596009667\n",
      "[Training: ] epoch= 8700 , loss= 0.0007503796624118843\n",
      "[Training: ] epoch= 8800 , loss= 0.0007396064661050977\n",
      "[Training: ] epoch= 8900 , loss= 0.0007291287822431616\n",
      "[Training: ] epoch= 9000 , loss= 0.0007189347832421618\n",
      "[Training: ] epoch= 9100 , loss= 0.0007090132594485234\n",
      "[Training: ] epoch= 9200 , loss= 0.000699353579506814\n",
      "[Training: ] epoch= 9300 , loss= 0.0006899456537288512\n",
      "[Training: ] epoch= 9400 , loss= 0.0006807799002027068\n",
      "[Training: ] epoch= 9500 , loss= 0.0006718472134062274\n",
      "[Training: ] epoch= 9600 , loss= 0.0006631389351120928\n",
      "[Training: ] epoch= 9700 , loss= 0.0006546468273922526\n",
      "[Training: ] epoch= 9800 , loss= 0.0006463630475473457\n",
      "[Training: ] epoch= 9900 , loss= 0.0006382801248034074\n",
      "[Training: ] epoch= 10000 , loss= 0.0006303909386324895\n"
     ]
    }
   ],
   "source": [
    "# construct the XOR dataset\n",
    "X = np.array([[0, 0], [0, 1], [1, 0], [1, 1]])\n",
    "y = np.array([[0], [1], [1], [0]])\n",
    "\n",
    "# define our 2-2-1 neural network and train it\n",
    "nn = NeuralNetwork([2, 2,1], alpha=0.5)\n",
    "losses = nn.fit(X, y, epochs=10000)"
   ]
  },
  {
   "cell_type": "code",
   "execution_count": 4,
   "metadata": {},
   "outputs": [
    {
     "name": "stdout",
     "output_type": "stream",
     "text": [
      "data= [0 0] , ground-truth= [0] , pred=, [[0.01560436]]  step= 0\n",
      "data= [0 1] , ground-truth= [1] , pred=, [[0.98679079]]  step= 1\n",
      "data= [1 0] , ground-truth= [1] , pred=, [[0.98029332]]  step= 1\n",
      "data= [1 1] , ground-truth= [0] , pred=, [[0.02131782]]  step= 0\n"
     ]
    }
   ],
   "source": [
    "# now that our network is trained, loop over the XOR data points\n",
    "for (x, target) in zip(X, y):\n",
    "    # make a prediction on the data point and display the result\n",
    "    # to our console\n",
    "    pred = nn.predict(x,addBias=True)\n",
    "    step = 1 if pred > 0.5 else 0\n",
    "    print(\"data=\",x,\", ground-truth=\",target,\", pred=,\",pred,\" step=\",step)"
   ]
  },
  {
   "cell_type": "code",
   "execution_count": 5,
   "metadata": {},
   "outputs": [
    {
     "data": {
      "text/plain": [
       "[<matplotlib.lines.Line2D at 0x7f51af8a0c88>]"
      ]
     },
     "execution_count": 5,
     "metadata": {},
     "output_type": "execute_result"
    },
    {
     "data": {
      "image/png": "[encoded data removed]",
      "text/plain": [
       "<Figure size 432x288 with 1 Axes>"
      ]
     },
     "metadata": {
      "needs_background": "light"
     },
     "output_type": "display_data"
    }
   ],
   "source": [
    "plt.plot(np.concatenate(([0], np.arange(1,10000,100))),losses)"
   ]
  },
  {
   "cell_type": "markdown",
   "metadata": {},
   "source": [
    "### Add code to save the training losses, plot the loss"
   ]
  },
  {
   "cell_type": "markdown",
   "metadata": {},
   "source": [
    " ### Repeat the training with a NN with [2,1] architechture"
   ]
  },
  {
   "cell_type": "markdown",
   "metadata": {},
   "source": [
    "### Classification Problem"
   ]
  },
  {
   "cell_type": "code",
   "execution_count": 8,
   "metadata": {},
   "outputs": [],
   "source": [
    "from sklearn.preprocessing import LabelBinarizer\n",
    "from sklearn.model_selection import train_test_split\n",
    "from sklearn.metrics import classification_report\n",
    "from sklearn import datasets"
   ]
  },
  {
   "cell_type": "code",
   "execution_count": 7,
   "metadata": {},
   "outputs": [
    {
     "name": "stdout",
     "output_type": "stream",
     "text": [
      "loading MNIST (sample) dataset...\n",
      "samples: 1797, dim: 64\n"
     ]
    }
   ],
   "source": [
    "# load the MNIST dataset and apply min/max scaling to scale the\n",
    "# pixel intensity values to the range [0, 1] (each image is\n",
    "# represented by an 8 x 8 = 64-dim feature vector)\n",
    "print(\"loading MNIST (sample) dataset...\")\n",
    "digits = datasets.load_digits()\n",
    "data = digits.data.astype(\"float\")\n",
    "data = (data - data.min()) / (data.max() - data.min())\n",
    "print(\"samples: {}, dim: {}\".format(data.shape[0],\n",
    "data.shape[1]))\n",
    "# construct the training and testing splits\n",
    "(trainX, testX, trainY, testY) = train_test_split(data,\n",
    "digits.target, test_size=0.25)\n",
    "# convert the labels from integers to vectors\n",
    "lb=LabelBinarizer()\n",
    "trainY = LabelBinarizer().fit_transform(trainY)\n",
    "testY = lb.fit_transform(testY)"
   ]
  },
  {
   "cell_type": "code",
   "execution_count": 8,
   "metadata": {},
   "outputs": [
    {
     "data": {
      "image/png": "[encoded data removed]",
      "text/plain": [
       "<Figure size 432x288 with 4 Axes>"
      ]
     },
     "metadata": {
      "needs_background": "light"
     },
     "output_type": "display_data"
    }
   ],
   "source": [
    "for i in range(1,5):\n",
    "    plt.subplot(1,4,i)\n",
    "    plt.imshow(np.array(data[i]).reshape(8,8),cmap='gray')"
   ]
  },
  {
   "cell_type": "code",
   "execution_count": 9,
   "metadata": {},
   "outputs": [
    {
     "name": "stdout",
     "output_type": "stream",
     "text": [
      "training network...\n",
      "NN architecture: 64-32-16-10\n",
      "[Training: ] epoch= 1 , loss= 606.3658507398834\n",
      "[Training: ] epoch= 100 , loss= 7.6207240980732935\n",
      "[Training: ] epoch= 200 , loss= 3.3316662705353792\n",
      "[Training: ] epoch= 300 , loss= 2.6185957041038126\n",
      "[Training: ] epoch= 400 , loss= 2.401729792916964\n",
      "[Training: ] epoch= 500 , loss= 2.291096098131997\n",
      "[Training: ] epoch= 600 , loss= 1.9761496958635716\n",
      "[Training: ] epoch= 700 , loss= 1.7180962877202943\n",
      "[Training: ] epoch= 800 , loss= 1.6723836494122004\n",
      "[Training: ] epoch= 900 , loss= 1.6439941958602344\n",
      "[Training: ] epoch= 1000 , loss= 1.623121759595885\n",
      "evaluating network...\n",
      "              precision    recall  f1-score   support\n",
      "\n",
      "           0       1.00      1.00      1.00        48\n",
      "           1       0.98      1.00      0.99        53\n",
      "           2       0.96      1.00      0.98        47\n",
      "           3       1.00      0.94      0.97        54\n",
      "           4       0.94      0.97      0.96        34\n",
      "           5       1.00      0.98      0.99        46\n",
      "           6       1.00      1.00      1.00        43\n",
      "           7       0.97      1.00      0.99        37\n",
      "           8       0.95      0.93      0.94        42\n",
      "           9       1.00      1.00      1.00        46\n",
      "\n",
      "    accuracy                           0.98       450\n",
      "   macro avg       0.98      0.98      0.98       450\n",
      "weighted avg       0.98      0.98      0.98       450\n",
      "\n"
     ]
    }
   ],
   "source": [
    "# train the network\n",
    "print(\"training network...\")\n",
    "nn = NeuralNetwork([trainX.shape[1], 32, 16, 10])\n",
    "print(\"{}\".format(nn))\n",
    "losses = nn.fit(trainX, trainY, epochs=1500)\n",
    "# evaluate the network\n",
    "print(\"evaluating network...\")\n",
    "predictions = nn.predict(testX,addBias=True)\n",
    "predictions = predictions.argmax(axis=1)\n",
    "print(classification_report(testY.argmax(axis=1), predictions))"
   ]
  },
  {
   "cell_type": "code",
   "execution_count": 10,
   "metadata": {},
   "outputs": [],
   "source": [
    "testY=lb.inverse_transform(testY)"
   ]
  },
  {
   "cell_type": "code",
   "execution_count": 11,
   "metadata": {},
   "outputs": [
    {
     "data": {
      "text/plain": [
       "<matplotlib.collections.PathCollection at 0x7f516b0a8fd0>"
      ]
     },
     "execution_count": 11,
     "metadata": {},
     "output_type": "execute_result"
    },
    {
     "data": {
      "image/png": "[encoded data removed]",
      "text/plain": [
       "<Figure size 432x288 with 1 Axes>"
      ]
     },
     "metadata": {
      "needs_background": "light"
     },
     "output_type": "display_data"
    }
   ],
   "source": [
    "plt.scatter(np.arange(len(predictions)),testY-predictions)"
   ]
  },
  {
   "cell_type": "code",
   "execution_count": 13,
   "metadata": {},
   "outputs": [
    {
     "data": {
      "text/plain": [
       "[<matplotlib.lines.Line2D at 0x7f51695e4c18>]"
      ]
     },
     "execution_count": 13,
     "metadata": {},
     "output_type": "execute_result"
    },
    {
     "data": {
      "image/png": "[encoded data removed]",
      "text/plain": [
       "<Figure size 432x288 with 1 Axes>"
      ]
     },
     "metadata": {
      "needs_background": "light"
     },
     "output_type": "display_data"
    }
   ],
   "source": [
    "plt.plot(np.concatenate(([0], np.arange(1,1500,100))),losses)"
   ]
  },
  {
   "cell_type": "code",
   "execution_count": 75,
   "metadata": {},
   "outputs": [
    {
     "data": {
      "image/png": "[encoded data removed]",
      "text/plain": [
       "<Figure size 432x288 with 1 Axes>"
      ]
     },
     "metadata": {
      "needs_background": "light"
     },
     "output_type": "display_data"
    }
   ],
   "source": [
    "import sklearn.datasets\n",
    "#  load a classification dataset from sklearn\n",
    "X, Y = sklearn.datasets.make_moons(200, noise=0.150)\n",
    "plt.scatter(X[:,0], X[:,1], s=42, c=Y, cmap=plt.cm.Set1)\n",
    "y=Y.reshape(-1,1)"
   ]
  },
  {
   "cell_type": "code",
   "execution_count": 77,
   "metadata": {},
   "outputs": [
    {
     "data": {
      "text/plain": [
       "(200, 2)"
      ]
     },
     "execution_count": 77,
     "metadata": {},
     "output_type": "execute_result"
    }
   ],
   "source": [
    "y=np.concatenate((y,np.logical_not(y).astype('int')),axis=1)\n",
    "y.shape"
   ]
  },
  {
   "cell_type": "code",
   "execution_count": 91,
   "metadata": {},
   "outputs": [
    {
     "name": "stdout",
     "output_type": "stream",
     "text": [
      "[Training: ] epoch= 1 , loss= 49.78245072653032\n",
      "[Training: ] epoch= 100 , loss= 22.287400381633503\n",
      "[Training: ] epoch= 200 , loss= 17.96908941855546\n",
      "[Training: ] epoch= 300 , loss= 17.357940962319603\n",
      "[Training: ] epoch= 400 , loss= 17.23630822350612\n",
      "[Training: ] epoch= 500 , loss= 17.198393058471318\n",
      "[Training: ] epoch= 600 , loss= 17.17860220500721\n",
      "[Training: ] epoch= 700 , loss= 17.163152158354755\n",
      "[Training: ] epoch= 800 , loss= 17.14868087524761\n",
      "[Training: ] epoch= 900 , loss= 17.13431374831438\n",
      "[Training: ] epoch= 1000 , loss= 17.119851982642977\n",
      "[Training: ] epoch= 1100 , loss= 17.10530917424139\n",
      "[Training: ] epoch= 1200 , loss= 17.090775691167558\n",
      "[Training: ] epoch= 1300 , loss= 17.076367576210586\n",
      "[Training: ] epoch= 1400 , loss= 17.062200336072443\n",
      "[Training: ] epoch= 1500 , loss= 17.048373745501536\n",
      "[Training: ] epoch= 1600 , loss= 17.034964309579117\n",
      "[Training: ] epoch= 1700 , loss= 17.022023540956546\n",
      "[Training: ] epoch= 1800 , loss= 17.00958007166239\n",
      "[Training: ] epoch= 1900 , loss= 16.99764370997103\n",
      "[Training: ] epoch= 2000 , loss= 16.986210015194423\n",
      "[Training: ] epoch= 2100 , loss= 16.97526453221895\n",
      "[Training: ] epoch= 2200 , loss= 16.96478629776123\n",
      "[Training: ] epoch= 2300 , loss= 16.9547505353245\n",
      "[Training: ] epoch= 2400 , loss= 16.945130615514017\n",
      "[Training: ] epoch= 2500 , loss= 16.93589941972472\n",
      "[Training: ] epoch= 2600 , loss= 16.927030251285878\n",
      "[Training: ] epoch= 2700 , loss= 16.918497418804726\n",
      "[Training: ] epoch= 2800 , loss= 16.910276589294227\n",
      "[Training: ] epoch= 2900 , loss= 16.902344982636087\n",
      "[Training: ] epoch= 3000 , loss= 16.89468145765339\n",
      "[Training: ] epoch= 3100 , loss= 16.887266524276484\n",
      "[Training: ] epoch= 3200 , loss= 16.880082305330767\n",
      "[Training: ] epoch= 3300 , loss= 16.873112464219652\n",
      "[Training: ] epoch= 3400 , loss= 16.86634211007901\n",
      "[Training: ] epoch= 3500 , loss= 16.85975768890774\n",
      "[Training: ] epoch= 3600 , loss= 16.853346867067557\n",
      "[Training: ] epoch= 3700 , loss= 16.847098411972855\n",
      "[Training: ] epoch= 3800 , loss= 16.84100207352289\n",
      "[Training: ] epoch= 3900 , loss= 16.83504846874975\n",
      "[Training: ] epoch= 4000 , loss= 16.829228971222953\n",
      "[Training: ] epoch= 4100 , loss= 16.82353560595031\n",
      "[Training: ] epoch= 4200 , loss= 16.817960949840153\n",
      "[Training: ] epoch= 4300 , loss= 16.81249803723171\n",
      "[Training: ] epoch= 4400 , loss= 16.807140269541524\n",
      "[Training: ] epoch= 4500 , loss= 16.801881327690133\n",
      "[Training: ] epoch= 4600 , loss= 16.796715085634194\n",
      "[Training: ] epoch= 4700 , loss= 16.791635523001872\n",
      "[Training: ] epoch= 4800 , loss= 16.786636634477066\n",
      "[Training: ] epoch= 4900 , loss= 16.781712333161977\n",
      "[Training: ] epoch= 5000 , loss= 16.776856344624353\n",
      "[Training: ] epoch= 5100 , loss= 16.772062087654476\n",
      "[Training: ] epoch= 5200 , loss= 16.76732253685607\n",
      "[Training: ] epoch= 5300 , loss= 16.76263006099341\n",
      "[Training: ] epoch= 5400 , loss= 16.757976229407056\n",
      "[Training: ] epoch= 5500 , loss= 16.753351576642455\n",
      "[Training: ] epoch= 5600 , loss= 16.748745312496293\n",
      "[Training: ] epoch= 5700 , loss= 16.744144960662965\n",
      "[Training: ] epoch= 5800 , loss= 16.73953590358688\n",
      "[Training: ] epoch= 5900 , loss= 16.73490080326461\n",
      "[Training: ] epoch= 6000 , loss= 16.730218856412037\n",
      "[Training: ] epoch= 6100 , loss= 16.72546482563699\n",
      "[Training: ] epoch= 6200 , loss= 16.720607762579967\n",
      "[Training: ] epoch= 6300 , loss= 16.715609298120565\n",
      "[Training: ] epoch= 6400 , loss= 16.710421306805397\n",
      "[Training: ] epoch= 6500 , loss= 16.704982634257004\n",
      "[Training: ] epoch= 6600 , loss= 16.69921435973965\n",
      "[Training: ] epoch= 6700 , loss= 16.693012650032905\n",
      "[Training: ] epoch= 6800 , loss= 16.68623742165329\n",
      "[Training: ] epoch= 6900 , loss= 16.678693249651133\n",
      "[Training: ] epoch= 7000 , loss= 16.670094986369186\n",
      "[Training: ] epoch= 7100 , loss= 16.66000114036234\n",
      "[Training: ] epoch= 7200 , loss= 16.647674262829142\n",
      "[Training: ] epoch= 7300 , loss= 16.63176284416338\n",
      "[Training: ] epoch= 7400 , loss= 16.60950954027747\n",
      "[Training: ] epoch= 7500 , loss= 16.574604891769106\n",
      "[Training: ] epoch= 7600 , loss= 16.51108711044778\n",
      "[Training: ] epoch= 7700 , loss= 16.37786982355742\n",
      "[Training: ] epoch= 7800 , loss= 16.091142142790584\n",
      "[Training: ] epoch= 7900 , loss= 15.57195454690908\n",
      "[Training: ] epoch= 8000 , loss= 14.835271899566633\n",
      "[Training: ] epoch= 8100 , loss= 13.874795367099608\n",
      "[Training: ] epoch= 8200 , loss= 11.710974912374503\n",
      "[Training: ] epoch= 8300 , loss= 7.832702472545682\n",
      "[Training: ] epoch= 8400 , loss= 6.038760032258294\n",
      "[Training: ] epoch= 8500 , loss= 4.974208662637386\n",
      "[Training: ] epoch= 8600 , loss= 4.253865227091328\n",
      "[Training: ] epoch= 8700 , loss= 3.7330179984932568\n",
      "[Training: ] epoch= 8800 , loss= 3.340996399728608\n",
      "[Training: ] epoch= 8900 , loss= 3.036815607489336\n",
      "[Training: ] epoch= 9000 , loss= 2.7945629726639565\n",
      "[Training: ] epoch= 9100 , loss= 2.5972025647711963\n",
      "[Training: ] epoch= 9200 , loss= 2.4332309774036927\n",
      "[Training: ] epoch= 9300 , loss= 2.2946840736650302\n",
      "[Training: ] epoch= 9400 , loss= 2.1759123302045893\n",
      "[Training: ] epoch= 9500 , loss= 2.072814652848764\n",
      "[Training: ] epoch= 9600 , loss= 1.9823497169596196\n",
      "[Training: ] epoch= 9700 , loss= 1.9022177073640538\n",
      "[Training: ] epoch= 9800 , loss= 1.830648546861788\n",
      "[Training: ] epoch= 9900 , loss= 1.7662579975061365\n",
      "[Training: ] epoch= 10000 , loss= 1.7079479076176396\n"
     ]
    }
   ],
   "source": [
    "nn = NeuralNetwork([2, 3,2], alpha=0.01)\n",
    "losses = nn.fit(X, y, epochs=10000)"
   ]
  },
  {
   "cell_type": "code",
   "execution_count": 92,
   "metadata": {},
   "outputs": [
    {
     "data": {
      "text/plain": [
       "<matplotlib.collections.PathCollection at 0x7f5168ca0f98>"
      ]
     },
     "execution_count": 92,
     "metadata": {},
     "output_type": "execute_result"
    },
    {
     "data": {
      "image/png": "[encoded data removed]",
      "text/plain": [
       "<Figure size 432x288 with 1 Axes>"
      ]
     },
     "metadata": {
      "needs_background": "light"
     },
     "output_type": "display_data"
    }
   ],
   "source": [
    "# Set min and max values and give it some padding\n",
    "x_min, x_max = X[:, 0].min() - .5, X[:, 0].max() + .5\n",
    "y_min, y_max = X[:, 1].min() - .5, X[:, 1].max() + .5\n",
    "h = 0.01\n",
    "# Generate a grid of points with distance h between them\n",
    "xx, yy = np.meshgrid(np.arange(x_min, x_max, h), np.arange(y_min, y_max, h))\n",
    "# Predict the function value for the whole gid\n",
    "Z = nn.predict(np.c_[xx.ravel(), yy.ravel()],addBias=True)\n",
    "\n",
    "# Plot the contour and training examples\n",
    "plt.contourf(xx, yy, Z[:,1].reshape(xx.shape), cmap=plt.cm.Set1, alpha=0.2)\n",
    "plt.scatter(X[:, 0], X[:, 1], c=Y, cmap=plt.cm.Set1)"
   ]
  },
  {
   "cell_type": "markdown",
   "metadata": {},
   "source": [
    "### Regression Problem"
   ]
  },
  {
   "cell_type": "code",
   "execution_count": 93,
   "metadata": {},
   "outputs": [],
   "source": [
    "X = np.random.uniform(-1, 1, size=1000)\n",
    "\n",
    "y= np.power(X,2)+ np.random.normal(0, 1, size=X.shape[0]) * 0.2\n",
    "X = X.reshape(-1,1)\n",
    "y = y.reshape(-1,1)"
   ]
  },
  {
   "cell_type": "code",
   "execution_count": 94,
   "metadata": {},
   "outputs": [
    {
     "data": {
      "text/plain": [
       "<matplotlib.collections.PathCollection at 0x7f5168c12668>"
      ]
     },
     "execution_count": 94,
     "metadata": {},
     "output_type": "execute_result"
    },
    {
     "data": {
      "image/png": "[encoded data removed]",
      "text/plain": [
       "<Figure size 432x288 with 1 Axes>"
      ]
     },
     "metadata": {
      "needs_background": "light"
     },
     "output_type": "display_data"
    }
   ],
   "source": [
    "plt.scatter(X,y)"
   ]
  },
  {
   "cell_type": "code",
   "execution_count": 95,
   "metadata": {},
   "outputs": [
    {
     "name": "stdout",
     "output_type": "stream",
     "text": [
      "[Training: ] epoch= 1 , loss= 62.12765318453551\n",
      "[Training: ] epoch= 100 , loss= 25.110308998431787\n",
      "[Training: ] epoch= 200 , loss= 20.036614914202467\n",
      "[Training: ] epoch= 300 , loss= 19.482920915763188\n",
      "[Training: ] epoch= 400 , loss= 19.369019733062125\n",
      "[Training: ] epoch= 500 , loss= 19.33071576167738\n",
      "[Training: ] epoch= 600 , loss= 19.31162267611298\n",
      "[Training: ] epoch= 700 , loss= 19.29939707840289\n",
      "[Training: ] epoch= 800 , loss= 19.290327721039954\n",
      "[Training: ] epoch= 900 , loss= 19.282956356450136\n",
      "[Training: ] epoch= 1000 , loss= 19.276602871899385\n",
      "[Training: ] epoch= 1100 , loss= 19.27091644167163\n",
      "[Training: ] epoch= 1200 , loss= 19.265703281857423\n",
      "[Training: ] epoch= 1300 , loss= 19.26085001306437\n",
      "[Training: ] epoch= 1400 , loss= 19.256286453104366\n",
      "[Training: ] epoch= 1500 , loss= 19.25196653296161\n",
      "[Training: ] epoch= 1600 , loss= 19.247858127571664\n",
      "[Training: ] epoch= 1700 , loss= 19.243937475767375\n",
      "[Training: ] epoch= 1800 , loss= 19.24018604063329\n",
      "[Training: ] epoch= 1900 , loss= 19.236588699993973\n",
      "[Training: ] epoch= 2000 , loss= 19.233132676428134\n",
      "[Training: ] epoch= 2100 , loss= 19.229806885470367\n",
      "[Training: ] epoch= 2200 , loss= 19.22660152391569\n",
      "[Training: ] epoch= 2300 , loss= 19.223507797955335\n",
      "[Training: ] epoch= 2400 , loss= 19.220517733863762\n",
      "[Training: ] epoch= 2500 , loss= 19.217624038050282\n",
      "[Training: ] epoch= 2600 , loss= 19.214819986954964\n",
      "[Training: ] epoch= 2700 , loss= 19.212099335098976\n",
      "[Training: ] epoch= 2800 , loss= 19.209456234128155\n",
      "[Training: ] epoch= 2900 , loss= 19.206885158331\n",
      "[Training: ] epoch= 3000 , loss= 19.204380833677778\n",
      "[Training: ] epoch= 3100 , loss= 19.20193816838312\n",
      "[Training: ] epoch= 3200 , loss= 19.19955218362118\n",
      "[Training: ] epoch= 3300 , loss= 19.19721794349729\n",
      "[Training: ] epoch= 3400 , loss= 19.194930483820077\n",
      "[Training: ] epoch= 3500 , loss= 19.192684739716725\n",
      "[Training: ] epoch= 3600 , loss= 19.190475472762998\n",
      "[Training: ] epoch= 3700 , loss= 19.188297199127433\n",
      "[Training: ] epoch= 3800 , loss= 19.186144121306967\n",
      "[Training: ] epoch= 3900 , loss= 19.184010067388442\n",
      "[Training: ] epoch= 4000 , loss= 19.181888443388438\n",
      "[Training: ] epoch= 4100 , loss= 19.179772206002546\n",
      "[Training: ] epoch= 4200 , loss= 19.177653864809116\n",
      "[Training: ] epoch= 4300 , loss= 19.175525524228597\n",
      "[Training: ] epoch= 4400 , loss= 19.173378975753756\n",
      "[Training: ] epoch= 4500 , loss= 19.171205849403542\n",
      "[Training: ] epoch= 4600 , loss= 19.16899782926064\n",
      "[Training: ] epoch= 4700 , loss= 19.16674693083987\n",
      "[Training: ] epoch= 4800 , loss= 19.164445828059\n",
      "[Training: ] epoch= 4900 , loss= 19.162088205954305\n",
      "[Training: ] epoch= 5000 , loss= 19.159669104420537\n",
      "[Training: ] epoch= 5100 , loss= 19.157185211456376\n",
      "[Training: ] epoch= 5200 , loss= 19.154635064843006\n",
      "[Training: ] epoch= 5300 , loss= 19.152019130534327\n",
      "[Training: ] epoch= 5400 , loss= 19.14933974324724\n",
      "[Training: ] epoch= 5500 , loss= 19.146600915913503\n",
      "[Training: ] epoch= 5600 , loss= 19.143808044280117\n",
      "[Training: ] epoch= 5700 , loss= 19.140967546037697\n",
      "[Training: ] epoch= 5800 , loss= 19.13808647786147\n",
      "[Training: ] epoch= 5900 , loss= 19.135172169206754\n",
      "[Training: ] epoch= 6000 , loss= 19.132231901479482\n",
      "[Training: ] epoch= 6100 , loss= 19.1292726489611\n",
      "[Training: ] epoch= 6200 , loss= 19.126300886661525\n",
      "[Training: ] epoch= 6300 , loss= 19.123322461859885\n",
      "[Training: ] epoch= 6400 , loss= 19.120342520938994\n",
      "[Training: ] epoch= 6500 , loss= 19.117365480830287\n",
      "[Training: ] epoch= 6600 , loss= 19.11439503417168\n",
      "[Training: ] epoch= 6700 , loss= 19.111434178326054\n",
      "[Training: ] epoch= 6800 , loss= 19.108485260046802\n",
      "[Training: ] epoch= 6900 , loss= 19.10555002935464\n",
      "[Training: ] epoch= 7000 , loss= 19.102629697839955\n",
      "[Training: ] epoch= 7100 , loss= 19.09972499800206\n",
      "[Training: ] epoch= 7200 , loss= 19.09683624134602\n",
      "[Training: ] epoch= 7300 , loss= 19.093963373796193\n",
      "[Training: ] epoch= 7400 , loss= 19.091106027593298\n",
      "[Training: ] epoch= 7500 , loss= 19.088263569265603\n",
      "[Training: ] epoch= 7600 , loss= 19.085435143549432\n",
      "[Training: ] epoch= 7700 , loss= 19.082619713316504\n",
      "[Training: ] epoch= 7800 , loss= 19.07981609567703\n",
      "[Training: ] epoch= 7900 , loss= 19.077022994489404\n",
      "[Training: ] epoch= 8000 , loss= 19.07423902953772\n",
      "[Training: ] epoch= 8100 , loss= 19.07146276264788\n",
      "[Training: ] epoch= 8200 , loss= 19.068692721010514\n",
      "[Training: ] epoch= 8300 , loss= 19.065927417969053\n",
      "[Training: ] epoch= 8400 , loss= 19.063165371517965\n",
      "[Training: ] epoch= 8500 , loss= 19.06040512074135\n",
      "[Training: ] epoch= 8600 , loss= 19.05764524040616\n",
      "[Training: ] epoch= 8700 , loss= 19.054884353909305\n",
      "[Training: ] epoch= 8800 , loss= 19.052121144762964\n",
      "[Training: ] epoch= 8900 , loss= 19.049354366787476\n",
      "[Training: ] epoch= 9000 , loss= 19.046582853166868\n",
      "[Training: ] epoch= 9100 , loss= 19.04380552450755\n",
      "[Training: ] epoch= 9200 , loss= 19.04102139602581\n",
      "[Training: ] epoch= 9300 , loss= 19.038229583974243\n",
      "[Training: ] epoch= 9400 , loss= 19.03542931140099\n",
      "[Training: ] epoch= 9500 , loss= 19.03261991331834\n",
      "[Training: ] epoch= 9600 , loss= 19.029800841338844\n",
      "[Training: ] epoch= 9700 , loss= 19.026971667817698\n",
      "[Training: ] epoch= 9800 , loss= 19.024132089519476\n",
      "[Training: ] epoch= 9900 , loss= 19.021281930806673\n",
      "[Training: ] epoch= 10000 , loss= 19.0184211463262\n"
     ]
    }
   ],
   "source": [
    "nn = NeuralNetwork([1, 6,1], alpha=0.01)\n",
    "losses = nn.fit(X, y, epochs=10000)"
   ]
  },
  {
   "cell_type": "code",
   "execution_count": 98,
   "metadata": {},
   "outputs": [
    {
     "data": {
      "text/plain": [
       "[<matplotlib.lines.Line2D at 0x7f516907c0b8>]"
      ]
     },
     "execution_count": 98,
     "metadata": {},
     "output_type": "execute_result"
    },
    {
     "data": {
      "image/png": "[encoded data removed]",
      "text/plain": [
       "<Figure size 432x288 with 1 Axes>"
      ]
     },
     "metadata": {
      "needs_background": "light"
     },
     "output_type": "display_data"
    }
   ],
   "source": [
    "plt.plot(losses)"
   ]
  },
  {
   "cell_type": "markdown",
   "metadata": {},
   "source": [
    "### try to play the network architechture and learning rate and see if you can improve the results"
   ]
  },
  {
   "cell_type": "code",
   "execution_count": null,
   "metadata": {},
   "outputs": [],
   "source": []
  },
  {
   "cell_type": "markdown",
   "metadata": {},
   "source": [
    "### Change the Neuralnetwrok class such that you use the momentum rule for weights update. retrain the MNIST dataset."
   ]
  },
  {
   "cell_type": "code",
   "execution_count": 15,
   "metadata": {},
   "outputs": [],
   "source": [
    "class NeuralNetwork:\n",
    "    def __init__(self, layers, alpha=0.1,gamma=0.9):\n",
    "    # initialize the list of weights matrices, then store the\n",
    "    # network architecture and learning rate\n",
    "        self.W = []\n",
    "        self.V = []\n",
    "        self.layers = layers\n",
    "        self.alpha = alpha\n",
    "        self.gamma = gamma\n",
    "        # start looping from the index of the first layer but\n",
    "        # stop before we reach the last two layers\n",
    "        for i in np.arange(0, len(layers) - 2):\n",
    "            # randomly initialize a weight matrix connecting the\n",
    "            # number of nodes in each respective layer together,\n",
    "            # adding an extra node for the bias + regularization(we will talk about it later)!!!\n",
    "            w = np.random.randn(layers[i] + 1, layers[i + 1] + 1)\n",
    "            self.W.append(w / np.sqrt(layers[i]))\n",
    "            v= np.zeros((layers[i]+1, layers[i + 1] + 1))\n",
    "            self.V.append(v)\n",
    "        # the last two layers are a special case where the input\n",
    "        # connections need a bias term but the output does not\n",
    "        w = np.random.randn(layers[-2] + 1, layers[-1])\n",
    "        self.W.append(w / np.sqrt(layers[-2]))\n",
    "        v = np.zeros((layers[-2] + 1, layers[-1]))\n",
    "        self.V.append(v)\n",
    "    \n",
    "    def __repr__(self):\n",
    "        # construct and return a string that represents the network\n",
    "        # architecture\n",
    "        return \"NN architecture: {}\".format(\n",
    "        \"-\".join(str(l) for l in self.layers))\n",
    "    \n",
    "    def sigmoid(self, x):\n",
    "        # compute and return the sigmoid activation value for a\n",
    "        # given input value\n",
    "        return 1.0 / (1 + np.exp(-x))\n",
    "    \n",
    "    def sigmoid_deriv(self, x):\n",
    "        # compute the derivative of the sigmoid function ASSUMING\n",
    "        # that `x` has already been passed through the `sigmoid`\n",
    "        # function\n",
    "        return x * (1 - x)\n",
    "    \n",
    "    def fit(self, X, y, epochs=1000, displayUpdate=100):\n",
    "        # insert a column of 1's as the last entry in the feature\n",
    "        # matrix -- this little trick allows us to treat the bias\n",
    "        # as a trainable parameter within the weight matrix\n",
    "        X = np.c_[X, np.ones((X.shape[0]))]\n",
    "        losses = []\n",
    "        # loop over the desired number of epochs\n",
    "        for epoch in np.arange(0, epochs):\n",
    "            # loop over each individual data point and train\n",
    "            # our network on it\n",
    "            for (x, target) in zip(X, y):\n",
    "                self.fit_partial(x, target)\n",
    "                # check to see if we should display a training update\n",
    "            if epoch == 0 or (epoch + 1) % displayUpdate == 0:\n",
    "                loss = self.calculate_loss(X, y)\n",
    "                print(\"[Training: ] epoch=\", epoch+1, \", loss=\",loss)\n",
    "                losses.append(loss)  \n",
    "        return losses\n",
    "                    \n",
    "    def fit_partial(self, x, y):\n",
    "        # construct our list of output activations for each layer\n",
    "        # as our data point flows through the network; the first\n",
    "        # activation is a special case -- it's just the input\n",
    "        # feature vector itself\n",
    "        A = [np.atleast_2d(x)]\n",
    "        # FEEDFORWARD:\n",
    "        # loop over the layers in the network\n",
    "        for layer in np.arange(0, len(self.W)):\n",
    "            # feedforward the activation at the current layer by\n",
    "            # taking the dot product between the activation and\n",
    "            # the weight matrix -- this is called the \"net input\"\n",
    "            # to the current layer\n",
    "            net = A[layer].dot(self.W[layer])\n",
    "            # computing the \"net output\" is simply applying our\n",
    "            # nonlinear activation function to the net input\n",
    "            out = self.sigmoid(net)\n",
    "            # once we have the net output, add it to our list of\n",
    "            # activations\n",
    "            A.append(out)\n",
    "\n",
    "        # BACKPROPAGATION\n",
    "        # the first phase of backpropagation is to compute the\n",
    "        # difference between our *prediction* (the final output\n",
    "        # activation in the activations list) and the true target\n",
    "        # value\n",
    "        derror = A[-1] - y\n",
    "\n",
    "        # from here, we need to apply the chain rule and build our\n",
    "        # list of deltas `D`; the first entry in the deltas is\n",
    "        # simply the error of the output layer times the derivative\n",
    "        # of our activation function for the output value\n",
    "        D = [derror * self.sigmoid_deriv(A[-1])]\n",
    "        # once you understand the chain rule it becomes super easy\n",
    "        # to implement with a `for` loop -- simply loop over the\n",
    "        # layers in reverse order (ignoring the last two since we\n",
    "        # already have taken them into account)\n",
    "        for layer in np.arange(len(A) - 2, 0, -1):\n",
    "            # the delta for the current layer is equal to the delta\n",
    "            # of the *previous layer* dotted with the weight matrix\n",
    "            # of the current layer, followed by multiplying the delta\n",
    "            # by the derivative of the nonlinear activation function\n",
    "            # for the activations of the current layer\n",
    "            delta = D[-1].dot(self.W[layer].T)\n",
    "            delta = delta * self.sigmoid_deriv(A[layer])\n",
    "            D.append(delta)\n",
    "        # since we looped over our layers in reverse order we need to\n",
    "        # reverse the deltas\n",
    "        D = D[::-1]\n",
    "        # WEIGHT UPDATE PHASE\n",
    "        # loop over the layers\n",
    "        for layer in np.arange(0, len(self.W)):\n",
    "        # update our weights by taking the dot product of the layer\n",
    "        # activations with their respective deltas, then multiplying\n",
    "        # this value by some small learning rate and adding to our\n",
    "        # weight matrix -- this is where the actual \"learnin g\" takes\n",
    "        # place\n",
    "     \n",
    "        # Vt = γV t−1 + α∇ W f (W )\n",
    "        #W = W −Vt\n",
    "            vt = self.gamma * self.V[layer] + self.alpha * A[layer].T.dot(D[layer])\n",
    "            self.W[layer] += -vt           \n",
    "    def predict(self, X,addBias=False):\n",
    "        # initialize the output prediction as the input features -- this\n",
    "        # value will be (forward) propagated through the network to\n",
    "        # obtain the final prediction\n",
    "        p = np.atleast_2d(X)\n",
    "        # insert a column of 1's as the last entry in the feature\n",
    "        # matrix (bias)\n",
    "        if addBias:\n",
    "            p = np.c_[p, np.ones((p.shape[0]))]\n",
    "        # loop over our layers in the network\n",
    "        for layer in np.arange(0, len(self.W)):\n",
    "            # computing the output prediction is simply\n",
    "            # the forward pass\n",
    "            \n",
    "            p = self.sigmoid(np.dot(p, self.W[layer]))\n",
    "        return p\n",
    "    \n",
    "    def calculate_loss(self, X, targets):\n",
    "        # make predictions for the input data points then compute\n",
    "        # the loss\n",
    "        targets = np.atleast_2d(targets)\n",
    "        predictions = self.predict(X)\n",
    "        loss = 0.5 * np.sum((predictions - targets) ** 2)\n",
    "        return loss"
   ]
  },
  {
   "cell_type": "code",
   "execution_count": 9,
   "metadata": {},
   "outputs": [
    {
     "name": "stdout",
     "output_type": "stream",
     "text": [
      "loading MNIST (sample) dataset...\n",
      "samples: 1797, dim: 64\n"
     ]
    }
   ],
   "source": [
    "# load the MNIST dataset and apply min/max scaling to scale the\n",
    "# pixel intensity values to the range [0, 1] (each image is\n",
    "# represented by an 8 x 8 = 64-dim feature vector)\n",
    "print(\"loading MNIST (sample) dataset...\")\n",
    "digits = datasets.load_digits()\n",
    "data = digits.data.astype(\"float\")\n",
    "data = (data - data.min()) / (data.max() - data.min())\n",
    "print(\"samples: {}, dim: {}\".format(data.shape[0],\n",
    "data.shape[1]))\n",
    "# construct the training and testing splits\n",
    "(trainX, testX, trainY, testY) = train_test_split(data,\n",
    "digits.target, test_size=0.25)\n",
    "# convert the labels from integers to vectors\n",
    "lb=LabelBinarizer()\n",
    "trainY = LabelBinarizer().fit_transform(trainY)\n",
    "testY = lb.fit_transform(testY)"
   ]
  },
  {
   "cell_type": "code",
   "execution_count": 16,
   "metadata": {},
   "outputs": [
    {
     "name": "stdout",
     "output_type": "stream",
     "text": [
      "training network...\n",
      "NN architecture: 64-32-16-10\n",
      "[Training: ] epoch= 1 , loss= 606.9010377680622\n",
      "[Training: ] epoch= 100 , loss= 9.074087231233072\n",
      "[Training: ] epoch= 200 , loss= 3.171997267037166\n",
      "[Training: ] epoch= 300 , loss= 2.1384437624117507\n",
      "[Training: ] epoch= 400 , loss= 0.8356551967067583\n",
      "[Training: ] epoch= 500 , loss= 0.3350125455892138\n",
      "[Training: ] epoch= 600 , loss= 0.24052885456569428\n",
      "[Training: ] epoch= 700 , loss= 0.18972503719884237\n",
      "[Training: ] epoch= 800 , loss= 0.15691775678546327\n",
      "[Training: ] epoch= 900 , loss= 0.13377800912293225\n",
      "[Training: ] epoch= 1000 , loss= 0.11653109650285945\n",
      "[Training: ] epoch= 1100 , loss= 0.10316733815465964\n",
      "[Training: ] epoch= 1200 , loss= 0.0925055912632678\n",
      "[Training: ] epoch= 1300 , loss= 0.08380229131030692\n",
      "[Training: ] epoch= 1400 , loss= 0.07656466660510566\n",
      "[Training: ] epoch= 1500 , loss= 0.07045273383674377\n",
      "evaluating network...\n",
      "              precision    recall  f1-score   support\n",
      "\n",
      "           0       1.00      1.00      1.00        56\n",
      "           1       0.93      1.00      0.97        42\n",
      "           2       1.00      1.00      1.00        52\n",
      "           3       0.98      1.00      0.99        49\n",
      "           4       0.98      0.98      0.98        42\n",
      "           5       0.95      0.90      0.92        41\n",
      "           6       1.00      0.98      0.99        51\n",
      "           7       1.00      0.95      0.98        44\n",
      "           8       1.00      0.97      0.99        39\n",
      "           9       0.92      0.97      0.94        34\n",
      "\n",
      "    accuracy                           0.98       450\n",
      "   macro avg       0.98      0.98      0.98       450\n",
      "weighted avg       0.98      0.98      0.98       450\n",
      "\n"
     ]
    }
   ],
   "source": [
    "# train the network\n",
    "print(\"training network...\")\n",
    "nn = NeuralNetwork([trainX.shape[1], 32, 16, 10])\n",
    "print(\"{}\".format(nn))\n",
    "losses = nn.fit(trainX, trainY, epochs=1500)\n",
    "# evaluate the network\n",
    "print(\"evaluating network...\")\n",
    "predictions = nn.predict(testX,addBias=True)\n",
    "predictions = predictions.argmax(axis=1)\n",
    "print(classification_report(testY.argmax(axis=1), predictions))"
   ]
  },
  {
   "cell_type": "markdown",
   "metadata": {},
   "source": [
    "### How did the training go? are the losses smaller is the accuracy the same? what does it mean?\n",
    "\n",
    "losses became smaller faster (faster convergence)\n",
    "although the accuracy is the same it means are confidence on the classification increases.\n",
    "\n"
   ]
  },
  {
   "cell_type": "code",
   "execution_count": null,
   "metadata": {},
   "outputs": [],
   "source": []
  }
 ],
 "metadata": {
  "kernelspec": {
   "display_name": "Python 3",
   "language": "python",
   "name": "python3"
  },
  "language_info": {
   "codemirror_mode": {
    "name": "ipython",
    "version": 3
   },
   "file_extension": ".py",
   "mimetype": "text/x-python",
   "name": "python",
   "nbconvert_exporter": "python",
   "pygments_lexer": "ipython3",
   "version": "3.6.8"
  }
 },
 "nbformat": 4,
 "nbformat_minor": 2
}
