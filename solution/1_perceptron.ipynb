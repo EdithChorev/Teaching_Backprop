{
 "cells": [
  {
   "cell_type": "markdown",
   "metadata": {},
   "source": [
    "# DSR 20 - Backprop course\n",
    "\n",
    "## 1. perceptron and the delta rule\n",
    "\n",
    "#### Perceptron training:\n",
    "1. Initialize weights vector with small random numbers\n",
    "2. Repeat until convergence:\n",
    "    Loop over feature vector (𝑥j) and labels (li) in training set D.\n",
    "    Take 𝑥 and pass it through the perceptron, calculating the output values: \n",
    "    $$ y_{j}=w(t)\\cdot x_{j}=ƒ(w(t)ᐧx_{j})$$\n",
    "    Update weights: \n",
    "    $$ w_{i}(t+1)=w_{i}(t)+𝛼(l_{j}-y_{j})$$  \n",
    "    for all 0 <= i < n\n",
    "3. Terminate criterion"
   ]
  },
  {
   "cell_type": "code",
   "execution_count": 1,
   "metadata": {},
   "outputs": [],
   "source": [
    "import numpy as np\n",
    "import matplotlib.pyplot as plt\n"
   ]
  },
  {
   "cell_type": "code",
   "execution_count": 2,
   "metadata": {},
   "outputs": [],
   "source": [
    "class Perceptron:\n",
    "    # N is the length of are input feature \n",
    "    # alpha learning rate\n",
    "    def __init__(self, N, alpha=0.1):\n",
    "        # initialize the weight matrix and store the learning rate\n",
    "        self.W = np.random.randn(N ) / np.sqrt(N)\n",
    "        self.N = N\n",
    "        self.alpha = alpha\n",
    "        \n",
    "        \n",
    "    def step(self, x):\n",
    "        # apply a step activation function\n",
    "        return 1 if x > 0 else 0\n",
    "    \n",
    "    def fit(self, X, y, epochs=10, addBias=True):\n",
    "        # insert a column of 1's as the last entry in the feature\n",
    "        # matrix -- this little trick allows us to treat the bias\n",
    "        # as a trainable parameter within the weight matrix\n",
    "        if addBias:\n",
    "            print(addBias)\n",
    "            X = np.c_[X, np.ones((X.shape[0]))]\n",
    "            self.W = np.random.randn(self.N+1) / np.sqrt(self.N)\n",
    "            \n",
    "        # loop over the desired number of epochs\n",
    "        w = self.W\n",
    "       \n",
    "        for epoch in np.arange(0, epochs):\n",
    "        # loop over each individual data point\n",
    "            for (x, target) in zip(X, y):\n",
    "            # take the dot product between the input features\n",
    "            # and the weight matrix, then pass this value\n",
    "            # through the step function to obtain the prediction\n",
    "                p = self.step(np.dot(x, self.W))\n",
    "                # perform weight update if prediction\n",
    "                # does not match trget\n",
    "                if p != target:\n",
    "                    # calculate delta\n",
    "                    delta = p - target\n",
    "                    # update the weight matrix\n",
    "                    self.W += -self.alpha * delta * x\n",
    "                    w = np.append(w,[self.W])\n",
    "                   \n",
    "        return w\n",
    "    \n",
    "    def predict(self, X, addBias=True):\n",
    "        # ensure our input is a matrix\n",
    "        X = np.atleast_2d(X)\n",
    "        # check to see if the bias column should be added\n",
    "        if addBias:\n",
    "            # insert a column of 1's as the last entry in the feature\n",
    "            # matrix (bias)\n",
    "            X = np.c_[X, np.ones((X.shape[0]))]\n",
    "            # take the dot product between the input features and the\n",
    "            # weight matrix, then pass the value through the step\n",
    "            # function\n",
    "        return self.step(np.dot(X, self.W))\n",
    "    "
   ]
  },
  {
   "cell_type": "code",
   "execution_count": 3,
   "metadata": {},
   "outputs": [
    {
     "name": "stdout",
     "output_type": "stream",
     "text": [
      "training perceptron...\n"
     ]
    }
   ],
   "source": [
    "# construct the OR dataset\n",
    "X = np.array([[0, 0], [0, 1], [1, 0], [1, 1]])\n",
    "y = np.array([[0], [1], [1], [1]])\n",
    "\n",
    "# define our perceptron and train it\n",
    "print(\"training perceptron...\")\n",
    "p = Perceptron(X.shape[1], alpha=0.1)\n",
    "w = p.fit(X, y, epochs=20,addBias=False)"
   ]
  },
  {
   "cell_type": "code",
   "execution_count": 4,
   "metadata": {},
   "outputs": [
    {
     "name": "stdout",
     "output_type": "stream",
     "text": [
      "testing perceptron...\n",
      "data=[0 0], true_label=0, pred=0\n",
      "data=[0 1], true_label=1, pred=1\n",
      "data=[1 0], true_label=1, pred=1\n",
      "data=[1 1], true_label=1, pred=1\n"
     ]
    }
   ],
   "source": [
    "# now that our perceptron is trained we can evaluate it\n",
    "print(\"testing perceptron...\")\n",
    "\n",
    "# now that our network is trained, loop over the data points\n",
    "for (x, target) in zip(X, y):\n",
    "    # make a prediction on the data point and display the result\n",
    "    # to our console\n",
    "    pred = p.predict(x,addBias=False)\n",
    "    print(\"data={}, true_label={}, pred={}\".format(\n",
    "        x, target[0], pred))"
   ]
  },
  {
   "cell_type": "markdown",
   "metadata": {},
   "source": [
    "# save the weights during training and plot "
   ]
  },
  {
   "cell_type": "code",
   "execution_count": 5,
   "metadata": {},
   "outputs": [
    {
     "name": "stdout",
     "output_type": "stream",
     "text": [
      "weights are:  [0.15880121 0.31533239]\n"
     ]
    },
    {
     "data": {
      "image/png": "[encoded data removed]",
      "text/plain": [
       "<Figure size 432x288 with 1 Axes>"
      ]
     },
     "metadata": {
      "needs_background": "light"
     },
     "output_type": "display_data"
    }
   ],
   "source": [
    "print (\"weights are: \", w)\n",
    "for i in range(2):\n",
    "    plt.plot(w[i:len(w):2])"
   ]
  },
  {
   "cell_type": "markdown",
   "metadata": {},
   "source": [
    "# Repeat now with bias (addBias=True), what happend to the weights?"
   ]
  },
  {
   "cell_type": "code",
   "execution_count": 6,
   "metadata": {},
   "outputs": [
    {
     "name": "stdout",
     "output_type": "stream",
     "text": [
      "True\n",
      "testing perceptron...\n",
      "data=[0 0], true_label=0, pred=0\n",
      "data=[0 1], true_label=1, pred=1\n",
      "data=[1 0], true_label=1, pred=1\n",
      "data=[1 1], true_label=1, pred=1\n",
      "weights are:  [ 0.56690969  0.32913206  0.00171629  0.56690969  0.32913206  0.00171629\n",
      "  0.56690969  0.32913206 -0.09828371]\n"
     ]
    }
   ],
   "source": [
    "p = Perceptron(X.shape[1], alpha=0.1)\n",
    "w=p.fit(X, y, epochs=20,addBias=True)\n",
    "# now that our perceptron is trained we can evaluate it\n",
    "print(\"testing perceptron...\")\n",
    "\n",
    "# now that our network is trained, loop over the data points\n",
    "for (x, target) in zip(X, y):\n",
    "    # make a prediction on the data point and display the result\n",
    "    # to our console\n",
    "    pred = p.predict(x,addBias=True)\n",
    "    print(\"data={}, true_label={}, pred={}\".format(\n",
    "        x, target[0], pred))\n",
    "    \n",
    "    \n",
    "print (\"weights are: \", w)"
   ]
  },
  {
   "cell_type": "code",
   "execution_count": 7,
   "metadata": {},
   "outputs": [
    {
     "data": {
      "image/png": "[encoded data removed]",
      "text/plain": [
       "<Figure size 432x288 with 1 Axes>"
      ]
     },
     "metadata": {
      "needs_background": "light"
     },
     "output_type": "display_data"
    }
   ],
   "source": [
    "for i in range(3):\n",
    "    plt.plot(w[i:len(w):3])"
   ]
  },
  {
   "cell_type": "markdown",
   "metadata": {},
   "source": [
    "## change the learning rate how are the weights changing now?"
   ]
  },
  {
   "cell_type": "code",
   "execution_count": 8,
   "metadata": {},
   "outputs": [
    {
     "name": "stdout",
     "output_type": "stream",
     "text": [
      "True\n",
      "testing perceptron...\n",
      "data=[0 0], true_label=0, pred=1\n",
      "data=[0 1], true_label=1, pred=1\n",
      "data=[1 0], true_label=1, pred=1\n",
      "data=[1 1], true_label=1, pred=1\n",
      "weights are:  [-1.11522408  0.83062775  1.15794855 -1.11522408  0.83062775  1.15794855\n",
      " -1.11522408  0.83062775  1.14794855 -1.11522408  0.83062775  1.13794855\n",
      " -1.11522408  0.83062775  1.12794855 -1.11522408  0.83062775  1.11794855\n",
      " -1.11522408  0.83062775  1.10794855 -1.10522408  0.83062775  1.11794855\n",
      " -1.10522408  0.83062775  1.10794855 -1.10522408  0.83062775  1.09794855\n",
      " -1.09522408  0.83062775  1.10794855 -1.09522408  0.83062775  1.09794855\n",
      " -1.09522408  0.83062775  1.08794855 -1.08522408  0.83062775  1.09794855\n",
      " -1.08522408  0.83062775  1.08794855 -1.08522408  0.83062775  1.07794855\n",
      " -1.07522408  0.83062775  1.08794855 -1.07522408  0.83062775  1.07794855\n",
      " -1.07522408  0.83062775  1.06794855 -1.06522408  0.83062775  1.07794855\n",
      " -1.06522408  0.83062775  1.06794855 -1.06522408  0.83062775  1.05794855\n",
      " -1.05522408  0.83062775  1.06794855 -1.05522408  0.83062775  1.05794855\n",
      " -1.05522408  0.83062775  1.04794855 -1.04522408  0.83062775  1.05794855\n",
      " -1.04522408  0.83062775  1.04794855 -1.04522408  0.83062775  1.03794855\n",
      " -1.03522408  0.83062775  1.04794855]\n"
     ]
    },
    {
     "data": {
      "image/png": "[encoded data removed]",
      "text/plain": [
       "<Figure size 432x288 with 1 Axes>"
      ]
     },
     "metadata": {
      "needs_background": "light"
     },
     "output_type": "display_data"
    }
   ],
   "source": [
    "p = Perceptron(X.shape[1], alpha=0.01)\n",
    "w = p.fit(X, y, epochs=20,addBias=True)\n",
    "# now that our perceptron is trained we can evaluate it\n",
    "print(\"testing perceptron...\")\n",
    "\n",
    "# now that our network is trained, loop over the data points\n",
    "for (x, target) in zip(X, y):\n",
    "    # make a prediction on the data point and display the result\n",
    "    # to our console\n",
    "    pred = p.predict(x,addBias=True)\n",
    "    print(\"data={}, true_label={}, pred={}\".format(\n",
    "        x, target[0], pred))\n",
    "    \n",
    "    \n",
    "print (\"weights are: \", w)\n",
    "for i in range(3):\n",
    "    plt.plot(w[i:len(w):3])"
   ]
  },
  {
   "cell_type": "markdown",
   "metadata": {},
   "source": [
    "### 1. Repeat all steps for an AND data set\n",
    "### 2. Repeat all steps for a XOR data set\n"
   ]
  },
  {
   "cell_type": "code",
   "execution_count": 9,
   "metadata": {},
   "outputs": [],
   "source": [
    "# construct the AND dataset\n",
    "X = np.array([[0, 0], [0, 1], [1, 0], [1, 1]])\n",
    "y = np.array([[0], [0], [0], [1]])"
   ]
  },
  {
   "cell_type": "code",
   "execution_count": 10,
   "metadata": {},
   "outputs": [
    {
     "name": "stdout",
     "output_type": "stream",
     "text": [
      "training perceptron...\n",
      "True\n",
      "data=[0 0], true_label=0, pred=0\n",
      "data=[0 1], true_label=0, pred=0\n",
      "data=[1 0], true_label=0, pred=0\n",
      "data=[1 1], true_label=1, pred=1\n"
     ]
    }
   ],
   "source": [
    "# define our perceptron and train it\n",
    "print(\"training perceptron...\")\n",
    "p = Perceptron(X.shape[1], alpha=0.1)\n",
    "w = p.fit(X, y, epochs=20,addBias=True)\n",
    "# now that our network is trained, loop over the data points\n",
    "for (x, target) in zip(X, y):\n",
    "    # make a prediction on the data point and display the result\n",
    "    # to our console\n",
    "    pred = p.predict(x,addBias=True)\n",
    "    print(\"data={}, true_label={}, pred={}\".format(\n",
    "        x, target[0], pred))"
   ]
  },
  {
   "cell_type": "code",
   "execution_count": 11,
   "metadata": {},
   "outputs": [
    {
     "data": {
      "image/png": "[encoded data removed]",
      "text/plain": [
       "<Figure size 432x288 with 1 Axes>"
      ]
     },
     "metadata": {
      "needs_background": "light"
     },
     "output_type": "display_data"
    }
   ],
   "source": [
    "for i in range(3):\n",
    "    plt.plot(w[i:len(w):3])"
   ]
  },
  {
   "cell_type": "code",
   "execution_count": 12,
   "metadata": {},
   "outputs": [],
   "source": [
    "# construct the XOR dataset\n",
    "X = np.array([[0, 0], [0, 1], [1, 0], [1, 1]])\n",
    "y = np.array([[0], [1], [1], [0]])"
   ]
  },
  {
   "cell_type": "code",
   "execution_count": 13,
   "metadata": {},
   "outputs": [
    {
     "name": "stdout",
     "output_type": "stream",
     "text": [
      "training perceptron...\n",
      "True\n",
      "data=[0 0], true_label=0, pred=1\n",
      "data=[0 1], true_label=1, pred=0\n",
      "data=[1 0], true_label=1, pred=0\n",
      "data=[1 1], true_label=0, pred=0\n"
     ]
    }
   ],
   "source": [
    "# define our perceptron and train it\n",
    "print(\"training perceptron...\")\n",
    "p = Perceptron(X.shape[1], alpha=0.1)\n",
    "w = p.fit(X, y, epochs=20,addBias=True)\n",
    "# now that our network is trained, loop over the data points\n",
    "for (x, target) in zip(X, y):\n",
    "    # make a prediction on the data point and display the result\n",
    "    # to our console\n",
    "    pred = p.predict(x,addBias=True)\n",
    "    print(\"data={}, true_label={}, pred={}\".format(\n",
    "        x, target[0], pred))"
   ]
  },
  {
   "cell_type": "markdown",
   "metadata": {},
   "source": [
    "### Perceptron for a regression problem"
   ]
  },
  {
   "cell_type": "code",
   "execution_count": 26,
   "metadata": {},
   "outputs": [],
   "source": [
    "X = np.arange (0,100,1)\n",
    "noise = np.random.normal(loc=0.0, scale=5, size=100)\n",
    "y = 70 + 1.2*X + noise\n",
    "\n",
    "# normalization of inputs and lables \n",
    "y=y/np.max(X)\n",
    "X=X/np.max(X)"
   ]
  },
  {
   "cell_type": "code",
   "execution_count": 27,
   "metadata": {},
   "outputs": [
    {
     "data": {
      "text/plain": [
       "<matplotlib.collections.PathCollection at 0x7f6e5b5ed908>"
      ]
     },
     "execution_count": 27,
     "metadata": {},
     "output_type": "execute_result"
    },
    {
     "data": {
      "image/png": "[encoded data removed]",
      "text/plain": [
       "<Figure size 432x288 with 1 Axes>"
      ]
     },
     "metadata": {
      "needs_background": "light"
     },
     "output_type": "display_data"
    }
   ],
   "source": [
    "plt.scatter(X, y)"
   ]
  },
  {
   "cell_type": "markdown",
   "metadata": {},
   "source": [
    "#### How should you change the activation function to fit a regression problem???"
   ]
  },
  {
   "cell_type": "code",
   "execution_count": 28,
   "metadata": {},
   "outputs": [],
   "source": [
    "# implement the perceptron class here for regression\n",
    "\n",
    "class Perceptron:\n",
    "    # N is the length of are input feature \n",
    "    # alpha learning rate\n",
    "    def __init__(self, N, alpha=0.1):\n",
    "        # initialize the weight matrix and store the learning rate\n",
    "        self.W = np.random.randn(N ) / np.sqrt(N)\n",
    "        self.N = N\n",
    "        self.alpha = alpha\n",
    "        \n",
    "        \n",
    "    def step(self, x):\n",
    "        # apply a linear activation\n",
    "        return x if x > 0 else 0\n",
    "    \n",
    "    def fit(self, X, y, epochs=10, addBias=True):\n",
    "        # insert a column of 1's as the last entry in the feature\n",
    "        # matrix -- this little trick allows us to treat the bias\n",
    "        # as a trainable parameter within the weight matrix\n",
    "        if addBias:\n",
    "            print(addBias)\n",
    "            X = np.c_[X, np.ones((X.shape[0]))]\n",
    "            self.W = np.random.randn(self.N+1) / np.sqrt(self.N)\n",
    "            \n",
    "        # loop over the desired number of epochs\n",
    "        w = self.W\n",
    "       \n",
    "        for epoch in np.arange(0, epochs):\n",
    "        # loop over each individual data point\n",
    "            for (x, target) in zip(X, y):\n",
    "            # take the dot product between the input features\n",
    "            # and the weight matrix, then pass this value\n",
    "            # through the step function to obtain the prediction\n",
    "                p = self.step(np.dot(x, self.W))\n",
    "                # perform weight update if prediction\n",
    "                # does not match trget\n",
    "                #if p != target:\n",
    "                    # calculate delta\n",
    "                delta = p - target\n",
    "                    # update the weight matrix\n",
    "                self.W += -self.alpha * delta * x\n",
    "            w = np.append(w,[self.W])\n",
    "                   \n",
    "        return w\n",
    "    \n",
    "    def predict(self, X, addBias=True):\n",
    "        # ensure our input is a matrix\n",
    "        X = np.atleast_2d(X)\n",
    "        # check to see if the bias column should be added\n",
    "        if addBias:\n",
    "            # insert a column of 1's as the last entry in the feature\n",
    "            # matrix (bias)\n",
    "            X = np.c_[X, np.ones((X.shape[0]))]\n",
    "            # take the dot product between the input features and the\n",
    "            # weight matrix, then pass the value through the step\n",
    "            # function\n",
    "        return self.step(np.dot(X, self.W))"
   ]
  },
  {
   "cell_type": "code",
   "execution_count": 29,
   "metadata": {},
   "outputs": [
    {
     "name": "stdout",
     "output_type": "stream",
     "text": [
      "training perceptron...\n",
      "True\n",
      "data=0.0, true_label=0.7095634638820691, pred=[0.7101539]\n",
      "data=0.010101010101010102, true_label=0.7105232591371016, pred=[0.72229574]\n",
      "data=0.020202020202020204, true_label=0.7277473619960851, pred=[0.73443757]\n",
      "data=0.030303030303030304, true_label=0.7219247225854463, pred=[0.7465794]\n",
      "data=0.04040404040404041, true_label=0.7469273095691455, pred=[0.75872123]\n",
      "data=0.050505050505050504, true_label=0.745720633538881, pred=[0.77086307]\n",
      "data=0.06060606060606061, true_label=0.9191554228867373, pred=[0.7830049]\n",
      "data=0.0707070707070707, true_label=0.7343356191417139, pred=[0.79514673]\n",
      "data=0.08080808080808081, true_label=0.8022955339942364, pred=[0.80728856]\n",
      "data=0.09090909090909091, true_label=0.8564757164797131, pred=[0.8194304]\n",
      "data=0.10101010101010101, true_label=0.8499725423482668, pred=[0.83157223]\n",
      "data=0.1111111111111111, true_label=0.7476514678313684, pred=[0.84371406]\n",
      "data=0.12121212121212122, true_label=0.7836348067936196, pred=[0.85585589]\n",
      "data=0.13131313131313133, true_label=0.8432955463990108, pred=[0.86799773]\n",
      "data=0.1414141414141414, true_label=0.8790828849939895, pred=[0.88013956]\n",
      "data=0.15151515151515152, true_label=0.9624539901354536, pred=[0.89228139]\n",
      "data=0.16161616161616163, true_label=0.8744775257218665, pred=[0.90442322]\n",
      "data=0.1717171717171717, true_label=0.8984644253161354, pred=[0.91656506]\n",
      "data=0.18181818181818182, true_label=0.8955069951347999, pred=[0.92870689]\n",
      "data=0.1919191919191919, true_label=1.0514618355681127, pred=[0.94084872]\n",
      "data=0.20202020202020202, true_label=0.9821458303386003, pred=[0.95299055]\n",
      "data=0.21212121212121213, true_label=0.975748819051302, pred=[0.96513239]\n",
      "data=0.2222222222222222, true_label=0.9760663220776304, pred=[0.97727422]\n",
      "data=0.23232323232323232, true_label=1.0313896553109319, pred=[0.98941605]\n",
      "data=0.24242424242424243, true_label=1.020230529182771, pred=[1.00155789]\n",
      "data=0.25252525252525254, true_label=1.076840093074095, pred=[1.01369972]\n",
      "data=0.26262626262626265, true_label=1.0886931338496302, pred=[1.02584155]\n",
      "data=0.2727272727272727, true_label=1.0258219761137921, pred=[1.03798338]\n",
      "data=0.2828282828282828, true_label=1.065083632981101, pred=[1.05012522]\n",
      "data=0.29292929292929293, true_label=1.066715609178547, pred=[1.06226705]\n",
      "data=0.30303030303030304, true_label=1.1184178035968326, pred=[1.07440888]\n",
      "data=0.31313131313131315, true_label=1.0803178159837707, pred=[1.08655071]\n",
      "data=0.32323232323232326, true_label=1.126439702933421, pred=[1.09869255]\n",
      "data=0.3333333333333333, true_label=1.154199388663358, pred=[1.11083438]\n",
      "data=0.3434343434343434, true_label=1.1294978100432582, pred=[1.12297621]\n",
      "data=0.35353535353535354, true_label=1.1102040349899815, pred=[1.13511804]\n",
      "data=0.36363636363636365, true_label=1.184220621797477, pred=[1.14725988]\n",
      "data=0.37373737373737376, true_label=1.1482921783494495, pred=[1.15940171]\n",
      "data=0.3838383838383838, true_label=1.1063535980906714, pred=[1.17154354]\n",
      "data=0.3939393939393939, true_label=1.1988687812003347, pred=[1.18368537]\n",
      "data=0.40404040404040403, true_label=1.1480100277466683, pred=[1.19582721]\n",
      "data=0.41414141414141414, true_label=1.1969344336480687, pred=[1.20796904]\n",
      "data=0.42424242424242425, true_label=1.0927932119808796, pred=[1.22011087]\n",
      "data=0.43434343434343436, true_label=1.2536759650606704, pred=[1.2322527]\n",
      "data=0.4444444444444444, true_label=1.2818799094921067, pred=[1.24439454]\n",
      "data=0.45454545454545453, true_label=1.221079669588845, pred=[1.25653637]\n",
      "data=0.46464646464646464, true_label=1.2704165232601052, pred=[1.2686782]\n",
      "data=0.47474747474747475, true_label=1.1746384947928956, pred=[1.28082003]\n",
      "data=0.48484848484848486, true_label=1.2804340052325827, pred=[1.29296187]\n",
      "data=0.494949494949495, true_label=1.2715823388425003, pred=[1.3051037]\n",
      "data=0.5050505050505051, true_label=1.336399933180797, pred=[1.31724553]\n",
      "data=0.5151515151515151, true_label=1.2842143776377593, pred=[1.32938737]\n",
      "data=0.5252525252525253, true_label=1.378885360888704, pred=[1.3415292]\n",
      "data=0.5353535353535354, true_label=1.3442638624929366, pred=[1.35367103]\n",
      "data=0.5454545454545454, true_label=1.3759779204542608, pred=[1.36581286]\n",
      "data=0.5555555555555556, true_label=1.4464222309851593, pred=[1.3779547]\n",
      "data=0.5656565656565656, true_label=1.436558001103787, pred=[1.39009653]\n",
      "data=0.5757575757575758, true_label=1.3060537999282367, pred=[1.40223836]\n",
      "data=0.5858585858585859, true_label=1.436308702848817, pred=[1.41438019]\n",
      "data=0.5959595959595959, true_label=1.4197536533390411, pred=[1.42652203]\n",
      "data=0.6060606060606061, true_label=1.4158112337024564, pred=[1.43866386]\n",
      "data=0.6161616161616161, true_label=1.3275734187839792, pred=[1.45080569]\n",
      "data=0.6262626262626263, true_label=1.416316513520866, pred=[1.46294752]\n",
      "data=0.6363636363636364, true_label=1.4400488389016093, pred=[1.47508936]\n",
      "data=0.6464646464646465, true_label=1.5245713453572403, pred=[1.48723119]\n",
      "data=0.6565656565656566, true_label=1.56609033965253, pred=[1.49937302]\n",
      "data=0.6666666666666666, true_label=1.4581952544623675, pred=[1.51151485]\n",
      "data=0.6767676767676768, true_label=1.5260854837702762, pred=[1.52365669]\n",
      "data=0.6868686868686869, true_label=1.4907035215538629, pred=[1.53579852]\n",
      "data=0.696969696969697, true_label=1.5708608567879327, pred=[1.54794035]\n",
      "data=0.7070707070707071, true_label=1.5767000989068627, pred=[1.56008218]\n",
      "data=0.7171717171717171, true_label=1.656442706322237, pred=[1.57222402]\n",
      "data=0.7272727272727273, true_label=1.576680825857662, pred=[1.58436585]\n",
      "data=0.7373737373737373, true_label=1.5864127910410943, pred=[1.59650768]\n",
      "data=0.7474747474747475, true_label=1.5940522417282075, pred=[1.60864952]\n",
      "data=0.7575757575757576, true_label=1.5924993982015432, pred=[1.62079135]\n",
      "data=0.7676767676767676, true_label=1.667439690215047, pred=[1.63293318]\n",
      "data=0.7777777777777778, true_label=1.5707389896906603, pred=[1.64507501]\n",
      "data=0.7878787878787878, true_label=1.7046957075024167, pred=[1.65721685]\n",
      "data=0.797979797979798, true_label=1.7349234609741888, pred=[1.66935868]\n",
      "data=0.8080808080808081, true_label=1.7523501257727951, pred=[1.68150051]\n",
      "data=0.8181818181818182, true_label=1.692492030116305, pred=[1.69364234]\n",
      "data=0.8282828282828283, true_label=1.6714711135595388, pred=[1.70578418]\n",
      "data=0.8383838383838383, true_label=1.7678560639165883, pred=[1.71792601]\n",
      "data=0.8484848484848485, true_label=1.8501304644172576, pred=[1.73006784]\n",
      "data=0.8585858585858586, true_label=1.7688324458472897, pred=[1.74220967]\n",
      "data=0.8686868686868687, true_label=1.788532804440777, pred=[1.75435151]\n",
      "data=0.8787878787878788, true_label=1.7784505157621928, pred=[1.76649334]\n",
      "data=0.8888888888888888, true_label=1.8013427534888842, pred=[1.77863517]\n",
      "data=0.898989898989899, true_label=1.776781352157923, pred=[1.790777]\n",
      "data=0.9090909090909091, true_label=1.773838255622741, pred=[1.80291884]\n",
      "data=0.9191919191919192, true_label=1.8745665691141127, pred=[1.81506067]\n",
      "data=0.9292929292929293, true_label=1.869398923107879, pred=[1.8272025]\n",
      "data=0.9393939393939394, true_label=1.790515953580588, pred=[1.83934433]\n",
      "data=0.9494949494949495, true_label=1.8042471331960603, pred=[1.85148617]\n",
      "data=0.9595959595959596, true_label=1.876461156624026, pred=[1.863628]\n",
      "data=0.9696969696969697, true_label=1.8842773657285332, pred=[1.87576983]\n",
      "data=0.9797979797979798, true_label=1.7800987338955445, pred=[1.88791166]\n",
      "data=0.98989898989899, true_label=1.8770736617418045, pred=[1.9000535]\n",
      "data=1.0, true_label=1.883719971042645, pred=[1.91219533]\n"
     ]
    }
   ],
   "source": [
    "# define our perceptron and train it\n",
    "print(\"training perceptron...\")\n",
    "p = Perceptron(1, alpha=0.01)\n",
    "w = p.fit(X, y, epochs=100,addBias=True)\n",
    "prediction = []\n",
    "# now that our network is trained, loop over the data points\n",
    "for (x, target) in zip(X, y):\n",
    "    # make a prediction on the data point and display the result\n",
    "    # to our console\n",
    "    pred = p.predict(x,addBias=True)\n",
    "    prediction=np.append(prediction,pred)\n",
    "    print(\"data={}, true_label={}, pred={}\".format(\n",
    "        x, target, pred))"
   ]
  },
  {
   "cell_type": "code",
   "execution_count": 30,
   "metadata": {},
   "outputs": [
    {
     "data": {
      "text/plain": [
       "[<matplotlib.lines.Line2D at 0x7f6e5b637240>]"
      ]
     },
     "execution_count": 30,
     "metadata": {},
     "output_type": "execute_result"
    },
    {
     "data": {
      "image/png": "[encoded data removed]",
      "text/plain": [
       "<Figure size 432x288 with 1 Axes>"
      ]
     },
     "metadata": {
      "needs_background": "light"
     },
     "output_type": "display_data"
    }
   ],
   "source": [
    "plt.scatter(X,y)\n",
    "plt.plot(X,prediction)"
   ]
  },
  {
   "cell_type": "code",
   "execution_count": 31,
   "metadata": {},
   "outputs": [
    {
     "data": {
      "text/plain": [
       "202"
      ]
     },
     "execution_count": 31,
     "metadata": {},
     "output_type": "execute_result"
    }
   ],
   "source": [
    "len(w)"
   ]
  },
  {
   "cell_type": "code",
   "execution_count": 32,
   "metadata": {},
   "outputs": [
    {
     "data": {
      "text/plain": [
       "[<matplotlib.lines.Line2D at 0x7f6e97dc0f28>]"
      ]
     },
     "execution_count": 32,
     "metadata": {},
     "output_type": "execute_result"
    },
    {
     "data": {
      "image/png": "[encoded data removed]",
      "text/plain": [
       "<Figure size 432x288 with 1 Axes>"
      ]
     },
     "metadata": {
      "needs_background": "light"
     },
     "output_type": "display_data"
    }
   ],
   "source": [
    "plt.plot(w[0:101:2])\n",
    "plt.plot(w[1:101:2])\n"
   ]
  },
  {
   "cell_type": "markdown",
   "metadata": {},
   "source": [
    "### 1.  repeat the training without bias (addBias = False) , what happend?\n",
    "### 2.  repeat the training without the normalization of the data, what happend?"
   ]
  },
  {
   "cell_type": "code",
   "execution_count": null,
   "metadata": {},
   "outputs": [],
   "source": []
  }
 ],
 "metadata": {
  "kernelspec": {
   "display_name": "Python 3",
   "language": "python",
   "name": "python3"
  },
  "language_info": {
   "codemirror_mode": {
    "name": "ipython",
    "version": 3
   },
   "file_extension": ".py",
   "mimetype": "text/x-python",
   "name": "python",
   "nbconvert_exporter": "python",
   "pygments_lexer": "ipython3",
   "version": "3.6.8"
  }
 },
 "nbformat": 4,
 "nbformat_minor": 2
}
