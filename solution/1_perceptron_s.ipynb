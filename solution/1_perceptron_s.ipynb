{
 "cells": [
  {
   "cell_type": "markdown",
   "metadata": {},
   "source": [
    "# DSR 21 - Backprop course\n",
    "\n",
    "## 1. perceptron and the delta rule\n",
    "\n",
    "#### Perceptron training:\n",
    "1. Initialize weights vector with small random numbers\n",
    "2. Repeat until convergence:\n",
    "    Loop over feature vector (𝑥j) and labels (li) in training set D.\n",
    "    Take 𝑥 and pass it through the perceptron, calculating the output values: \n",
    "    $$ y_{j}=w(t)\\cdot x_{j}=ƒ(w(t)){x_{j}}$$\n",
    "    Update weights: \n",
    "    $$ w_{i}(t+1)=w_{i}(t)+𝛼(l_{j}-y_{j})x_{j}$$  \n",
    "    for all 0 <= i < n\n",
    "3. Terminate criterion"
   ]
  },
  {
   "cell_type": "code",
   "execution_count": 1,
   "metadata": {},
   "outputs": [],
   "source": [
    "import numpy as np\n",
    "import matplotlib.pyplot as plt"
   ]
  },
  {
   "cell_type": "code",
   "execution_count": 2,
   "metadata": {},
   "outputs": [],
   "source": [
    "class Perceptron:\n",
    "    # N is the length of are input feature \n",
    "    # alpha learning rate\n",
    "    def __init__(self, N, alpha=0.1):\n",
    "        # initialize the weight matrix and store the learning rate\n",
    "        self.W = np.random.randn(N ) / np.sqrt(N)\n",
    "        self.N = N\n",
    "        self.alpha = alpha\n",
    "        \n",
    "        \n",
    "    def step(self, x):\n",
    "        # apply a step activation function\n",
    "        return 1 if x > 0 else 0\n",
    "    \n",
    "    def fit(self, X, y, epochs=10, addBias=True):\n",
    "        # insert a column of 1's as the last entry in the feature\n",
    "        # matrix -- this little trick allows us to treat the bias\n",
    "        # as a trainable parameter within the weight matrix\n",
    "        if addBias:\n",
    "            print(addBias)\n",
    "            X = np.c_[X, np.ones((X.shape[0]))]\n",
    "            self.W = np.random.randn(self.N+1) / np.sqrt(self.N)\n",
    "        w =  self.W   \n",
    "        # loop over the desired number of epochs\n",
    "        for epoch in np.arange(0, epochs):\n",
    "            # loop over each individual data point\n",
    "                for (x, target) in zip(X, y):\n",
    "                # take the dot product between the input features\n",
    "                # and the weight matrix, then pass this value\n",
    "                # through the step function to obtain the prediction\n",
    "                    p = self.step(np.dot(x, self.W))\n",
    "                    # perform weight update if prediction\n",
    "                    # does not match trget\n",
    "                    if p != target:\n",
    "                        # calculate delta\n",
    "                        delta =  p - target\n",
    "                        # update the weight matrix\n",
    "                        self.W += -self.alpha * delta * x \n",
    "                        w = np.append(w,self.W)\n",
    "        return w\n",
    "    def predict(self, X, addBias=True):\n",
    "        # ensure our input is a matrix\n",
    "        X = np.atleast_2d(X)\n",
    "        # check to see if the bias column should be added\n",
    "        if addBias:\n",
    "            # insert a column of 1's as the last entry in the feature\n",
    "            # matrix (bias)\n",
    "            X = np.c_[X, np.ones((X.shape[0]))]\n",
    "            # take the dot product between the input features and the\n",
    "            # weight matrix, then pass the value through the step\n",
    "            # function\n",
    "        return self.step(np.dot(X, self.W))\n",
    "    "
   ]
  },
  {
   "cell_type": "markdown",
   "metadata": {},
   "source": [
    "## Logical OR dataset"
   ]
  },
  {
   "cell_type": "code",
   "execution_count": 3,
   "metadata": {},
   "outputs": [
    {
     "name": "stdout",
     "output_type": "stream",
     "text": [
      "training perceptron...\n"
     ]
    },
    {
     "data": {
      "text/plain": [
       "array([1.26101723, 0.48819926])"
      ]
     },
     "execution_count": 3,
     "metadata": {},
     "output_type": "execute_result"
    }
   ],
   "source": [
    "# construct the OR dataset\n",
    "X = np.array([[0, 0], [0, 1], [1, 0], [1, 1]])\n",
    "y = np.array([[0], [1], [1], [1]])\n",
    "\n",
    "# define our perceptron and train it\n",
    "print(\"training perceptron...\")\n",
    "p = Perceptron(X.shape[1], alpha=0.1)\n",
    "p.fit(X, y, epochs=20,addBias=False)"
   ]
  },
  {
   "cell_type": "code",
   "execution_count": 4,
   "metadata": {},
   "outputs": [
    {
     "name": "stdout",
     "output_type": "stream",
     "text": [
      "testing perceptron...\n",
      "data=[0 0], true_label=0, pred=0\n",
      "data=[0 1], true_label=1, pred=1\n",
      "data=[1 0], true_label=1, pred=1\n",
      "data=[1 1], true_label=1, pred=1\n"
     ]
    }
   ],
   "source": [
    "# now that our perceptron is trained we can evaluate it\n",
    "print(\"testing perceptron...\")\n",
    "\n",
    "# now that our network is trained, loop over the data points\n",
    "for (x, target) in zip(X, y):\n",
    "    # make a prediction on the data point and display the result\n",
    "    # to our console\n",
    "    pred = p.predict(x,addBias=False)\n",
    "    print(\"data={}, true_label={}, pred={}\".format(\n",
    "        x, target[0], pred))"
   ]
  },
  {
   "cell_type": "markdown",
   "metadata": {},
   "source": [
    "## logical AND dataset"
   ]
  },
  {
   "cell_type": "code",
   "execution_count": 9,
   "metadata": {},
   "outputs": [
    {
     "name": "stdout",
     "output_type": "stream",
     "text": [
      "testing perceptron...\n",
      "data=[0 0], true_label=0, pred=0\n",
      "data=[0 1], true_label=0, pred=1\n",
      "data=[1 0], true_label=0, pred=1\n",
      "data=[1 1], true_label=1, pred=1\n"
     ]
    }
   ],
   "source": [
    "# construct the AND dataset\n",
    "X = np.array([[0, 0], [0, 1], [1, 0], [1, 1]])\n",
    "y = np.array([[0], [0], [0], [1]])\n",
    "\n",
    "### ENTER YOUR CODE HERE\n",
    "p = Perceptron(X.shape[1], alpha=0.1)\n",
    "w=p.fit(X, y, epochs=30,addBias=False)# now that our perceptron is trained we can evaluate it\n",
    "print(\"testing perceptron...\")\n",
    "\n",
    "# now that our network is trained, loop over the data points\n",
    "for (x, target) in zip(X, y):\n",
    "    # make a prediction on the data point and display the result\n",
    "    # to our console\n",
    "    pred = p.predict(x,addBias=False)\n",
    "    print(\"data={}, true_label={}, pred={}\".format(\n",
    "        x, target[0], pred))\n"
   ]
  },
  {
   "cell_type": "markdown",
   "metadata": {},
   "source": [
    "## did it work?\n",
    "### try changing the addBias to True and see if this helps.\n",
    "#### what is this bias parameter???"
   ]
  },
  {
   "cell_type": "code",
   "execution_count": 10,
   "metadata": {},
   "outputs": [
    {
     "name": "stdout",
     "output_type": "stream",
     "text": [
      "True\n",
      "data=[0 0], true_label=0, pred=0\n",
      "data=[0 1], true_label=0, pred=0\n",
      "data=[1 0], true_label=0, pred=0\n",
      "data=[1 1], true_label=1, pred=1\n"
     ]
    }
   ],
   "source": [
    "p = Perceptron(X.shape[1], alpha=0.1)\n",
    "w=p.fit(X, y, epochs=20,addBias=True)\n",
    "# now that our network is trained, loop over the data points\n",
    "for (x, target) in zip(X, y):\n",
    "    # make a prediction on the data point and display the result\n",
    "    # to our console\n",
    "    pred = p.predict(x,addBias=True)\n",
    "    print(\"data={}, true_label={}, pred={}\".format(\n",
    "        x, target[0], pred))"
   ]
  },
  {
   "cell_type": "markdown",
   "metadata": {},
   "source": [
    "## change the perceptron class such that you return the number of itteration where the weight changes \n",
    "### you can simply save the weights every time they change.\n",
    "\n",
    "### plot the wieghts "
   ]
  },
  {
   "cell_type": "code",
   "execution_count": 16,
   "metadata": {},
   "outputs": [
    {
     "name": "stdout",
     "output_type": "stream",
     "text": [
      "True\n",
      "data=[0 0], true_label=0, pred=0\n",
      "data=[0 1], true_label=0, pred=0\n",
      "data=[1 0], true_label=0, pred=0\n",
      "data=[1 1], true_label=1, pred=1\n"
     ]
    },
    {
     "data": {
      "text/plain": [
       "[<matplotlib.lines.Line2D at 0x7fa302639668>]"
      ]
     },
     "execution_count": 16,
     "metadata": {},
     "output_type": "execute_result"
    },
    {
     "data": {
      "image/png": "[encoded data removed]",
      "text/plain": [
       "<Figure size 432x288 with 1 Axes>"
      ]
     },
     "metadata": {
      "needs_background": "light"
     },
     "output_type": "display_data"
    }
   ],
   "source": [
    "## change the Perceptron class such that you save the weights \n",
    "## during training and return them then plot them\n",
    "p = Perceptron(X.shape[1], alpha=0.1)\n",
    "w=p.fit(X, y, epochs=20,addBias=True)\n",
    "\n",
    "for (x, target) in zip(X, y):\n",
    "    # make a prediction on the data point and display the result\n",
    "    # to our console\n",
    "    pred = p.predict(x,addBias=True)\n",
    "    print(\"data={}, true_label={}, pred={}\".format(\n",
    "        x, target[0], pred))\n",
    "    \n",
    "plt.plot(w[0:len(w):3])\n",
    "plt.plot(w[1:len(w):3])\n",
    "plt.plot(w[2:len(w):3])\n",
    "\n"
   ]
  },
  {
   "cell_type": "markdown",
   "metadata": {},
   "source": [
    "### change learning rate to 0.01 and repeat "
   ]
  },
  {
   "cell_type": "code",
   "execution_count": 22,
   "metadata": {},
   "outputs": [
    {
     "name": "stdout",
     "output_type": "stream",
     "text": [
      "True\n",
      "data=[0 0], true_label=0, pred=0\n",
      "data=[0 1], true_label=0, pred=0\n",
      "data=[1 0], true_label=0, pred=0\n",
      "data=[1 1], true_label=1, pred=1\n"
     ]
    },
    {
     "data": {
      "text/plain": [
       "[<matplotlib.lines.Line2D at 0x7fa302440b38>]"
      ]
     },
     "execution_count": 22,
     "metadata": {},
     "output_type": "execute_result"
    },
    {
     "data": {
      "image/png": "[encoded data removed]",
      "text/plain": [
       "<Figure size 432x288 with 1 Axes>"
      ]
     },
     "metadata": {
      "needs_background": "light"
     },
     "output_type": "display_data"
    }
   ],
   "source": [
    "p = Perceptron(X.shape[1], alpha=0.01)\n",
    "w=p.fit(X, y, epochs=100,addBias=True)\n",
    "for (x, target) in zip(X, y):\n",
    "    # make a prediction on the data point and display the result\n",
    "    # to our console\n",
    "    pred = p.predict(x,addBias=True)\n",
    "    print(\"data={}, true_label={}, pred={}\".format(\n",
    "        x, target[0], pred))\n",
    "    \n",
    "plt.plot(w[0:len(w):3])\n",
    "plt.plot(w[1:len(w):3])\n",
    "plt.plot(w[2:len(w):3])\n"
   ]
  },
  {
   "cell_type": "markdown",
   "metadata": {},
   "source": [
    "### what does reducing the learing rate do?"
   ]
  },
  {
   "cell_type": "markdown",
   "metadata": {},
   "source": [
    "### Train the perceptron on he XOR data set\n"
   ]
  },
  {
   "cell_type": "code",
   "execution_count": 10,
   "metadata": {},
   "outputs": [
    {
     "name": "stdout",
     "output_type": "stream",
     "text": [
      "True\n"
     ]
    },
    {
     "data": {
      "text/plain": [
       "[<matplotlib.lines.Line2D at 0x7fdc79224240>]"
      ]
     },
     "execution_count": 10,
     "metadata": {},
     "output_type": "execute_result"
    },
    {
     "data": {
      "image/png": "[encoded data removed]",
      "text/plain": [
       "<Figure size 432x288 with 1 Axes>"
      ]
     },
     "metadata": {
      "needs_background": "light"
     },
     "output_type": "display_data"
    }
   ],
   "source": [
    "# construct the XOR dataset\n",
    "X = np.array([[0, 0], [0, 1], [1, 0], [1, 1]])\n",
    "y = np.array([[0], [1], [1], [0]])\n",
    "p = Perceptron(X.shape[1], alpha=0.01)\n",
    "w=p.fit(X, y, epochs=20,addBias=True)\n",
    "plt.plot(w[0:len(w):3])\n",
    "plt.plot(w[1:len(w):3])\n",
    "plt.plot(w[2:len(w):3])\n",
    "### ENTER YOUR CODE HERE"
   ]
  },
  {
   "cell_type": "markdown",
   "metadata": {},
   "source": [
    "### Perceptron for a regression problem"
   ]
  },
  {
   "cell_type": "code",
   "execution_count": 24,
   "metadata": {},
   "outputs": [],
   "source": [
    "X = np.arange (0,100,1)\n",
    "noise = np.random.normal(loc=0.0, scale=5, size=100)\n",
    "y = 70 + 1.2*X + noise\n",
    "\n",
    "# normalization of inputs and lables \n",
    "y=y/np.max(X)\n",
    "X=X/np.max(X)"
   ]
  },
  {
   "cell_type": "code",
   "execution_count": 25,
   "metadata": {},
   "outputs": [
    {
     "data": {
      "text/plain": [
       "(100,)"
      ]
     },
     "execution_count": 25,
     "metadata": {},
     "output_type": "execute_result"
    }
   ],
   "source": [
    "y.shape"
   ]
  },
  {
   "cell_type": "code",
   "execution_count": 26,
   "metadata": {},
   "outputs": [
    {
     "data": {
      "text/plain": [
       "<matplotlib.collections.PathCollection at 0x7fddf87bb400>"
      ]
     },
     "execution_count": 26,
     "metadata": {},
     "output_type": "execute_result"
    },
    {
     "data": {
      "image/png": "[encoded data removed]",
      "text/plain": [
       "<Figure size 432x288 with 1 Axes>"
      ]
     },
     "metadata": {
      "needs_background": "light"
     },
     "output_type": "display_data"
    }
   ],
   "source": [
    "plt.scatter(X, y)"
   ]
  },
  {
   "cell_type": "markdown",
   "metadata": {},
   "source": [
    "#### How should you change the activation function to fit a regression problem???"
   ]
  },
  {
   "cell_type": "code",
   "execution_count": 27,
   "metadata": {},
   "outputs": [],
   "source": [
    "# implement the perceptron class here for regression\n",
    "\n",
    "class Perceptron:\n",
    "    # N is the length of are input feature \n",
    "    # alpha learning rate\n",
    "    def __init__(self, N, alpha=0.1):\n",
    "        # initialize the weight matrix and store the learning rate\n",
    "        self.W = np.random.randn(N ) / np.sqrt(N)\n",
    "        self.N = N\n",
    "        self.alpha = alpha\n",
    "        \n",
    "        \n",
    "    def step(self, x):\n",
    "        # apply a linear activation\n",
    "        return x if x > 0 else 0\n",
    "    \n",
    "    def fit(self, X, y, epochs=10, addBias=True):\n",
    "        # insert a column of 1's as the last entry in the feature\n",
    "        # matrix -- this little trick allows us to treat the bias\n",
    "        # as a trainable parameter within the weight matrix\n",
    "        if addBias:\n",
    "            print(addBias)\n",
    "            X = np.c_[X, np.ones((X.shape[0]))]\n",
    "            self.W = np.random.randn(self.N+1) / np.sqrt(self.N)\n",
    "            \n",
    "        # loop over the desired number of epochs\n",
    "        w = self.W\n",
    "       \n",
    "        for epoch in np.arange(0, epochs):\n",
    "        # loop over each individual data point\n",
    "            for (x, target) in zip(X, y):\n",
    "            # take the dot product between the input features\n",
    "            # and the weight matrix, then pass this value\n",
    "            # through the step function to obtain the prediction\n",
    "                p = self.step(np.dot(x, self.W))\n",
    "                # perform weight update if prediction\n",
    "                # does not match trget\n",
    "                #if p != target:\n",
    "                    # calculate delta\n",
    "                delta = p - target\n",
    "                    # update the weight matrix\n",
    "                self.W += -self.alpha * delta * x\n",
    "            w = np.append(w,[self.W])\n",
    "                   \n",
    "        return w\n",
    "    \n",
    "    def predict(self, X, addBias=True):\n",
    "        # ensure our input is a matrix\n",
    "        X = np.atleast_2d(X)\n",
    "        \n",
    "        \n",
    "        # check to see if the bias column should be added\n",
    "        if addBias:\n",
    "            # insert a column of 1's as the last entry in the feature\n",
    "            # matrix (bias)\n",
    "            X = np.c_[X, np.ones((X.shape[0]))]\n",
    "            # take the dot product between the input features and the\n",
    "            # weight matrix, then pass the value through the step\n",
    "            # function\n",
    "        \n",
    "        return self.step(np.dot(X, self.W))"
   ]
  },
  {
   "cell_type": "code",
   "execution_count": 28,
   "metadata": {},
   "outputs": [
    {
     "name": "stdout",
     "output_type": "stream",
     "text": [
      "True\n",
      "training perceptron...\n"
     ]
    }
   ],
   "source": [
    "# define our perceptron and train it with and without bias\n",
    "\n",
    "p = Perceptron(1, alpha=0.1)\n",
    "w=p.fit(X, y, epochs=20,addBias=True)\n",
    "print(\"training perceptron...\")\n"
   ]
  },
  {
   "cell_type": "code",
   "execution_count": 29,
   "metadata": {},
   "outputs": [
    {
     "name": "stdout",
     "output_type": "stream",
     "text": [
      "(10,)\n"
     ]
    },
    {
     "data": {
      "text/plain": [
       "[<matplotlib.lines.Line2D at 0x7fddf8f09470>]"
      ]
     },
     "execution_count": 29,
     "metadata": {},
     "output_type": "execute_result"
    },
    {
     "data": {
      "image/png": "[encoded data removed]",
      "text/plain": [
       "<Figure size 432x288 with 1 Axes>"
      ]
     },
     "metadata": {
      "needs_background": "light"
     },
     "output_type": "display_data"
    }
   ],
   "source": [
    "# PLOT DATA AS ABOVE AND ADD A PLOT OF THE PREDICTION\n",
    "### ENTER YOUR CODE HERE\n",
    "plt.scatter(X,y)\n",
    "x = np.arange(0,1,0.1)\n",
    "print(x.shape)\n",
    "predictions=[]\n",
    "for xx in x:\n",
    "    pred=p.predict(xx,addBias=True)\n",
    "    predictions.append(pred)\n",
    "plt.plot(x,predictions,c=\"red\")    "
   ]
  },
  {
   "cell_type": "code",
   "execution_count": 21,
   "metadata": {},
   "outputs": [
    {
     "name": "stdout",
     "output_type": "stream",
     "text": [
      "training perceptron...\n",
      "(10,)\n"
     ]
    },
    {
     "data": {
      "text/plain": [
       "[<matplotlib.lines.Line2D at 0x7fdc791486d8>]"
      ]
     },
     "execution_count": 21,
     "metadata": {},
     "output_type": "execute_result"
    },
    {
     "data": {
      "image/png": "[encoded data removed]",
      "text/plain": [
       "<Figure size 432x288 with 1 Axes>"
      ]
     },
     "metadata": {
      "needs_background": "light"
     },
     "output_type": "display_data"
    }
   ],
   "source": [
    "# define our perceptron and train it\n",
    "\n",
    "p = Perceptron(1, alpha=0.1)\n",
    "w=p.fit(X, y, epochs=20,addBias=False)\n",
    "print(\"training perceptron...\")\n",
    "# PLOT DATA AS ABOVE AND ADD A PLOT OF THE PREDICTION\n",
    "### ENTER YOUR CODE HERE\n",
    "plt.scatter(X,y)\n",
    "x = np.arange(0,1,0.1)\n",
    "print(x.shape)\n",
    "predictions=[]\n",
    "for xx in x:\n",
    "    pred=p.predict(xx,addBias=False)\n",
    "    predictions.append(pred)\n",
    "plt.plot(x,predictions,c=\"red\")    "
   ]
  },
  {
   "cell_type": "markdown",
   "metadata": {},
   "source": [
    "### repeat the training without the normalization of the data, what happend?"
   ]
  },
  {
   "cell_type": "code",
   "execution_count": 33,
   "metadata": {},
   "outputs": [],
   "source": [
    "X = np.arange (0,100,1)\n",
    "noise = np.random.normal(loc=0.0, scale=5, size=100)\n",
    "y = 70 + 1.2*X + noise\n",
    "\n",
    "# normalization of inputs and lables \n",
    "# y=y/np.max(X)\n",
    "# X=X/np.max(X)"
   ]
  },
  {
   "cell_type": "code",
   "execution_count": 38,
   "metadata": {},
   "outputs": [
    {
     "name": "stdout",
     "output_type": "stream",
     "text": [
      "True\n",
      "training perceptron...\n",
      "(10,)\n"
     ]
    },
    {
     "data": {
      "text/plain": [
       "[<matplotlib.lines.Line2D at 0x7fddf7f37be0>]"
      ]
     },
     "execution_count": 38,
     "metadata": {},
     "output_type": "execute_result"
    },
    {
     "data": {
      "image/png": "[encoded data removed]",
      "text/plain": [
       "<Figure size 432x288 with 1 Axes>"
      ]
     },
     "metadata": {
      "needs_background": "light"
     },
     "output_type": "display_data"
    }
   ],
   "source": [
    "# define our perceptron and train it\n",
    "\n",
    "p = Perceptron(1, alpha=0.01)\n",
    "w=p.fit(X, y, epochs=50,addBias=True)\n",
    "print(\"training perceptron...\")\n",
    "# PLOT DATA AS ABOVE AND ADD A PLOT OF THE PREDICTION\n",
    "### ENTER YOUR CODE HERE\n",
    "plt.scatter(X,y)\n",
    "x = np.arange(0,1,0.1)\n",
    "print(x.shape)\n",
    "predictions=[]\n",
    "for xx in x:\n",
    "    pred=p.predict(xx,addBias=True)\n",
    "    predictions.append(pred)\n",
    "plt.plot(x,predictions,c=\"red\")  "
   ]
  },
  {
   "cell_type": "code",
   "execution_count": 39,
   "metadata": {},
   "outputs": [
    {
     "data": {
      "text/plain": [
       "[<matplotlib.lines.Line2D at 0x7fddf7f64438>]"
      ]
     },
     "execution_count": 39,
     "metadata": {},
     "output_type": "execute_result"
    },
    {
     "data": {
      "image/png": "[encoded data removed]",
      "text/plain": [
       "<Figure size 432x288 with 1 Axes>"
      ]
     },
     "metadata": {
      "needs_background": "light"
     },
     "output_type": "display_data"
    }
   ],
   "source": [
    "# PLOT THE WEIGHTS AS A FUNCTION OF TRAINING\n",
    "plt.plot(w[0:len(w):2])\n",
    "plt.plot(w[1:len(w):2])"
   ]
  },
  {
   "cell_type": "code",
   "execution_count": null,
   "metadata": {},
   "outputs": [],
   "source": []
  }
 ],
 "metadata": {
  "kernelspec": {
   "display_name": "Python 3",
   "language": "python",
   "name": "python3"
  },
  "language_info": {
   "codemirror_mode": {
    "name": "ipython",
    "version": 3
   },
   "file_extension": ".py",
   "mimetype": "text/x-python",
   "name": "python",
   "nbconvert_exporter": "python",
   "pygments_lexer": "ipython3",
   "version": "3.6.9"
  }
 },
 "nbformat": 4,
 "nbformat_minor": 2
}
