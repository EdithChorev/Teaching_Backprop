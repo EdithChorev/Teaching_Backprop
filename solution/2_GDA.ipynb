{
 "cells": [
  {
   "cell_type": "markdown",
   "metadata": {},
   "source": [
    "# DSR 20 - Backprop course\n",
    "\n",
    "## 2. perceptron backprop\n",
    "\n"
   ]
  },
  {
   "cell_type": "code",
   "execution_count": 1,
   "metadata": {},
   "outputs": [],
   "source": [
    "from sklearn.model_selection import train_test_split\n",
    "from sklearn.metrics import classification_report\n",
    "from sklearn.datasets import make_blobs\n",
    "import matplotlib.pyplot as plt\n",
    "import numpy as np"
   ]
  },
  {
   "cell_type": "code",
   "execution_count": 2,
   "metadata": {},
   "outputs": [],
   "source": [
    "class Perceptron:\n",
    "    def __init__(self, N,alpha=0.1):\n",
    "        # initialize the weight matrix and store the learning rate\n",
    "        self.W = np.random.randn(N, 1)\n",
    "        self.alpha = alpha\n",
    "        \n",
    "\n",
    "    def sigmoid_activation(self, x):\n",
    "        # compute the sigmoid activation value for a given input\n",
    "        return 1.0 / (1 + np.exp(-x))\n",
    "\n",
    "    def sigmoid_deriv(self, x):\n",
    "        # compute the derivative of the sigmoid function ASSUMING\n",
    "        # that the input `x` has already been passed through the sigmoid\n",
    "        # activation function\n",
    "        return x * (1 - x)\n",
    "\n",
    "    \n",
    "    def predict(self,X):\n",
    "        # take the dot product between our features and weight matrix\n",
    "        preds = self.sigmoid_activation(X.dot(self.W))\n",
    "        \n",
    "        # return the predictions\n",
    "        return preds\n",
    "            \n",
    "    def fit(self, X, y,epochs):\n",
    "        # initialize our weight matrix and list of losses\n",
    "        print(\"training...\")\n",
    "       \n",
    "        losses = []\n",
    "        # loop over the desired number of epochs\n",
    "        for e in np.arange(0, epochs):\n",
    "            \n",
    "            preds = self.predict(X)\n",
    "            # now that we have our predictions, we need to determine the\n",
    "            # `error`, which is the difference between our predictions and\n",
    "            # the true values\n",
    "            error = preds - y\n",
    "            loss = 0.5*np.sum(error ** 2)\n",
    "            losses.append(loss)\n",
    "            # the gradient descent update is the dot product between our\n",
    "            # (1) features and (2) the error of the sigmoid derivative of\n",
    "            # our predictions\n",
    "            d = error * self.sigmoid_deriv(preds)\n",
    "            gradient = np.dot(X.T,d)#X.T.dot(d)\n",
    "            # in the update stage, all we need to do is \"nudge\" the weight\n",
    "            # matrix in the negative direction of the gradient (hence the\n",
    "            # term \"gradient descent\" by taking a small step towards a set\n",
    "            # of \"more optimal\" parameters\n",
    "            self.W += -self.alpha * gradient\n",
    "            # check to see if an update should be displayed\n",
    "            if e == 0 or (e + 1) % 1 == 0:\n",
    "                print(\"epoch= \",int(e+1),\", loss= \",loss)\n",
    "        return losses"
   ]
  },
  {
   "cell_type": "code",
   "execution_count": 3,
   "metadata": {},
   "outputs": [],
   "source": [
    "# generate a 2-class classification problem with 1,000 data points,\n",
    "# where each data point is a 2D feature vector\n",
    "(X, y) = make_blobs(n_samples=1600, n_features=2, centers=2,\n",
    "cluster_std=1.5, random_state=42)\n",
    "y = y.reshape((y.shape[0], 1))\n",
    "\n",
    "# insert a column of 1's as the last entry in the feature\n",
    "# matrix -- so we can train the bias as part of the weights\n",
    "X = np.c_[X, np.ones((X.shape[0]))]\n",
    "          \n",
    "# partition the data into training and testing splits using 50% of\n",
    "# the data for training and the remaining 50% for testing\n",
    "(trainX, testX, trainY, testY) = train_test_split(X, y, test_size=0.5, random_state=42)"
   ]
  },
  {
   "cell_type": "code",
   "execution_count": 4,
   "metadata": {},
   "outputs": [
    {
     "name": "stdout",
     "output_type": "stream",
     "text": [
      "training...\n",
      "epoch=  1 , loss=  91.13551704787749\n",
      "epoch=  2 , loss=  76.19374473195165\n",
      "epoch=  3 , loss=  0.9691236499599607\n",
      "epoch=  4 , loss=  0.9176499018987675\n",
      "epoch=  5 , loss=  0.8707032382548701\n",
      "epoch=  6 , loss=  0.8280178326559082\n",
      "epoch=  7 , loss=  0.7893121501144846\n",
      "epoch=  8 , loss=  0.7542955748885684\n",
      "epoch=  9 , loss=  0.7226765078666486\n",
      "epoch=  10 , loss=  0.6941701057539851\n",
      "epoch=  11 , loss=  0.6685045723793712\n",
      "epoch=  12 , loss=  0.6454255467024322\n",
      "epoch=  13 , loss=  0.624698580062399\n",
      "epoch=  14 , loss=  0.6061099552834148\n",
      "epoch=  15 , loss=  0.5894662133632671\n",
      "epoch=  16 , loss=  0.5745927711409151\n",
      "epoch=  17 , loss=  0.5613319795526285\n",
      "epoch=  18 , loss=  0.5495409169943277\n",
      "epoch=  19 , loss=  0.5390891528908888\n",
      "epoch=  20 , loss=  0.5298566602002457\n",
      "epoch=  21 , loss=  0.5217320039788163\n",
      "epoch=  22 , loss=  0.5146108856756485\n",
      "epoch=  23 , loss=  0.5083950787598184\n",
      "epoch=  24 , loss=  0.502991750933632\n",
      "epoch=  25 , loss=  0.49831313315272996\n",
      "epoch=  26 , loss=  0.4942764683801554\n",
      "epoch=  27 , loss=  0.49080415577716985\n",
      "epoch=  28 , loss=  0.48782400020679073\n",
      "epoch=  29 , loss=  0.4852694822138471\n",
      "epoch=  30 , loss=  0.4830799780645917\n",
      "epoch=  31 , loss=  0.4812008797216598\n",
      "epoch=  32 , loss=  0.47958358702054604\n",
      "epoch=  33 , loss=  0.478185365321102\n",
      "epoch=  34 , loss=  0.4769690789670358\n",
      "epoch=  35 , loss=  0.47590282263997863\n",
      "epoch=  36 , loss=  0.4749594789486288\n",
      "epoch=  37 , loss=  0.4741162320396153\n",
      "epoch=  38 , loss=  0.4733540648527388\n",
      "epoch=  39 , loss=  0.4726572632127211\n",
      "epoch=  40 , loss=  0.4720129444749992\n",
      "epoch=  41 , loss=  0.4714106228758558\n",
      "epoch=  42 , loss=  0.47084181871112585\n",
      "epoch=  43 , loss=  0.4702997143246237\n",
      "epoch=  44 , loss=  0.46977885674021513\n",
      "epoch=  45 , loss=  0.46927490457786997\n",
      "epoch=  46 , loss=  0.4687844155233867\n",
      "epoch=  47 , loss=  0.4683046699062639\n",
      "epoch=  48 , loss=  0.4678335257108474\n",
      "epoch=  49 , loss=  0.46736930045103053\n",
      "epoch=  50 , loss=  0.4669106756543242\n",
      "epoch=  51 , loss=  0.46645662013205147\n",
      "epoch=  52 , loss=  0.46600632869046377\n",
      "epoch=  53 , loss=  0.46555917341674036\n",
      "epoch=  54 , loss=  0.46511466512548894\n",
      "epoch=  55 , loss=  0.46467242295978367\n",
      "epoch=  56 , loss=  0.4642321504990561\n",
      "epoch=  57 , loss=  0.46379361703332583\n",
      "epoch=  58 , loss=  0.46335664292192286\n",
      "epoch=  59 , loss=  0.4629210881695247\n",
      "epoch=  60 , loss=  0.4624868435284264\n",
      "epoch=  61 , loss=  0.4620538235790067\n",
      "epoch=  62 , loss=  0.46162196135562045\n",
      "epoch=  63 , loss=  0.4611912041774012\n",
      "epoch=  64 , loss=  0.46076151041686947\n",
      "epoch=  65 , loss=  0.46033284699738136\n",
      "epoch=  66 , loss=  0.4599051874563086\n",
      "epoch=  67 , loss=  0.459478510446872\n",
      "epoch=  68 , loss=  0.4590527985797985\n",
      "epoch=  69 , loss=  0.4586280375280345\n",
      "epoch=  70 , loss=  0.458204215334964\n",
      "epoch=  71 , loss=  0.45778132187998605\n",
      "epoch=  72 , loss=  0.4573593484657107\n",
      "epoch=  73 , loss=  0.456938287499125\n",
      "epoch=  74 , loss=  0.45651813224534477\n",
      "epoch=  75 , loss=  0.456098876637425\n",
      "epoch=  76 , loss=  0.45568051512945584\n",
      "epoch=  77 , loss=  0.4552630425830816\n",
      "epoch=  78 , loss=  0.4548464541798248\n",
      "epoch=  79 , loss=  0.45443074535333294\n",
      "epoch=  80 , loss=  0.45401591173700845\n",
      "epoch=  81 , loss=  0.45360194912351637\n",
      "epoch=  82 , loss=  0.45318885343346266\n",
      "epoch=  83 , loss=  0.45277662069115754\n",
      "epoch=  84 , loss=  0.4523652470058479\n",
      "epoch=  85 , loss=  0.45195472855717816\n",
      "epoch=  86 , loss=  0.45154506158391394\n",
      "epoch=  87 , loss=  0.45113624237519107\n",
      "epoch=  88 , loss=  0.4507282672637136\n",
      "epoch=  89 , loss=  0.4503211326204602\n",
      "epoch=  90 , loss=  0.4499148348505563\n",
      "epoch=  91 , loss=  0.4495093703900473\n",
      "epoch=  92 , loss=  0.4491047357033695\n",
      "epoch=  93 , loss=  0.44870092728136307\n",
      "epoch=  94 , loss=  0.44829794163969927\n",
      "epoch=  95 , loss=  0.4478957753176338\n",
      "epoch=  96 , loss=  0.4474944248770113\n",
      "epoch=  97 , loss=  0.44709388690146173\n",
      "epoch=  98 , loss=  0.44669415799575096\n",
      "epoch=  99 , loss=  0.4462952347852448\n",
      "epoch=  100 , loss=  0.4458971139154667\n"
     ]
    }
   ],
   "source": [
    "epochs = 100\n",
    "alpha = 0.01\n",
    "p = Perceptron(3,alpha=alpha)\n",
    "losses = p.fit(trainX, trainY, epochs=epochs)"
   ]
  },
  {
   "cell_type": "code",
   "execution_count": 5,
   "metadata": {},
   "outputs": [
    {
     "name": "stdout",
     "output_type": "stream",
     "text": [
      "evaluating...\n",
      "              precision    recall  f1-score   support\n",
      "\n",
      "           0       0.99      1.00      1.00       403\n",
      "           1       1.00      0.99      1.00       397\n",
      "\n",
      "    accuracy                           1.00       800\n",
      "   macro avg       1.00      1.00      1.00       800\n",
      "weighted avg       1.00      1.00      1.00       800\n",
      "\n"
     ]
    }
   ],
   "source": [
    "# evaluate our model\n",
    "print(\"evaluating...\")\n",
    "preds = p.predict(testX)\n",
    "# apply a step function to threshold the outputs to binary\n",
    "# class labels\n",
    "preds[preds <= 0.5] = 0\n",
    "preds[preds > 0] = 1\n",
    "print(classification_report(testY, preds))"
   ]
  },
  {
   "cell_type": "code",
   "execution_count": 6,
   "metadata": {},
   "outputs": [
    {
     "data": {
      "text/plain": [
       "<matplotlib.collections.PathCollection at 0x7fc56628b3c8>"
      ]
     },
     "execution_count": 6,
     "metadata": {},
     "output_type": "execute_result"
    },
    {
     "data": {
      "image/png": "[encoded data removed]",
      "text/plain": [
       "<Figure size 432x288 with 1 Axes>"
      ]
     },
     "metadata": {
      "needs_background": "light"
     },
     "output_type": "display_data"
    }
   ],
   "source": [
    "plt.scatter(testX[:, 0], testX[:, 1], marker=\"o\", c=testY[:, 0], s=30)"
   ]
  },
  {
   "cell_type": "code",
   "execution_count": 7,
   "metadata": {},
   "outputs": [
    {
     "data": {
      "image/png": "[encoded data removed]",
      "text/plain": [
       "<Figure size 432x288 with 1 Axes>"
      ]
     },
     "metadata": {
      "needs_background": "light"
     },
     "output_type": "display_data"
    }
   ],
   "source": [
    "plt.plot(np.arange(0, epochs), losses)\n",
    "plt.title(\"Training Loss\")\n",
    "plt.xlabel(\"Epoch #\")\n",
    "plt.ylabel(\"Loss\")\n",
    "plt.show()"
   ]
  },
  {
   "cell_type": "markdown",
   "metadata": {},
   "source": [
    "### Gradient Descent can be very slow and wasteful.\n",
    "#### Especially if you are dealing with big data sets the computation becomes very coastly, yielding huge matrix calculations \n",
    "$$ W \\cdot{X}   $$\n",
    "#### the following is a more efficient way to perform GD with faster convergence.\n",
    "\n",
    "## Stochastic Gradient descent\n",
    "### instead of updating the weights on an entire epoch we do more updates on mini-batches of data.\n",
    "\n",
    "#### implement sgd in out perceptron class (batches of 16)"
   ]
  },
  {
   "cell_type": "code",
   "execution_count": 8,
   "metadata": {},
   "outputs": [],
   "source": [
    "class Perceptron:\n",
    "    def __init__(self, N,alpha=0.1):\n",
    "        # initialize the weight matrix and store the learning rate\n",
    "        self.W = np.random.randn(N, 1)\n",
    "        self.alpha = alpha\n",
    "        \n",
    "\n",
    "    def sigmoid_activation(self, x):\n",
    "        # compute the sigmoid activation value for a given input\n",
    "        return 1.0 / (1 + np.exp(-x))\n",
    "\n",
    "    def sigmoid_deriv(self, x):\n",
    "        # compute the derivative of the sigmoid function ASSUMING\n",
    "        # that the input `x` has already been passed through the sigmoid\n",
    "        # activation function\n",
    "        return x * (1 - x)\n",
    "\n",
    "    \n",
    "    def predict(self,X):\n",
    "        # take the dot product between our features and weight matrix\n",
    "        preds = self.sigmoid_activation(X.dot(self.W))\n",
    "        \n",
    "        # return the predictions\n",
    "        return preds\n",
    "            \n",
    "    def fit(self, X, y,epochs):\n",
    "        # initialize our weight matrix and list of losses\n",
    "        print(\"training...\")\n",
    "        x=np.split(X,len(X)/16,axis=0)\n",
    "        print(np.array(x).shape)\n",
    "        yy=np.split(y,len(X)/16,axis=0)\n",
    "        losses = []\n",
    "        # loop over the desired number of epochs\n",
    "        for e in np.arange(0, epochs):\n",
    "            for ind,batch in enumerate(x):\n",
    "                preds = self.predict(batch)\n",
    "                # now that we have our predictions, we need to determine the\n",
    "                # `error`, which is the difference between our predictions and\n",
    "                # the true values\n",
    "                error = preds - yy[ind]\n",
    "                loss = 0.5*np.sum(error ** 2)\n",
    "                losses.append(loss)\n",
    "                # the gradient descent update is the dot product between our\n",
    "                # (1) features and (2) the error of the sigmoid derivative of\n",
    "                # our predictions\n",
    "                d = error * self.sigmoid_deriv(preds)\n",
    "                gradient = np.dot(batch.T,d)#X.T.dot(d)\n",
    "                # in the update stage, all we need to do is \"nudge\" the weight\n",
    "                # matrix in the negative direction of the gradient (hence the\n",
    "                # term \"gradient descent\" by taking a small step towards a set\n",
    "                # of \"more optimal\" parameters\n",
    "                self.W += -self.alpha * gradient\n",
    "                # check to see if an update should be displayed\n",
    "            # randomize the data between epochs\n",
    "            idx=np.random.permutation(len(X))\n",
    "            X=np.array(X)[idx]\n",
    "            y=np.array(y)[idx]\n",
    "            x=np.split(X,len(X)/16,axis=0)\n",
    "            yy=np.split(y,len(X)/16,axis=0)\n",
    "            if e == 0 or (e + 1) % 1 == 0:\n",
    "                print(\"epoch= \",int(e+1),\", loss= \",loss)\n",
    "        return losses"
   ]
  },
  {
   "cell_type": "code",
   "execution_count": 9,
   "metadata": {},
   "outputs": [
    {
     "name": "stdout",
     "output_type": "stream",
     "text": [
      "training...\n",
      "(50, 16, 3)\n",
      "epoch=  1 , loss=  0.09354599150987565\n",
      "epoch=  2 , loss=  0.046225660680318886\n",
      "epoch=  3 , loss=  0.09786261955217204\n",
      "epoch=  4 , loss=  0.03772329637289596\n",
      "epoch=  5 , loss=  0.05526827499639417\n",
      "epoch=  6 , loss=  0.11569610233037407\n",
      "epoch=  7 , loss=  0.022818435729192982\n",
      "epoch=  8 , loss=  0.10619795930511122\n",
      "epoch=  9 , loss=  0.00811931832874289\n",
      "epoch=  10 , loss=  0.06133111763385829\n",
      "epoch=  11 , loss=  0.14378790370485356\n",
      "epoch=  12 , loss=  0.000254057851030873\n",
      "epoch=  13 , loss=  0.06156215292755211\n",
      "epoch=  14 , loss=  0.012549263480790366\n",
      "epoch=  15 , loss=  0.0019779722481292335\n",
      "epoch=  16 , loss=  0.09106487206194928\n",
      "epoch=  17 , loss=  0.002491032591276753\n",
      "epoch=  18 , loss=  0.02440200884012877\n",
      "epoch=  19 , loss=  0.0222438757078122\n",
      "epoch=  20 , loss=  0.022252319742734297\n",
      "epoch=  21 , loss=  0.006346088056704514\n",
      "epoch=  22 , loss=  0.00030379452440461877\n",
      "epoch=  23 , loss=  0.027523790178762896\n",
      "epoch=  24 , loss=  0.003523135568306771\n",
      "epoch=  25 , loss=  0.0002453445230838665\n",
      "epoch=  26 , loss=  0.03347927877833967\n",
      "epoch=  27 , loss=  0.0011507102775016463\n",
      "epoch=  28 , loss=  0.018272257036841176\n",
      "epoch=  29 , loss=  0.0016906276411176322\n",
      "epoch=  30 , loss=  0.014223716751693125\n",
      "epoch=  31 , loss=  0.008473714795051523\n",
      "epoch=  32 , loss=  0.00042225425351438966\n",
      "epoch=  33 , loss=  0.06988052983461461\n",
      "epoch=  34 , loss=  0.00893981603805682\n",
      "epoch=  35 , loss=  0.001797920486491958\n",
      "epoch=  36 , loss=  0.01230873229719974\n",
      "epoch=  37 , loss=  0.03721734948488726\n",
      "epoch=  38 , loss=  0.015335201268649066\n",
      "epoch=  39 , loss=  5.404488734936946e-05\n",
      "epoch=  40 , loss=  0.01824244694585946\n",
      "epoch=  41 , loss=  0.002358857674723429\n",
      "epoch=  42 , loss=  1.6017559116640596e-05\n",
      "epoch=  43 , loss=  0.0007456248812760638\n",
      "epoch=  44 , loss=  0.025470620600857002\n",
      "epoch=  45 , loss=  4.7859141469177454e-05\n",
      "epoch=  46 , loss=  0.010979839447621324\n",
      "epoch=  47 , loss=  0.012533298749583708\n",
      "epoch=  48 , loss=  0.022582111247261245\n",
      "epoch=  49 , loss=  0.04138640242230219\n",
      "epoch=  50 , loss=  0.0007889023364320384\n",
      "epoch=  51 , loss=  9.489812199316374e-05\n",
      "epoch=  52 , loss=  0.279193899034286\n",
      "epoch=  53 , loss=  3.152189600763725e-05\n",
      "epoch=  54 , loss=  0.009536955688014694\n",
      "epoch=  55 , loss=  0.0019179550880284685\n",
      "epoch=  56 , loss=  8.603547705294498e-06\n",
      "epoch=  57 , loss=  8.105303934714345e-05\n",
      "epoch=  58 , loss=  0.0004250362780812069\n",
      "epoch=  59 , loss=  0.00030093467288911405\n",
      "epoch=  60 , loss=  0.002497575454428033\n",
      "epoch=  61 , loss=  0.0003996058367708337\n",
      "epoch=  62 , loss=  0.00033704351304362026\n",
      "epoch=  63 , loss=  0.004509564795762237\n",
      "epoch=  64 , loss=  5.098158078739474e-06\n",
      "epoch=  65 , loss=  0.056713823304302226\n",
      "epoch=  66 , loss=  0.0015013469579833265\n",
      "epoch=  67 , loss=  0.007651686614962088\n",
      "epoch=  68 , loss=  0.010935981189359989\n",
      "epoch=  69 , loss=  0.00016332596470654737\n",
      "epoch=  70 , loss=  0.003149599634326086\n",
      "epoch=  71 , loss=  3.2500427534632294e-05\n",
      "epoch=  72 , loss=  0.028693355248338798\n",
      "epoch=  73 , loss=  0.00010307712412558896\n",
      "epoch=  74 , loss=  0.00686485387890645\n",
      "epoch=  75 , loss=  2.4838549039071458e-05\n",
      "epoch=  76 , loss=  0.00011534172013166986\n",
      "epoch=  77 , loss=  0.0740924217915185\n",
      "epoch=  78 , loss=  4.477646440126798e-05\n",
      "epoch=  79 , loss=  0.00020996626240468234\n",
      "epoch=  80 , loss=  0.0007780549774954796\n",
      "epoch=  81 , loss=  0.00146130763599953\n",
      "epoch=  82 , loss=  1.6222530832492317e-06\n",
      "epoch=  83 , loss=  0.00557178084475025\n",
      "epoch=  84 , loss=  0.000229517344074706\n",
      "epoch=  85 , loss=  0.007129088248997191\n",
      "epoch=  86 , loss=  2.0039743310101095e-05\n",
      "epoch=  87 , loss=  3.116984140575359e-05\n",
      "epoch=  88 , loss=  0.01798221147102509\n",
      "epoch=  89 , loss=  0.0014185630516831014\n",
      "epoch=  90 , loss=  0.10119940787277354\n",
      "epoch=  91 , loss=  0.0003560080079146812\n",
      "epoch=  92 , loss=  0.001357036425714409\n",
      "epoch=  93 , loss=  0.00233932756746097\n",
      "epoch=  94 , loss=  0.017237547180130885\n",
      "epoch=  95 , loss=  0.00023962372168023533\n",
      "epoch=  96 , loss=  0.00016718307911388632\n",
      "epoch=  97 , loss=  3.3077143126695156e-05\n",
      "epoch=  98 , loss=  0.002265518887430419\n",
      "epoch=  99 , loss=  0.00023590430194777751\n",
      "epoch=  100 , loss=  0.0002492650532570849\n"
     ]
    }
   ],
   "source": [
    "epochs = 100\n",
    "alpha = 0.01\n",
    "p = Perceptron(3,alpha=alpha)\n",
    "losses2 = p.fit(trainX, trainY, epochs=epochs)"
   ]
  },
  {
   "cell_type": "code",
   "execution_count": 10,
   "metadata": {},
   "outputs": [
    {
     "data": {
      "image/png": "[encoded data removed]",
      "text/plain": [
       "<Figure size 432x288 with 1 Axes>"
      ]
     },
     "metadata": {
      "needs_background": "light"
     },
     "output_type": "display_data"
    }
   ],
   "source": [
    "plt.plot(np.arange(0, epochs), losses)\n",
    "plt.plot(np.arange(0, epochs), losses2[1:5000:50])\n",
    "plt.title(\"Training Loss\")\n",
    "plt.xlabel(\"Epoch #\")\n",
    "plt.ylabel(\"Loss\")\n",
    "plt.show()"
   ]
  },
  {
   "cell_type": "code",
   "execution_count": null,
   "metadata": {},
   "outputs": [],
   "source": []
  }
 ],
 "metadata": {
  "kernelspec": {
   "display_name": "Python 3",
   "language": "python",
   "name": "python3"
  },
  "language_info": {
   "codemirror_mode": {
    "name": "ipython",
    "version": 3
   },
   "file_extension": ".py",
   "mimetype": "text/x-python",
   "name": "python",
   "nbconvert_exporter": "python",
   "pygments_lexer": "ipython3",
   "version": "3.6.8"
  }
 },
 "nbformat": 4,
 "nbformat_minor": 2
}
